{
 "cells": [
  {
   "cell_type": "markdown",
   "metadata": {},
   "source": [
    "# Import Libraries and Packages\n",
    "\n",
    "In the cell below titled \"Importing Libraries\", you have to import all the libraries and packages required for the script to run. \\\n",
    "If there is an error, it generally means that you don't have that library in your computer.\n",
    "\n",
    "To install a library on your computer, use the following command on your Command Prompt or PowerShell or any other Terminal\n",
    "\n",
    "pip install library_name\n",
    "\n",
    "For eg:\n",
    "\n",
    "pip install numpy \\\n",
    "pip install matplotlib"
   ]
  },
  {
   "cell_type": "code",
   "execution_count": 1,
   "metadata": {
    "slideshow": {
     "slide_type": "slide"
    }
   },
   "outputs": [],
   "source": [
    "## IMPORTING LIBRARIES\n",
    "\n",
    "import traitlets\n",
    "import os\n",
    "import pandas as pd\n",
    "import matplotlib.pyplot as plt \n",
    "import numpy as np\n",
    "from numpy import genfromtxt\n",
    "import math\n",
    "from tkinter import Tk, filedialog\n",
    "from ipywidgets import *\n",
    "from IPython.display import clear_output, display, Javascript\n",
    "from IPython.core.display import display, HTML\n",
    "import PySimpleGUI as sg\n",
    "import csv\n",
    "import plotly.graph_objects as go\n",
    "import plotly.express as px\n",
    "\n",
    "import pytesseract\n",
    "import cv2\n",
    "import re\n",
    "\n",
    "from scipy.ndimage.filters import maximum_filter\n",
    "from scipy.ndimage.morphology import generate_binary_structure, binary_erosion\n",
    "\n",
    "from lmfit.models import LinearModel, LorentzianModel, QuadraticModel\n",
    "from mpl_toolkits import mplot3d\n",
    "from scipy.optimize import curve_fit\n",
    "from lmfit import Model\n",
    "import statistics\n",
    "from statistics import stdev\n",
    "from scipy.signal import find_peaks\n",
    "\n",
    "import photutils\n",
    "#import astropy.tablep\n",
    "\n",
    "from matplotlib.ticker import AutoMinorLocator\n",
    "from matplotlib import gridspec\n",
    "\n",
    "from matplotlib.ticker import MaxNLocator\n",
    "from matplotlib.figure import Figure\n",
    "\n",
    "\n",
    "%matplotlib inline"
   ]
  },
  {
   "cell_type": "markdown",
   "metadata": {},
   "source": [
    "# Defining Fucntions\n",
    "\n",
    "In the cells below we will define all the functions necessary in the code. \\\n",
    "There might be a few funcitons that aren't needed, but it is advised to just run all the cells below to aovid any confusion."
   ]
  },
  {
   "cell_type": "markdown",
   "metadata": {},
   "source": [
    "## Function for creating select files dialogue"
   ]
  },
  {
   "cell_type": "code",
   "execution_count": 2,
   "metadata": {},
   "outputs": [],
   "source": [
    "## FUNCTIONS:\n",
    "\n",
    "# Function for creating select files dialogue\n",
    "def select_files(b):\n",
    "    root = Tk()\n",
    "    root.withdraw()                                        # Hide the main window\n",
    "    root.call('wm', 'attributes', '.', '-topmost', True)   # Raise the root to the top of all windows.\n",
    "    b.files = filedialog.askopenfilename(multiple=True)    # List of selected fileswill be set to b.value\n",
    "    f = b.files\n",
    "    b.description = \"Files Selected\"\n",
    "    b.icon = \"check-square-o\"\n",
    "    b.style.button_color = \"lightgreen\"\n",
    "    #clear_output()\n",
    "    # Adding the dot variable helps you access the variable value outside the function.\n",
    "    select_files.selectfs = SelectMultiple(options=f, value=[f[0]], disabled=False, layout=Layout(width='100%', height='300px'))\n",
    "    print(\"Selected files:\")\n",
    "    display(select_files.selectfs) "
   ]
  },
  {
   "cell_type": "markdown",
   "metadata": {},
   "source": [
    "## Function for peak detection"
   ]
  },
  {
   "cell_type": "code",
   "execution_count": 3,
   "metadata": {},
   "outputs": [],
   "source": [
    "# Function for peak detection\n",
    "\n",
    "def detect_peaks(image):\n",
    "    \"\"\"\n",
    "    Takes an image and detect the peaks usingthe local maximum filter.\n",
    "    Returns a boolean mask of the peaks (i.e. 1 when\n",
    "    the pixel's value is the neighborhood maximum, 0 otherwise)\n",
    "    \"\"\"\n",
    "\n",
    "    # define an 8-connected neighborhood\n",
    "    neighborhood = generate_binary_structure(3,3)\n",
    "\n",
    "    #apply the local maximum filter; all pixel of maximal value \n",
    "    #in their neighborhood are set to 1\n",
    "    local_max = maximum_filter(image, footprint=neighborhood)==image\n",
    "    #local_max is a mask that contains the peaks we are \n",
    "    #looking for, but also the background.\n",
    "    #In order to isolate the peaks we must remove the background from the mask.\n",
    "\n",
    "    #we create the mask of the background\n",
    "    background = (image==0)\n",
    "\n",
    "    #a little technicality: we must erode the background in order to \n",
    "    #successfully subtract it form local_max, otherwise a line will \n",
    "    #appear along the background border (artifact of the local maximum filter)\n",
    "    eroded_background = binary_erosion(background, structure=neighborhood, border_value=1)\n",
    "\n",
    "    #we obtain the final mask, containing only peaks, \n",
    "    #by removing the background from the local_max mask (xor operation)\n",
    "    detected_peaks = local_max ^ eroded_background\n",
    "\n",
    "    return detected_peaks"
   ]
  },
  {
   "cell_type": "markdown",
   "metadata": {},
   "source": [
    "## Function 2 for peak detection"
   ]
  },
  {
   "cell_type": "code",
   "execution_count": 4,
   "metadata": {},
   "outputs": [],
   "source": [
    "# Function 2 for peak detection\n",
    "\n",
    "def peak2d(array):\n",
    "    '''This function finds the peak in a 2D array by the\n",
    "       recursive method.\n",
    "\n",
    "       Complexity: O(n log m)'''\n",
    "\n",
    "    n = len(array)\n",
    "    m = len(array[0])\n",
    "\n",
    "    j = m//2\n",
    "\n",
    "    row = [i[j] for i in array]\n",
    "\n",
    "    i = row.index(max(row))\n",
    "\n",
    "    print(i, j)\n",
    "\n",
    "    if j > 0 and array[i][j] < array[i][j-1]:\n",
    "        return peak2d([row[:j] for row in array])\n",
    "\n",
    "    elif j < m - 1 and array[i][j] < array[i][j+1]:\n",
    "        return peak2d([row[j:] for row in array])\n",
    "\n",
    "    else:\n",
    "        return i,j,array[i][j]"
   ]
  },
  {
   "cell_type": "markdown",
   "metadata": {},
   "source": [
    "## Function for distance calculation"
   ]
  },
  {
   "cell_type": "code",
   "execution_count": 5,
   "metadata": {},
   "outputs": [],
   "source": [
    "# Function for distance calculation\n",
    "\n",
    "def dist_calc(x,y,peak_x,peak_y):\n",
    "    \n",
    "    return np.sqrt((x-peak_x)**2 + (y-peak_y)**2)"
   ]
  },
  {
   "cell_type": "markdown",
   "metadata": {},
   "source": [
    "## Function for angle caluclaiton"
   ]
  },
  {
   "cell_type": "code",
   "execution_count": 6,
   "metadata": {},
   "outputs": [],
   "source": [
    "# Function for angle caluclaiton\n",
    "\n",
    "def ang_calc(x,y,dist,i,j,peak_x,peak_y):\n",
    "    \n",
    "    rel_x = x-peak_x\n",
    "    rel_y = y-peak_y\n",
    "    \n",
    "    num = rel_x[i]*rel_x[j] + rel_y[i]*rel_y[j]\n",
    "    den = dist[i]*dist[j]\n",
    "    frac = num/den\n",
    "    \n",
    "    return math.degrees(np.arccos(frac))\n",
    "    "
   ]
  },
  {
   "cell_type": "markdown",
   "metadata": {},
   "source": [
    "## Function for gaussian fitting"
   ]
  },
  {
   "cell_type": "code",
   "execution_count": 7,
   "metadata": {},
   "outputs": [],
   "source": [
    "# Function for gaussian fitting \n",
    "\n",
    "def gaussian_2d(xy_mesh, offset, amp, xc, yc, sigma_x, sigma_y):\n",
    "    \n",
    "    # unpack 1D list into 2D x and y coords\n",
    "    (x, y) = xy_mesh\n",
    "    \n",
    "    # make the 2D Gaussian matrix\n",
    "    gauss = offset+(amp*np.exp(-((x-xc)**2/(2*sigma_x**2)+(y-yc)**2/(2*sigma_y**2)))/(2*np.pi*sigma_x*sigma_y))\n",
    "    \n",
    "    # flatten the 2D Gaussian down to 1D\n",
    "    return np.ravel(gauss)"
   ]
  },
  {
   "cell_type": "markdown",
   "metadata": {},
   "source": [
    "## Function for radial integration"
   ]
  },
  {
   "cell_type": "code",
   "execution_count": 8,
   "metadata": {},
   "outputs": [],
   "source": [
    "# Function for radial integration\n",
    "\n",
    "def radial_profile(data, center):\n",
    "    y, x = np.indices((data.shape))\n",
    "    r = np.sqrt((x - center[0])**2 + (y - center[1])**2)\n",
    "    r = r.astype(np.int)\n",
    "\n",
    "    tbin = np.bincount(r.ravel(), data.ravel())\n",
    "    nr = np.bincount(r.ravel())\n",
    "    radialprofile = tbin / nr\n",
    "    return radialprofile "
   ]
  },
  {
   "cell_type": "markdown",
   "metadata": {},
   "source": [
    "## Function for stacking images beside each other"
   ]
  },
  {
   "cell_type": "code",
   "execution_count": 9,
   "metadata": {},
   "outputs": [],
   "source": [
    "# Function for stacking images beside each other\n",
    "\n",
    "def stackImages(scale,imgArray):\n",
    "    rows = len(imgArray)\n",
    "    cols = len(imgArray[0])\n",
    "    rowsAvailable = isinstance(imgArray[0], list)\n",
    "    width = imgArray[0][0].shape[1]\n",
    "    height = imgArray[0][0].shape[0]\n",
    "    if rowsAvailable:\n",
    "        for x in range ( 0, rows):\n",
    "            for y in range(0, cols):\n",
    "                if imgArray[x][y].shape[:2] == imgArray[0][0].shape [:2]:\n",
    "                    imgArray[x][y] = cv2.resize(imgArray[x][y], (0, 0), None, scale, scale)\n",
    "                else:\n",
    "                    imgArray[x][y] = cv2.resize(imgArray[x][y], (imgArray[0][0].shape[1], imgArray[0][0].shape[0]), None, scale, scale)\n",
    "                if len(imgArray[x][y].shape) == 2: imgArray[x][y]= cv2.cvtColor( imgArray[x][y], cv2.COLOR_GRAY2BGR)\n",
    "        imageBlank = np.zeros((height, width, 3), np.uint8)\n",
    "        hor = [imageBlank]*rows\n",
    "        hor_con = [imageBlank]*rows\n",
    "        for x in range(0, rows):\n",
    "            hor[x] = np.hstack(imgArray[x])\n",
    "        ver = np.vstack(hor)\n",
    "    else:\n",
    "        for x in range(0, rows):\n",
    "            if imgArray[x].shape[:2] == imgArray[0].shape[:2]:\n",
    "                imgArray[x] = cv2.resize(imgArray[x], (0, 0), None, scale, scale)\n",
    "            else:\n",
    "                imgArray[x] = cv2.resize(imgArray[x], (imgArray[0].shape[1], imgArray[0].shape[0]), None,scale, scale)\n",
    "            if len(imgArray[x].shape) == 2: imgArray[x] = cv2.cvtColor(imgArray[x], cv2.COLOR_GRAY2BGR)\n",
    "        hor= np.hstack(imgArray)\n",
    "        ver = hor\n",
    "    return ver"
   ]
  },
  {
   "cell_type": "markdown",
   "metadata": {},
   "source": [
    "## Empty function"
   ]
  },
  {
   "cell_type": "code",
   "execution_count": 10,
   "metadata": {},
   "outputs": [],
   "source": [
    "# Empty function\n",
    "\n",
    "def empty(a):\n",
    "    pass"
   ]
  },
  {
   "cell_type": "markdown",
   "metadata": {},
   "source": [
    "## Function for phase detection"
   ]
  },
  {
   "cell_type": "code",
   "execution_count": 11,
   "metadata": {},
   "outputs": [],
   "source": [
    "# Function for phase detection\n",
    "\n",
    "def phase_detect(index_file_path,invdis):\n",
    "    \n",
    "    index_data = genfromtxt(index_file_path, delimiter=',')\n",
    "\n",
    "    d_spacing_A = np.array(index_data[1:,0])\n",
    "    i_h = np.array(index_data[1:,1])\n",
    "    i_k = np.array(index_data[1:,2])\n",
    "    i_l = np.array(index_data[1:,3])\n",
    "    #i_label = np.array(index_data[1:,4])\n",
    "\n",
    "    d_diff = np.zeros(shape=(len(invdis),len(d_spacing_A)),dtype=np.float64)\n",
    "    p_d_used = np.zeros(shape=(len(invdis)),dtype=np.float64)\n",
    "    p_d_diff = np.zeros(shape=(len(invdis)),dtype=np.float64)\n",
    "    p_h = np.zeros(shape=(len(invdis)),dtype=np.int32)\n",
    "    p_k = np.zeros(shape=(len(invdis)),dtype=np.int32)\n",
    "    p_l = np.zeros(shape=(len(invdis)),dtype=np.int32)\n",
    "    p_ind = np.zeros(shape=(len(invdis),3),dtype=np.int32)\n",
    "    p_d_diff_short = np.zeros(shape=(int(len(invdis)/2)),dtype=np.float64)\n",
    "    #p_label = []\n",
    "\n",
    "    for i in range(len(invdis)):\n",
    "        d_diff[i,:] = abs(10*invdis[i]-d_spacing_A)\n",
    "        i_min = np.argmin(d_diff[i,:])\n",
    "        #print(i_min)\n",
    "        p_d_used[i] = d_spacing_A[i_min]\n",
    "        p_d_diff[i] = d_diff[i,i_min]\n",
    "        p_h[i] = i_h[i_min]\n",
    "        p_k[i] = i_k[i_min]\n",
    "        p_l[i] = i_l[i_min]\n",
    "        p_ind[i] = [p_h[i],p_k[i],p_l[i]]\n",
    "        \n",
    "    for i in range(int(len(invdis)/2)):\n",
    "        p_d_diff_short[i] = p_d_diff[i]\n",
    "        \n",
    "    #fields=['first','second','third']\n",
    "    \n",
    "    return p_d_diff_short, p_ind"
   ]
  },
  {
   "cell_type": "markdown",
   "metadata": {},
   "source": [
    "## Funciton for Saving Statistical Analysis\n",
    "\n",
    "This is an important function for your code and data saving. You need to change a few things everytime you run to avoid overwriting on files.\n",
    "\n",
    "There are two file names you would need to change once, and one file name you'd need to change everytime.\n",
    "\n",
    "**Change once:**\n",
    "\n",
    "`phase_index_path_1`  \n",
    "`phase_index_path_2`  \n",
    "Add names of files containing index information for the respective materials you are searching for \n",
    "\n",
    "\n",
    "**Change everytime:**\n",
    "\n",
    "Code Line 75\n",
    "\n",
    "`with open(r'04-22-2021-Alex-Stat_Analysis-Open.csv', 'a') as f:`  \n",
    "Change the string inside the single quotes to your desired file name.\n",
    "\n",
    "*Note: If you want to add a 3rd material, follow the steps below:*\n",
    "- *un-comment Line 7,10,16,29*\n",
    "- *Add file name in Code line 7*\n",
    "- *Change the no. 4 to 5 in Code line 18*\n",
    "\n"
   ]
  },
  {
   "cell_type": "code",
   "execution_count": 12,
   "metadata": {},
   "outputs": [],
   "source": [
    "# Funciton for Sacing Statistical Analysis\n",
    "\n",
    "def stat_analysis_save(invdis,intes,x,y):\n",
    "    \n",
    "    phase_index_path_1 = str('aNaYF4_index.csv') \n",
    "    phase_index_path_2 = str('cYF3_index.csv')\n",
    "    #phase_index_path_3 = str('g_index.csv')\n",
    "    ph1_p_d_diff, ph1_p_ind = phase_detect(phase_index_path_1,invdis)\n",
    "    ph2_p_d_diff, ph2_p_ind = phase_detect(phase_index_path_2,invdis)\n",
    "    #ph3_p_d_diff, ph3_p_ind = phase_detect(phase_index_path_3,invdis)\n",
    "    \n",
    "    ph1_t = np.transpose(ph1_p_d_diff)\n",
    "    #ph1_ind_t = np.transpose(ph1_p_ind)\n",
    "    ph2_t = np.transpose(ph2_p_d_diff)\n",
    "    #ph2_ind_t = np.transpose(ph2_p_ind)\n",
    "    #ph3_t = np.transpose(ph3_p_d_diff)\n",
    "    \n",
    "    ph_total = np.zeros(shape=(len(ph1_p_d_diff),4))\n",
    "    \n",
    "    invdis_imp_ar = []\n",
    "    intes_imp_ar = []\n",
    "    wt_d_ar = []\n",
    "    \n",
    "    l_lim = 3.05\n",
    "    h_lim = 3.35\n",
    "    \n",
    "    for i in range(len(ph1_p_d_diff)):\n",
    "        ph_total[i,0] = counter\n",
    "        ph_total[i,1] = 10*invdis[i]\n",
    "        ph_total[i,2] = ph1_t[i]\n",
    "        ph_total[i,3] = ph2_t[i]\n",
    "        #ph_total[i,4] = ph3_t[i]\n",
    "        \n",
    "        if ph_total[i,1] > l_lim and ph_total[i,1] < h_lim:\n",
    "            \n",
    "            invdis_imp = 10*invdis[i]\n",
    "            invdis_imp_ar = np.append(invdis_imp_ar,invdis_imp)\n",
    "            print(invdis_imp_ar)\n",
    "            \n",
    "            print(intes[i])\n",
    "            intes_imp = intes[i]\n",
    "            intes_imp_ar = np.append(intes_imp_ar,intes_imp)\n",
    "            print(intes_imp_ar)\n",
    "            \n",
    "            wt_d = intes_imp*invdis_imp\n",
    "            wt_d_ar = np.append(wt_d_ar,wt_d)\n",
    "            print(wt_d_ar)\n",
    "            \n",
    "            #cv2.circle(imprev, (x,y), 6, (255,0,0), 2)\n",
    "            \n",
    "    #for i in range(len(ph1_p_d_diff)):\n",
    "    #if any(ph_total[:,1] > 3.0) and any(ph_total[:,1] < 3.2):   \n",
    "    d_avg = np.sum(wt_d_ar)/np.sum(intes_imp_ar)\n",
    "    print(d_avg)\n",
    "    \n",
    "    ## BGR - BLUE, GREEN, RED\n",
    "    \n",
    "    # h_lim - BLUE - 255, 0, 0\n",
    "    # l_lim - RED - 0, 0, 255\n",
    "    \n",
    "    c = (d_avg-l_lim)/(h_lim-l_lim)\n",
    "    c_gray = c*255\n",
    "    spot_col = (255-c_gray,0,0+c_gray)\n",
    "    \n",
    "    if d_avg > l_lim and d_avg < h_lim:\n",
    "        cv2.circle(imprev, (x,y), 6, spot_col, 2)\n",
    "                \n",
    "        \n",
    "        #break\n",
    "        \n",
    "        #ph_total[i,3] = ph3_t[i]\n",
    "        #ph_total[i,3] = ph1_ind_t[i,:]\n",
    "        #ph_total[i,4] = ph2_ind_t[i,:]\n",
    "    \n",
    "    with open(r'04-22-2021-Alex-Stat_Analysis-Open.csv', 'a') as f:\n",
    "        writer = csv.writer(f)\n",
    "        for i in range(len(ph1_p_d_diff)):\n",
    "            writer.writerow(ph_total[i])\n",
    "        #writer.writerow(ph1_p_d_diff)\n",
    "        #writer.writerow(ph2_p_d_diff)"
   ]
  },
  {
   "cell_type": "markdown",
   "metadata": {},
   "source": [
    "## Function for Data Printing\n",
    "\n",
    "Important function for data printing \n",
    "\n",
    "Code Line 5:  \n",
    "`index_file_path = str('NYF_index')`  \n",
    "Change the name inside single quotes to the name of file which contains indexing for all the materials\n",
    "\n",
    "Code Line 37 to 42:  \n",
    "Change the name in Code Line 39 and 42 based on your index file and the value in Code Line 37 and 40 respectively.\n",
    "\n",
    "Code Line 89:  \n",
    "`with open(r'04-22-2021-Alex-All_data-Open.csv', 'a') as f:`\n",
    "Change the string inside the single quotes to your desired file name.\n",
    "\n",
    "*Note: If you want to add a 3rd material, follow the steps below:*\n",
    "- *un-comment Line 43,44,45*\n"
   ]
  },
  {
   "cell_type": "code",
   "execution_count": 32,
   "metadata": {},
   "outputs": [],
   "source": [
    "# Function for saving and prinitng data to file\n",
    "\n",
    "def data_printing(invdis,intes,ang,x,y):\n",
    "    \n",
    "    index_file_path = str('NYF_index')\n",
    "    index_data = genfromtxt(index_file_path + str('.csv'), delimiter=',')\n",
    "\n",
    "    d_spacing_A = np.array(index_data[1:,0])\n",
    "    i_h = np.array(index_data[1:,1])\n",
    "    i_k = np.array(index_data[1:,2])\n",
    "    i_l = np.array(index_data[1:,3])\n",
    "    i_label = np.array(index_data[1:,4])\n",
    "    \n",
    "\n",
    "    d_diff = np.zeros(shape=(len(invdis),len(d_spacing_A)),dtype=np.float64)\n",
    "    p_d_used = np.zeros(shape=(len(invdis)),dtype=np.float64)\n",
    "    p_d_diff = np.zeros(shape=(len(invdis)),dtype=np.float64)\n",
    "    p_h = np.zeros(shape=(len(invdis)),dtype=np.int32)\n",
    "    p_k = np.zeros(shape=(len(invdis)),dtype=np.int32)\n",
    "    p_l = np.zeros(shape=(len(invdis)),dtype=np.int32)\n",
    "    p_ind = np.zeros(shape=(len(invdis),3),dtype=np.int32)\n",
    "    p_label = []\n",
    "    index_label = []\n",
    "\n",
    "    for i in range(len(invdis)):\n",
    "        d_diff[i,:] = abs(10*invdis[i]-d_spacing_A)\n",
    "        #print(d_diff[i,:])\n",
    "        i_min = np.argmin(d_diff[i,:])\n",
    "        #print(i_min)\n",
    "        p_d_used[i] = d_spacing_A[i_min]\n",
    "        p_d_diff[i] = d_diff[i,i_min]\n",
    "        #print(p_d_diff)\n",
    "        p_h[i] = i_h[i_min]\n",
    "        p_k[i] = i_k[i_min]\n",
    "        p_l[i] = i_l[i_min]\n",
    "        p_ind[i] = [p_h[i],p_k[i],p_l[i]]\n",
    "        if i_label[i_min] == 0:\n",
    "            index_label.append(0)\n",
    "            p_label.append(\"alpha NaYF4\")\n",
    "        elif i_label[i_min] == 1:\n",
    "            index_label.append(1)\n",
    "            p_label.append(\"Cubic YF3\")\n",
    "        #elif i_label[i_min] == 2:\n",
    "        #    index_label.append(2)\n",
    "            #p_label.append(\"Hexagonal Diamond\")\n",
    "    za = [\"NIL\"]\n",
    "\n",
    "    for i in range (len(p_ind)):\n",
    "        for j in range(len(p_ind)):\n",
    "            if all(p_ind[i] == p_ind[j]):\n",
    "                #za = \"NIL\"\n",
    "                continue\n",
    "            else:\n",
    "                za = np.cross(p_ind[i],p_ind[j])\n",
    "                #print(za)\n",
    "    result_data = np.zeros(shape=(len(invdis),9))\n",
    "    #result_data[0][0] = \"Zone-axis\"\n",
    "    #result_data[0,:3] = za[:]\n",
    "\n",
    "    for i in range(len(invdis)):\n",
    "        \n",
    "        result_data[i][0] = counter\n",
    "        result_data[i][1] = 10*invdis[i]\n",
    "        result_data[i][2] = p_d_used[i]\n",
    "        #result_data[i+1][2] = p_d_diff[i]\n",
    "        result_data[i][3] = p_h[i]\n",
    "        result_data[i][4] = p_k[i]\n",
    "        result_data[i][5] = p_l[i]\n",
    "        result_data[i][6] = index_label[i]\n",
    "        result_data[i][7] = x\n",
    "        result_data[i][8] = y\n",
    "\n",
    "    #np.savetxt(\"Result-\"+str(counter)+\".csv\",result_data,delimiter=',')\n",
    "    \n",
    "    stat_analysis_save(invdis,intes,x,y)\n",
    "\n",
    "    with open(\"Result_\"+ index_file_path + str(counter)+\".txt\",'w') as f:\n",
    "        f.write(\"Zone Axis: \" + str(za))\n",
    "        f.write(\"\\n\\nd-spacing (Angstrom)\")\n",
    "        for i in range(int(len(invdis)/2)):\n",
    "            f.write(\"\\n\"+str(10*invdis[i])+\"   \"+str(p_d_used[i])+\"   \"+str(p_d_diff[i])+\"   \"+str(p_h[i])+\"   \"+str(p_k[i])+\"   \"+str(p_l[i]) + \"   \"+str(p_label[i]))\n",
    "        f.write(\"\\n\\nAngles between peaks\")\n",
    "        for i in range(len(ang)):\n",
    "            if i == 0 or i == int(len(ang)/2) or i == len(ang):\n",
    "                continue\n",
    "            else:\n",
    "                f.write(\"\\n\"+str(ang[i,0]))\n",
    "                \n",
    "    with open(r'04-22-2021-Alex-All_data-Open.csv', 'a') as f:\n",
    "        writer = csv.writer(f)\n",
    "        for i in range(len(invdis)):\n",
    "            writer.writerow(result_data[i])\n",
    "            \n",
    "    return index_label"
   ]
  },
  {
   "cell_type": "markdown",
   "metadata": {},
   "source": [
    "## Function for peak detection method\n",
    "\n",
    "Select if you want chose Method 1 (Auto) or Method 2 (Manual). Change the cell type to *markdown* for the method you don't want to use."
   ]
  },
  {
   "cell_type": "markdown",
   "metadata": {},
   "source": [
    "### Method 1 - Automatic\n",
    "\n",
    "Change the *threshold* and *box_sz* based on your preferences:\n",
    "\n",
    "Code Line 7 and 8: \n",
    "\n",
    "`threshold = 60`  \n",
    "`box_sz = 11`"
   ]
  },
  {
   "cell_type": "markdown",
   "metadata": {
    "heading_collapsed": true
   },
   "source": [
    "#### Method 1 - Automatic\n",
    "\n",
    "def method_peak_detection(fit_residual,x,y):\n",
    "    \n",
    "    peak_x,peak_y,peak_intes = peak2d(fit_residual)\n",
    "    \n",
    "    threshold = 60\n",
    "    box_sz = 11\n",
    "    \n",
    "    #mag_gray = cv2.cvtColor(fit_residual, cv2.COLOR_BGR2GRAY)\n",
    "    detected_peaks = photutils.detection.find_peaks(fit_residual,threshold,box_size=(box_sz,box_sz))\n",
    "    #print(detected_peaks)\n",
    "    #print(detected_peaks.colnames)\n",
    "    #detected_peaks = detected_peaks.remove_columns(['y_peak','peak_value'])\n",
    "    detected_peaks = detected_peaks.as_array()\n",
    "    #print(detected_peaks)\n",
    "    lenp = len(detected_peaks)\n",
    "\n",
    "    xval = np.zeros(shape=(lenp),dtype=np.float64)\n",
    "    yval = np.zeros(shape=(lenp),dtype=np.float64)\n",
    "    intes = np.zeros(shape=(lenp),dtype=np.float64)\n",
    "    dist = np.zeros(shape=(lenp),dtype=np.float64)\n",
    "    dist_cal = np.zeros(shape=(lenp),dtype=np.float64)\n",
    "    invdis = np.zeros(shape=(lenp),dtype=np.float64)\n",
    "    resp_intes = np.zeros(shape=(lenp),dtype=np.float64)\n",
    "    ang = np.zeros(shape=(lenp,lenp),dtype=np.float64)\n",
    "    wt_d = np.zeros(shape=(lenp),dtype=np.float64)\n",
    "\n",
    "    # d-spacing calculation\n",
    "    for i in range(np.shape(detected_peaks)[0]):\n",
    "        xval[i] = detected_peaks[i][0]\n",
    "        yval[i] = detected_peaks[i][1]\n",
    "        intes[i] = detected_peaks[i][2]\n",
    "        if xval[i] == peak_x and yval[i] == peak_y:\n",
    "            continue\n",
    "        else:\n",
    "            dist[i] = dist_calc(xval[i],yval[i],peak_x,peak_y)\n",
    "            for j in range(len(yval)):\n",
    "                ang[i,j] = ang_calc(xval,yval,dist,i,j,peak_x,peak_y)\n",
    "            dist_cal[i] = dist[i]*perpix\n",
    "            resp_intes[i] = np.abs(peak_intes - intes[i])\n",
    "            invdis[i]=1/dist_cal[i] ## d-spacing\n",
    "            #wt_d[i] = intes[i]*10*invdis[i]\n",
    "        \n",
    "    \n",
    "    #for i in range(len(invdis)):\n",
    "        #if invdis[i]\n",
    "        #if invdis[i] < 0.2:\n",
    "            #cv2.circle(imprev, (x,y), 10, (200,100,90), cv2.FILLED) #BGR\n",
    "            #break\n",
    "        #else:\n",
    "            #cv2.circle(imprev, (x,y), 10, (0,255,0), cv2.FILLED)\n",
    "            #break\n",
    "\n",
    "    \n",
    "    data_printing(invdis,intes,ang,x,y)\n",
    "    \n",
    "    #invdis_imp = []\n",
    "    #intes_imp = []\n",
    "    #wt_d = []\n",
    "    \n",
    "    #for i in range(len(invdis)):\n",
    "     #   if any(m > 3.0 for m in 10*invdis) and any(m < 3.2 for m in 10*invdis):\n",
    "            \n",
    "      #      invdis_imp = np.append(invdis_imp,10*invdis[i])\n",
    "       #     print(invdis_imp)\n",
    "        #    intes_imp = np.append(intes_imp,intes[i])\n",
    "         #   print(intes_imp)\n",
    "          #  wt_d = intes_imp[i]*invdis_imp[i]\n",
    "           # print(wt_d)\n",
    "            #cv2.circle(imprev, (x,y), 6, (255,0,0), 2)\n",
    "            \n",
    "    #d_avg = np.sum(wt_d)/np.sum(intes_imp)\n",
    "    #print(d_avg)\n",
    "            \n",
    "            \n",
    "            \n",
    "            \n",
    "            #break\n",
    "        #elif all(x == 0 for x in index_label):\n",
    "        #cv2.circle(imprev, (x,y), 10, (255,0,0), cv2.FILLED)\n",
    "        #    break\n",
    "        #elif all(x == 1 for x in index_label):\n",
    "        #cv2.circle(imprev, (x,y), 10, (0,255,0), cv2.FILLED)\n",
    "            #break\n",
    "    \n",
    "    pass\n",
    "   "
   ]
  },
  {
   "cell_type": "markdown",
   "metadata": {},
   "source": [
    "### Method 2 - Manual\n",
    "\n",
    "You will get to chose the *threshold* and *box_sz* for every area you select"
   ]
  },
  {
   "cell_type": "code",
   "execution_count": 26,
   "metadata": {},
   "outputs": [],
   "source": [
    "#### Method 2 - Manual\n",
    "\n",
    "def method_peak_detection(fit_residual,x,y):\n",
    "    \n",
    "    peak_x,peak_y,peak_intes = peak2d(fit_residual)\n",
    "    \n",
    "    cv2.namedWindow(\"Peak Finding\")\n",
    "    cv2.resizeWindow(\"Peak Finding\",640,100)\n",
    "    cv2.createTrackbar(\"Threshold\",\"Peak Finding\",100,200,empty)\n",
    "    cv2.createTrackbar(\"Box Size\",\"Peak Finding\",7,20,empty)\n",
    "    #cv2.createTrackbar(\"Threshold\",\"Peak Finding\",50,200,empty)\n",
    "\n",
    "    while(1):\n",
    "        #cv2.imshow(\"Residual\",cv2.cvtColor(fit_residual,cv2.COLOR_RGB2BGR))\n",
    "\n",
    "        # get current positions of four trackbars\n",
    "        threshold = cv2.getTrackbarPos(\"Threshold\",\"Peak Finding\")\n",
    "        box_sz = cv2.getTrackbarPos(\"Box Size\",\"Peak Finding\")\n",
    "\n",
    "        #mag_gray = cv2.cvtColor(fit_residual, cv2.COLOR_BGR2GRAY)\n",
    "        detected_peaks = photutils.detection.find_peaks(fit_residual,threshold,box_size=(box_sz,box_sz))\n",
    "        #print(detected_peaks)\n",
    "        #print(detected_peaks.colnames)\n",
    "        #detected_peaks = detected_peaks.remove_columns(['y_peak','peak_value'])\n",
    "        detected_peaks = detected_peaks.as_array()\n",
    "        #print(detected_peaks)\n",
    "        lenp = len(detected_peaks)\n",
    "\n",
    "        xval = np.zeros(shape=(lenp),dtype=np.float64)\n",
    "        yval = np.zeros(shape=(lenp),dtype=np.float64)\n",
    "        intes = np.zeros(shape=(lenp),dtype=np.float64)\n",
    "        dist = np.zeros(shape=(lenp),dtype=np.float64)\n",
    "        dist_cal = np.zeros(shape=(lenp),dtype=np.float64)\n",
    "        invdis = np.zeros(shape=(lenp),dtype=np.float64)\n",
    "        resp_intes = np.zeros(shape=(lenp),dtype=np.float64)\n",
    "        ang = np.zeros(shape=(lenp,lenp),dtype=np.float64)\n",
    "        \n",
    "        # d-spacing calculation\n",
    "        for i in range(np.shape(detected_peaks)[0]):\n",
    "            xval[i] = detected_peaks[i][0]\n",
    "            yval[i] = detected_peaks[i][1]\n",
    "            intes[i] = detected_peaks[i][2]\n",
    "            if xval[i] == peak_x and yval[i] == peak_y:\n",
    "                continue\n",
    "            else:\n",
    "                dist[i] = dist_calc(xval[i],yval[i],peak_x,peak_y)\n",
    "                for j in range(len(yval)):\n",
    "                    ang[i,j] = ang_calc(xval,yval,dist,i,j,peak_x,peak_y)\n",
    "                dist_cal[i] = dist[i]*perpix\n",
    "                resp_intes[i] = np.abs(peak_intes - intes[i])\n",
    "                invdis[i]=1/dist_cal[i] ## d-spacing\n",
    "        \n",
    "\n",
    "        #for i in range(len(invdis)):\n",
    "            #if invdis[i] < 0.2:\n",
    "                #cv2.circle(imprev, (x,y), 10, (200,100,90), cv2.FILLED) #BGR\n",
    "               # break\n",
    "            #else:\n",
    "                #cv2.circle(imprev, (x,y), 10, (0,255,0), cv2.FILLED)\n",
    "                #break\n",
    "            \n",
    "                \n",
    "        fig_p, (axs1,axs2) = plt.subplots(1,2)\n",
    "        axs1.plot(4,2,(2*i+1))\n",
    "        axs1.imshow(fit_residual,cmap='gray')\n",
    "        axs2.plot(4,2,(2*i+2) )\n",
    "        axs2.imshow(fit_residual,cmap='gray')\n",
    "        axs2.scatter(xval,yval,color='r')\n",
    "        for i in range(len(xval)):\n",
    "            axs2.arrow(peak_x,peak_y,(xval[i]-peak_x),(yval[i]-peak_y),color='b',linewidth=2)\n",
    "\n",
    "        fig_p.canvas.draw()\n",
    "\n",
    "        img_p = np.fromstring(fig_p.canvas.tostring_rgb(), dtype=np.uint8, sep='')\n",
    "        img_p  = img_p.reshape(fig_p.canvas.get_width_height()[::-1] + (3,))\n",
    "\n",
    "        # img is rgb, convert to opencv's default bgr\n",
    "        img_p = cv2.cvtColor(img_p,cv2.COLOR_RGB2BGR)\n",
    "        #print(img_p.shape)\n",
    "        \n",
    "        #cv2.arrowedLine(img_p, (peak_x,pea), end_point, color, thickness)\n",
    "\n",
    "        # display image with opencv or any operation you like\n",
    "        #cv2.circle(img_p, (xval,yval), 10, (255,255,0), cv2.FILLED)\n",
    "        cv2.imshow(\"Final Peak\",img_p)\n",
    "        \n",
    "        #data_printing(invdis,intes,ang,x,y)\n",
    "        \n",
    "        k = cv2.waitKey(33) & 0xFF\n",
    "        if k == 27:\n",
    "            break\n",
    "\n",
    "    cv2.destroyWindow(\"Peak Finding\")\n",
    "    cv2.destroyWindow(\"Final Peak\")\n",
    "    print(invdis)\n",
    "    invdis = invdis[invdis != 0]\n",
    "    #invdis = np.trim_zeros(invdis)\n",
    "    print(invdis)\n",
    "    \n",
    "    index_label = data_printing(invdis,intes,ang,x,y)\n",
    "    print(index_label)\n",
    "    '''\n",
    "    for i in range(len(invdis)):\n",
    "        if any(x == 0 for x in index_label) and any(x == 1 for x in index_label):\n",
    "            #cv2.circle(imprev, (x,y), 10, (0,0,255), cv2.FILLED)\n",
    "            break\n",
    "        elif all(x == 0 for x in index_label):\n",
    "            #cv2.circle(imprev, (x,y), 10, (255,0,0), cv2.FILLED)\n",
    "            break\n",
    "        elif all(x == 1 for x in index_label):\n",
    "            #cv2.circle(imprev, (x,y), 10, (0,255,0), cv2.FILLED)\n",
    "            break\n",
    "    '''\n",
    "\n",
    "    pass\n",
    "        "
   ]
  },
  {
   "cell_type": "markdown",
   "metadata": {},
   "source": [
    "## Function for radial integration method"
   ]
  },
  {
   "cell_type": "code",
   "execution_count": 23,
   "metadata": {},
   "outputs": [],
   "source": [
    "# Function for radial integration method\n",
    "\n",
    "def method_radial_integration(magnitude_spectrum,x,y):\n",
    "    #profile = radial_profile(np.log(1+np.abs(magnitude_spectrum)),(ksize/2,ksize/2))\n",
    "    profile = radial_profile(magnitude_spectrum,(ksize/2,ksize/2))\n",
    "    \n",
    "    # Adjust the st and en values from the x axis above to surround the lorentz peak\n",
    "    cv2.namedWindow(\"Integration\")\n",
    "    cv2.resizeWindow(\"Integration\",640,100)\n",
    "    cv2.createTrackbar(\"Start\",\"Integration\",7,40,empty)\n",
    "    cv2.createTrackbar(\"End\",\"Integration\",15,100,empty)\n",
    "    #cv2.createTrackbar(\"Threshold\",\"Peak Finding\",50,200,empty)\n",
    "\n",
    "    while(1):\n",
    "        uncalibx = np.linspace(0,len(profile),len(profile))\n",
    "\n",
    "        st = 0  # Adjust st to cut the radial profile at the start to remove the zero line\n",
    "        #profile = radial_profile(np.log(1+np.abs(maskedfft)),(ksize/2,ksize/2))\n",
    "        fig_mrl = plt.figure()\n",
    "        plt.plot(uncalibx, profile[st:])\n",
    "\n",
    "        fig_mrl.canvas.draw()\n",
    "\n",
    "        img_mrl = np.fromstring(fig_mrl.canvas.tostring_rgb(), dtype=np.uint8, sep='')\n",
    "        img_mrl  = img_mrl.reshape(fig_mrl.canvas.get_width_height()[::-1] + (3,))\n",
    "\n",
    "        # img is rgb, convert to opencv's default bgr\n",
    "        img_mrl = cv2.cvtColor(img_mrl,cv2.COLOR_RGB2BGR)\n",
    "        #print(img_p.shape)\n",
    "\n",
    "        # display image with opencv or any operation you like\n",
    "        #cv2.circle(img_p, (xval,yval), 10, (255,255,0), cv2.FILLED)\n",
    "        #cv2.imshow(\"Complete Radial Integration\",img_mrl)\n",
    "        #cv2.imshow(\"Residual\",cv2.cvtColor(fit_residual,cv2.COLOR_RGB2BGR))\n",
    "\n",
    "        # get current positions of four trackbars\n",
    "        st = cv2.getTrackbarPos(\"Start\",\"Integration\")\n",
    "        en = cv2.getTrackbarPos(\"End\",\"Integration\")\n",
    "        \n",
    "        invspace = np.linspace(0,len(profile),len(profile))*perpix\n",
    "        xdata, ydata = invspace[st:en], profile[st:en]\n",
    "\n",
    "        mod = LorentzianModel()+LinearModel()\n",
    "        print(mod.param_names)\n",
    "        pars = mod.make_params(amplitude=150, center=3.8, sigma=1, slope=1, intercept=160)\n",
    "        init = mod.eval(pars, x=xdata)\n",
    "        out = mod.fit(ydata, pars, x=xdata)\n",
    "        print(out.fit_report(min_correl=0.5))\n",
    "\n",
    "        fig_rl = plt.figure()\n",
    "        ax1 = fig_rl.add_subplot(1,1,1)\n",
    "        #ax1.set_title(tail+\" - \"+txt)\n",
    "        ax1.scatter(xdata, ydata)\n",
    "        ax1.plot(xdata, out.best_fit, 'r-')\n",
    "        #plt.show()\n",
    "        \n",
    "        fig_rl.canvas.draw()\n",
    "\n",
    "        img_rl = np.fromstring(fig_rl.canvas.tostring_rgb(), dtype=np.uint8, sep='')\n",
    "        img_rl = img_rl.reshape(fig_rl.canvas.get_width_height()[::-1] + (3,))\n",
    "\n",
    "        # img is rgb, convert to opencv's default bgr\n",
    "        img_rl = cv2.cvtColor(img_rl,cv2.COLOR_RGB2BGR)\n",
    "        #print(img_p.shape)\n",
    "\n",
    "        # display image with opencv or any operation you like\n",
    "        #cv2.circle(img_p, (xval,yval), 10, (255,255,0), cv2.FILLED)\n",
    "        #cv2.imshow(\"Radial Integration\",img_rl)\n",
    "        imgStack = stackImages(0.7,([img_mrl,img_rl]))\n",
    " \n",
    "        # imgHor = np.hstack((img,img))\n",
    "        # imgVer = np.vstack((img,img))\n",
    "        #\n",
    "        # cv2.imshow(\"Horizontal\",imgHor)\n",
    "        # cv2.imshow(\"Vertical\",imgVer)\n",
    "        cv2.imshow(\"Final Integration\",imgStack)\n",
    "        \n",
    "        k = cv2.waitKey(1)\n",
    "        if k == 27:\n",
    "            break\n",
    "            \n",
    "    print(1/out.best_values['center'])\n",
    "            \n",
    "    #if 1/out.best_values['center'] < 0.2:\n",
    "    #    cv2.circle(imprev, (x,y), 10, (200,100,90), cv2.FILLED)\n",
    "    #else:\n",
    "    #    cv2.circle(imprev, (x,y), 10, (0,255,0), cv2.FILLED)\n",
    "            \n",
    "    #cv2.destroyWindow(\"Compelte Radial Integration\")\n",
    "    #cv2.destroyWindow(\"Radial Integration\")\n",
    "    cv2.destroyWindow(\"Final Integration\")\n",
    "    cv2.destroyWindow(\"Integration\")\n",
    "    \n",
    "    pass"
   ]
  },
  {
   "cell_type": "markdown",
   "metadata": {},
   "source": [
    "## Function to select method"
   ]
  },
  {
   "cell_type": "code",
   "execution_count": 16,
   "metadata": {},
   "outputs": [],
   "source": [
    "## Function to select method\n",
    "\n",
    "def select_method(fit_residual,x,y):\n",
    "    \n",
    "    layout = [[sg.Text(\"Select the method\")], [sg.Button(\"PD\")], [sg.Button(\"RI\")]]\n",
    "\n",
    "    # Create the window\n",
    "    window = sg.Window(\"Method\", layout)\n",
    "\n",
    "    # Create an event loop\n",
    "    while True:\n",
    "        event, values = window.read()\n",
    "        # End program if user closes window or\n",
    "        # presses the OK button\n",
    "        if event == \"PD\":\n",
    "            #break\n",
    "            window.close()\n",
    "            method_peak_detection(fit_residual,x,y)\n",
    "            break\n",
    "        elif event == \"RI\":\n",
    "            window.close()\n",
    "            method_radial_integration(fit_residual,x,y)\n",
    "            break\n",
    "    #window.close()"
   ]
  },
  {
   "cell_type": "markdown",
   "metadata": {},
   "source": [
    "## Function for click and point on Image\n",
    "\n",
    "If you want to do *Manual Gaussian background*, then remove the *'''*  from Code Line 32 and 71 to uncomment that entire block of code.  \n",
    "If you want to do *Auto Gaussian background*, then leave that Code Block from Code LIne 32 to 71 commented, and set an *offset* and *amp* below that\n",
    "\n",
    "\n",
    "The *peak detection method* is hard-coded right now for d-spacing calculation, in the Code Line 95:  \n",
    "`method_peak_detection(fit_residual,x,y)`\n",
    "\n",
    "If you want to get the option to select the method between *peak detection method* and *radial integration method* everytime you click on an area, then comment Code Line 95, and un-comment Code Line 96:  \n",
    "`select_method(fit_residual,x,y)`\n",
    "\n",
    "\n",
    "Set the image name for the final image on Code Line 98:  \n",
    "`cv2.imwrite(\"04-22-2021-Alex-Open.png\",imprev)`"
   ]
  },
  {
   "cell_type": "code",
   "execution_count": 17,
   "metadata": {},
   "outputs": [],
   "source": [
    "# Function for click and point on Image\n",
    "\n",
    "def mousepoint(event, x, y, flags, params):\n",
    "    global counter\n",
    "    if event == cv2.EVENT_LBUTTONDOWN and x>int(kernel_side/2) and y>int(kernel_side/2) and x<int(prevsize[0]-kernel_side/2) and y<int(prevsize[0]-kernel_side/2):\n",
    "        counter = counter+1\n",
    "        print(\"Preview location {}: {}, {}\".format(counter,x,y))\n",
    "        prev_locations.append([x,y])\n",
    "        img_locations.append([int(x/prev_scale),int(y/prev_scale)])\n",
    "        #cv2.circle(imprev, (x,y), 2, (255,0,0), cv2.FILLED)\n",
    "        txt = \"A\"+str(counter)\n",
    "        #cv2.putText(imprev,txt, (x,int(y+kernel_side/2+3)), cv2.FONT_HERSHEY_SIMPLEX, 0.7,(255,255,255),1)\n",
    "        #cv2.circle(imprev, (x,y), 7, (255,0,0), 2)\n",
    "        #cv2.rectangle(imprev, (int(x-kernel_side/2),int(y-kernel_side/2)), (int(x+kernel_side/2),int(y+kernel_side/2)), (255,255,255), 1)\n",
    "        #cv2.rectangle(imprev, (int(x-kernel_side/2),int(y-kernel_side/2)), (int(x+kernel_side/2),int(y+kernel_side/2)), (255,255,255), 1)\n",
    "        cv2.imshow(tail, imprev)\n",
    "        \n",
    "        \n",
    "        imcut = img[int(y/prev_scale-kernel_sideraw/2):int(y/prev_scale+kernel_sideraw/2),int(x/prev_scale-kernel_sideraw/2):int(x/prev_scale+kernel_sideraw/2)]\n",
    "        imcut = cv2.cvtColor(imcut,cv2.COLOR_BGR2GRAY)\n",
    "        #fft = np.fft.fft2(imcut)\n",
    "        #magnitude_spectrum = np.fft.fftshift(fft)\n",
    "        \n",
    "        fft = np.fft.fft2(imcut)\n",
    "        fshift = np.fft.fftshift(fft)\n",
    "        magnitude_spectrum = 20*np.log(np.abs(fshift))\n",
    "        #cv2.imread(magnitude_spectrum)\n",
    "        #cv2.imshow(\"Residual\",magnitude_spectrum)\n",
    "        #magnitude_spectrum = cv2.UMat(magnitude_spectrum)\n",
    "        \n",
    "        ####\n",
    "        '''\n",
    "        fig_3 = plt.figure()\n",
    "        ax = fig_3.add_subplot(1, 1, 1)\n",
    "        ax = plt.axes(projection='3d')\n",
    "        ax.plot_surface(X, Y, magnitude_spectrum, cmap='viridis', edgecolor='none')\n",
    "        ax.view_init(0, 90)\n",
    "        #plt.show()\n",
    "        fig_3.canvas.draw()\n",
    "        \n",
    "        img_1 = np.fromstring(fig_3.canvas.tostring_rgb(), dtype=np.uint8, sep='')\n",
    "        img_1  = img_1.reshape(fig_3.canvas.get_width_height()[::-1] + (3,))\n",
    "\n",
    "        # img is rgb, convert to opencv's default bgr\n",
    "        img_1 = cv2.cvtColor(img_1,cv2.COLOR_RGB2BGR)\n",
    "        \n",
    "        # display image with opencv or any operation you like\n",
    "        cv2.imshow(\"Spectrum\",img_1)\n",
    "        #cv2.resize(cv2.UMat(img_1),(480,480))\n",
    "        #cv2.resizeWindow(\"3D-plot\",480,480)\n",
    "        \n",
    "        cv2.namedWindow(\"Parameter Adjustment\")\n",
    "        cv2.resizeWindow(\"Parameter Adjustment\",640,80)\n",
    "        cv2.createTrackbar(\"Offset\",\"Parameter Adjustment\",100,300,empty)\n",
    "        cv2.createTrackbar(\"Amplitude\",\"Parameter Adjustment\",38,50,empty)\n",
    "        \n",
    "        while(1):\n",
    "            #cv2.imshow(\"3D-plot\",img_1)\n",
    "            # get current positions of four trackbars\n",
    "            offset = cv2.getTrackbarPos(\"Offset\",\"Parameter Adjustment\")\n",
    "            amp = cv2.getTrackbarPos(\"Amplitude\",\"Parameter Adjustment\")\n",
    "            \n",
    "            k = cv2.waitKey(1) & 0xFF\n",
    "            if k == 27:\n",
    "                break\n",
    "                \n",
    "            #print(offset)\n",
    "            \n",
    "        cv2.destroyWindow(\"Parameter Adjustment\")\n",
    "        cv2.destroyWindow(\"Spectrum\")\n",
    "        '''\n",
    "        #####\n",
    "\n",
    "        offset = 131 # Alex\n",
    "        amp = 21 # Alex\n",
    "        \n",
    "        xc, yc = np.median(xx), np.median(yy)\n",
    "        #xc, yc = 40,40\n",
    "        sigma_x, sigma_y = xx[-1]/2 , yy[-1]/2\n",
    "\n",
    "        # define some initial guess values for the fit routine\n",
    "        guess_vals = [offset, amp*2, xc*0.8, yc*0.8, sigma_x/1.5, sigma_y/1.5]\n",
    "\n",
    "        # perform the fit, making sure to flatten the noisy data for the fit routine \n",
    "        fit_params, cov_mat = curve_fit(gaussian_2d, (X,Y), np.ravel(magnitude_spectrum), p0=guess_vals)\n",
    "\n",
    "        # calculate fit parameter errors from covariance matrix\n",
    "        fit_errors = np.sqrt(np.diag(cov_mat))\n",
    "\n",
    "        # manually calculate R-squared goodness of fit\n",
    "        fit_residual = magnitude_spectrum - gaussian_2d((X,Y), *fit_params).reshape(np.outer(xx,yy).shape)\n",
    "        fit_Rsquared = 1 - np.var(fit_residual)/np.var(magnitude_spectrum)\n",
    "        \n",
    "        \n",
    "        method_peak_detection(fit_residual,x,y)        \n",
    "        #select_method(fit_residual,x,y)\n",
    "\n",
    "        cv2.imwrite(\"04-22-2021-Alex-Open.png\",imprev)\n",
    "        #cv2.imshow(\"Residual\",cv2.cvtColor(fit_residual,cv2.COLOR_RGB2BGR))"
   ]
  },
  {
   "cell_type": "markdown",
   "metadata": {},
   "source": [
    "# Running Code"
   ]
  },
  {
   "cell_type": "markdown",
   "metadata": {},
   "source": [
    "## Button to select files"
   ]
  },
  {
   "cell_type": "code",
   "execution_count": 18,
   "metadata": {},
   "outputs": [
    {
     "data": {
      "application/vnd.jupyter.widget-view+json": {
       "model_id": "41ae3032a59d417aa42aadaca4e3611d",
       "version_major": 2,
       "version_minor": 0
      },
      "text/plain": [
       "Button(description='File Select', icon='square-o', style=ButtonStyle(button_color='orange'))"
      ]
     },
     "metadata": {},
     "output_type": "display_data"
    },
    {
     "name": "stdout",
     "output_type": "stream",
     "text": [
      "Selected files:\n"
     ]
    },
    {
     "data": {
      "application/vnd.jupyter.widget-view+json": {
       "model_id": "418183ac2f454c8ab44a69ed498be812",
       "version_major": 2,
       "version_minor": 0
      },
      "text/plain": [
       "SelectMultiple(index=(0,), layout=Layout(height='300px', width='100%'), options=('D:/OneDrive - UW/Research/Pr…"
      ]
     },
     "metadata": {},
     "output_type": "display_data"
    }
   ],
   "source": [
    "# Button to select files\n",
    "\n",
    "# Open file(s)\n",
    "################################################################################\n",
    "\n",
    "fileselect = Button(description=\"File Select\")\n",
    "fileselect.icon = \"square-o\"\n",
    "fileselect.style.button_color = \"orange\"\n",
    "fileselect.on_click(select_files)\n",
    "\n",
    "\n",
    "display(fileselect)\n",
    "\n",
    "################################################################################"
   ]
  },
  {
   "cell_type": "markdown",
   "metadata": {},
   "source": [
    "## Scale calibration using Image Analysis"
   ]
  },
  {
   "cell_type": "code",
   "execution_count": 19,
   "metadata": {},
   "outputs": [
    {
     "data": {
      "image/png": "[encoded data removed]",
      "text/plain": [
       "<Figure size 360x360 with 1 Axes>"
      ]
     },
     "metadata": {
      "needs_background": "light"
     },
     "output_type": "display_data"
    },
    {
     "data": {
      "image/png": "[encoded data removed]",
      "text/plain": [
       "<Figure size 360x360 with 1 Axes>"
      ]
     },
     "metadata": {
      "needs_background": "light"
     },
     "output_type": "display_data"
    },
    {
     "data": {
      "image/png": "[encoded data removed]",
      "text/plain": [
       "<Figure size 360x360 with 1 Axes>"
      ]
     },
     "metadata": {
      "needs_background": "light"
     },
     "output_type": "display_data"
    },
    {
     "data": {
      "image/png": "[encoded data removed]",
      "text/plain": [
       "<Figure size 360x360 with 1 Axes>"
      ]
     },
     "metadata": {
      "needs_background": "light"
     },
     "output_type": "display_data"
    },
    {
     "data": {
      "image/png": "[encoded data removed]",
      "text/plain": [
       "<Figure size 360x360 with 1 Axes>"
      ]
     },
     "metadata": {
      "needs_background": "light"
     },
     "output_type": "display_data"
    },
    {
     "data": {
      "image/png": "[encoded data removed]",
      "text/plain": [
       "<Figure size 360x360 with 1 Axes>"
      ]
     },
     "metadata": {
      "needs_background": "light"
     },
     "output_type": "display_data"
    },
    {
     "data": {
      "image/png": "[encoded data removed]",
      "text/plain": [
       "<Figure size 360x360 with 1 Axes>"
      ]
     },
     "metadata": {
      "needs_background": "light"
     },
     "output_type": "display_data"
    },
    {
     "name": "stdout",
     "output_type": "stream",
     "text": [
      "Text detected: 10 nm\n",
      "\f",
      "\n",
      "Number separated: 10.0\n",
      "Unit found:  nm\n",
      "\f",
      "\n"
     ]
    },
    {
     "data": {
      "image/png": "[encoded data removed]",
      "text/plain": [
       "<Figure size 360x360 with 1 Axes>"
      ]
     },
     "metadata": {
      "needs_background": "light"
     },
     "output_type": "display_data"
    },
    {
     "data": {
      "image/png": "[encoded data removed]",
      "text/plain": [
       "<Figure size 360x360 with 1 Axes>"
      ]
     },
     "metadata": {
      "needs_background": "light"
     },
     "output_type": "display_data"
    },
    {
     "name": "stdout",
     "output_type": "stream",
     "text": [
      "Pixel length: 228 \t Scale: 10.0\n",
      "Calibration: 22.80000 pixel/ nm\n",
      "\f",
      "\n",
      "_________________________________________________________________________________________________\n"
     ]
    }
   ],
   "source": [
    "# Scale calibration using Image Analysis\n",
    "\n",
    "%matplotlib inline\n",
    "\n",
    "# Copy the information from file\n",
    "################################################################################\n",
    "\n",
    "f = select_files.selectfs.value\n",
    "fnames = [None] * len(f)\n",
    "scalenos = np.zeros(len(f))\n",
    "scaleunits = [None] * len(f)\n",
    "calibs = np.zeros(len(f))\n",
    "\n",
    "################################################################################\n",
    "\n",
    "\n",
    "# Plotting the image and obtaining sacle bar text and length\n",
    "################################################################################\n",
    "\n",
    "for i in range(0,len(f)):\n",
    "    plt.rcParams['figure.figsize'] = [5, 5]\n",
    "\n",
    "    fx = select_files.selectfs.value[i]\n",
    "    head, tail = os.path.split(fx)\n",
    "    fnames[i] = tail\n",
    "\n",
    "    imgsr = (cv2.imread(fx)) ## Why the brackets?\n",
    "    #cv2.imwrite(\"out.jpeg\", imgsr)\n",
    "    #imgsr = (cv2.imread(\"out.jpeg\"))\n",
    "    plt.imshow(imgsr)\n",
    "    plt.title(tail)\n",
    "    plt.show()\n",
    "\n",
    "    imgsr[imgsr<255]=0\n",
    "    imgscaletxt = imgsr[2048:2115,1000:1250] # Alex\n",
    "    imgscale = imgsr[2048:2115,800:1065] # Alex\n",
    "    #imgscaletxt = imgsr[30:120,1400:1900] # Abbie\n",
    "    #imgscale = imgsr[120:150,1400:1900] # Abbie\n",
    "    plt.imshow(imgscaletxt)\n",
    "    plt.show()\n",
    "    plt.imshow(imgscale)\n",
    "    plt.show()\n",
    "    blur = cv2.blur(imgscaletxt,(5,5))\n",
    "    plt.imshow(blur)\n",
    "    plt.show()\n",
    "    ret, thresh = cv2.threshold(blur, 75, 255, 0) #threhold setting to an image with a max. value for all elements with the value higher than a given threshold\n",
    "\n",
    "    plt.imshow(thresh)\n",
    "    plt.show()\n",
    "    plt.imshow(imgscale)\n",
    "    plt.show()\n",
    "    kernel = np.ones((5, 5), np.uint8)\n",
    "\n",
    "    thresh = cv2.morphologyEx(thresh, cv2.MORPH_OPEN, kernel)\n",
    "    #imgscale = cv2.morphologyEx(imgscale, cv2.MORPH_OPEN, kernel)\n",
    "\n",
    "    txteroded = cv2.erode(thresh, kernel, iterations = 1)\n",
    "    txtdilated = cv2.dilate(txteroded, kernel, iterations = 1)\n",
    "    txteroded = cv2.erode(txtdilated, kernel, iterations = 1)\n",
    "    txtdilated = cv2.dilate(txteroded, kernel, iterations = 1)\n",
    "    txteroded = cv2.erode(txtdilated, kernel, iterations = 1)\n",
    "    txtdilated = cv2.dilate(txteroded, kernel, iterations = 1)\n",
    "    txteroded = cv2.erode(txtdilated, kernel, iterations = 1)\n",
    "    txtdilated = cv2.dilate(txtdilated, kernel, iterations = 1)\n",
    "\n",
    "\n",
    "    pytesseract.pytesseract.tesseract_cmd = r'C:\\Program Files\\Tesseract-OCR\\tesseract.exe'\n",
    "    custom_config = r'--oem 3 --psm 11'\n",
    "    #custom_config = ('-l eng --oem 1 --psm 3')\n",
    "    scalestring = pytesseract.image_to_string(txtdilated, config=custom_config)[3:]\n",
    "    plt.imshow(txtdilated)\n",
    "    plt.title(\"Scalebar text from {}\".format(tail))\n",
    "    plt.show()\n",
    "\n",
    "\n",
    "    print('Text detected:',scalestring)\n",
    "    scalelen = (re.findall('\\d*\\.?\\d+',scalestring)[0])\n",
    "    scalenos[i] = scalelen\n",
    "    print('Number separated:', float(scalelen))\n",
    "    scaleunit = scalestring.replace(scalelen,'')\n",
    "    scaleunits[i] = scaleunit\n",
    "    print('Unit found:',scaleunit)\n",
    "\n",
    "    eroded = cv2.erode(imgscale, kernel, iterations = 1)\n",
    "    dilated = cv2.dilate(eroded, kernel, iterations = 1)\n",
    "    kernel_2 = np.ones((6, 6), np.uint8)\n",
    "    dilated = cv2.erode(dilated,  kernel_2, iterations=1)\n",
    "    dilated = cv2.dilate(dilated, kernel_2, iterations = 1)\n",
    "\n",
    "    plt.imshow(dilated)\n",
    "    plt.show()\n",
    "\n",
    "    imgray = cv2.cvtColor(dilated, cv2.COLOR_BGR2GRAY)\n",
    "    #imgray = cv2.GaussianBlur(imgray, (9, 9), 0)\n",
    "    ret, thresh = cv2.threshold(imgray, 127, 255, 0)\n",
    "    contours, hierarchy = cv2.findContours(thresh, cv2.RETR_TREE, cv2.CHAIN_APPROX_SIMPLE)\n",
    "    #print(contours)\n",
    "    drawn = cv2.drawContours(dilated, contours, -1, (0,255,0), 3)\n",
    "    plt.imshow(drawn)\n",
    "    plt.title(\"Scalebar from {}\".format(tail))\n",
    "    plt.show()\n",
    "\n",
    "    pixmin = np.max(contours[0][:,0,0])\n",
    "    pixmax = np.min(contours[0][:,0,0])\n",
    "    pixlen = abs(pixmax-pixmin)\n",
    "\n",
    "    print('Pixel length:',pixlen,'\\t Scale:',float(scalelen))\n",
    "    calib = pixlen/float(scalelen)\n",
    "    calibs[i] = calib\n",
    "    print(\"Calibration: {:.5f} pixel/{}\".format(calib, scaleunit))\n",
    "    print('_________________________________________________________________________________________________')\n",
    "\n",
    "############################################################\n"
   ]
  },
  {
   "cell_type": "markdown",
   "metadata": {},
   "source": [
    "## Set preview and kernel sizes"
   ]
  },
  {
   "cell_type": "code",
   "execution_count": 29,
   "metadata": {
    "scrolled": true
   },
   "outputs": [
    {
     "name": "stdout",
     "output_type": "stream",
     "text": [
      "[0.228]\n",
      "File:  D:/OneDrive - UW/Research/Prof Peter/TEM Analysis/Alex_Analysis-04262021/NAYFGel_29.tif\n",
      "Raw size:  (2115, 2048, 3)\n",
      "Preview size:  (819, 846, 3)\n"
     ]
    }
   ],
   "source": [
    "# Set preview and kernel sizes\n",
    "\n",
    "%matplotlib agg\n",
    "\n",
    "plt.rcParams['figure.figsize'] = [15, 15]\n",
    "\n",
    "prev_scale = 0.4\n",
    "kernel_sideraw = 100\n",
    "kernel_side = kernel_sideraw*prev_scale\n",
    "ksize = 100\n",
    "\n",
    "Npx = kernel_sideraw\n",
    "perpix = calibs/Npx\n",
    "print(perpix)\n",
    "\n",
    "prev_locations = []\n",
    "img_locations = []\n",
    "counter = 0\n",
    "\n",
    "f = fileselect.files\n",
    "img = cv2.imread(f[0])\n",
    "rawsize = np.shape(img)\n",
    "print(\"File: \", f[0])\n",
    "print(\"Raw size: \", rawsize)\n",
    "\n",
    "imprev = cv2.resize(img, (int(rawsize[0]*prev_scale), int(rawsize[1]*prev_scale)))                    # Resize image\n",
    "prevsize = np.shape(imprev)\n",
    "print(\"Preview size: \", prevsize)\n",
    "\n",
    "xx = np.linspace(0,ksize,ksize)\n",
    "yy = np.linspace(0,ksize,ksize)\n",
    "X,Y = np.meshgrid(xx,yy)\n",
    "\n",
    "\n",
    "head,tail = os.path.split(f[0])"
   ]
  },
  {
   "cell_type": "markdown",
   "metadata": {},
   "source": [
    "## Image display for analysis and click point"
   ]
  },
  {
   "cell_type": "code",
   "execution_count": 31,
   "metadata": {},
   "outputs": [
    {
     "name": "stdout",
     "output_type": "stream",
     "text": [
      "Preview location 2: 604, 318\n"
     ]
    },
    {
     "name": "stderr",
     "output_type": "stream",
     "text": [
      "<ipython-input-17-a40c4154516b>:35: MatplotlibDeprecationWarning: Adding an axes using the same arguments as a previous axes currently reuses the earlier instance.  In a future version, a new instance will always be created and returned.  Meanwhile, this warning can be suppressed, and the future behavior ensured, by passing a unique label to each axes instance.\n",
      "  ax = plt.axes(projection='3d')\n",
      "<ipython-input-17-a40c4154516b>:41: DeprecationWarning: The binary mode of fromstring is deprecated, as it behaves surprisingly on unicode inputs. Use frombuffer instead\n",
      "  img_1 = np.fromstring(fig_3.canvas.tostring_rgb(), dtype=np.uint8, sep='')\n",
      "C:\\ProgramData\\Anaconda3\\lib\\site-packages\\scipy\\optimize\\minpack.py:828: OptimizeWarning: Covariance of the parameters could not be estimated\n",
      "  warnings.warn('Covariance of the parameters could not be estimated',\n",
      "<ipython-input-26-20a08ac7a3bc>:74: DeprecationWarning: The binary mode of fromstring is deprecated, as it behaves surprisingly on unicode inputs. Use frombuffer instead\n",
      "  img_p = np.fromstring(fig_p.canvas.tostring_rgb(), dtype=np.uint8, sep='')\n"
     ]
    },
    {
     "name": "stdout",
     "output_type": "stream",
     "text": [
      "50 50\n"
     ]
    },
    {
     "name": "stderr",
     "output_type": "stream",
     "text": [
      "<ipython-input-26-20a08ac7a3bc>:63: RuntimeWarning: More than 20 figures have been opened. Figures created through the pyplot interface (`matplotlib.pyplot.figure`) are retained until explicitly closed and may consume too much memory. (To control this warning, see the rcParam `figure.max_open_warning`).\n",
      "  fig_p, (axs1,axs2) = plt.subplots(1,2)\n",
      "<ipython-input-6-41140a8899d9>:10: RuntimeWarning: divide by zero encountered in double_scalars\n",
      "  frac = num/den\n",
      "<ipython-input-6-41140a8899d9>:12: RuntimeWarning: invalid value encountered in arccos\n",
      "  return math.degrees(np.arccos(frac))\n",
      "<ipython-input-6-41140a8899d9>:10: RuntimeWarning: invalid value encountered in double_scalars\n",
      "  frac = num/den\n"
     ]
    },
    {
     "name": "stdout",
     "output_type": "stream",
     "text": [
      "[0.30859541 0.         0.30859541]\n",
      "[0.30859541 0.30859541]\n",
      "[3.08595414]\n",
      "88.89586457394122\n",
      "[88.89586457]\n",
      "[274.32856163]\n",
      "3.0859541435539115\n",
      "[0, 0]\n",
      "Preview location 3: 600, 291\n"
     ]
    },
    {
     "name": "stderr",
     "output_type": "stream",
     "text": [
      "<ipython-input-17-a40c4154516b>:35: MatplotlibDeprecationWarning: Adding an axes using the same arguments as a previous axes currently reuses the earlier instance.  In a future version, a new instance will always be created and returned.  Meanwhile, this warning can be suppressed, and the future behavior ensured, by passing a unique label to each axes instance.\n",
      "  ax = plt.axes(projection='3d')\n",
      "C:\\ProgramData\\Anaconda3\\lib\\site-packages\\scipy\\optimize\\minpack.py:828: OptimizeWarning: Covariance of the parameters could not be estimated\n",
      "  warnings.warn('Covariance of the parameters could not be estimated',\n"
     ]
    },
    {
     "name": "stdout",
     "output_type": "stream",
     "text": [
      "50 50\n",
      "[0.]\n",
      "[]\n",
      "nan\n",
      "[]\n"
     ]
    },
    {
     "name": "stderr",
     "output_type": "stream",
     "text": [
      "<ipython-input-12-53f9810860a9>:53: RuntimeWarning: invalid value encountered in double_scalars\n",
      "  d_avg = np.sum(wt_d_ar)/np.sum(intes_imp_ar)\n"
     ]
    },
    {
     "data": {
      "text/plain": [
       "-1"
      ]
     },
     "execution_count": 31,
     "metadata": {},
     "output_type": "execute_result"
    }
   ],
   "source": [
    "# Image display for analysis and click point\n",
    "\n",
    "cv2.imshow(tail,imprev)\n",
    "cv2.setMouseCallback(tail,mousepoint)\n",
    "cv2.waitKey(0)"
   ]
  },
  {
   "cell_type": "markdown",
   "metadata": {},
   "source": [
    "# Data visulationd and plotting"
   ]
  },
  {
   "cell_type": "markdown",
   "metadata": {},
   "source": [
    "## All data plotting"
   ]
  },
  {
   "cell_type": "code",
   "execution_count": 195,
   "metadata": {
    "scrolled": true
   },
   "outputs": [
    {
     "data": {
      "application/vnd.plotly.v1+json": {
       "config": {
        "plotlyServerURL": "https://plot.ly"
       },
       "data": [
        {
         "hovertemplate": "aNaYF4 Delta_d=%{x}<br>cYF3 Delta_d=%{y}<extra></extra>",
         "legendgroup": "",
         "marker": {
          "color": "#636efa",
          "symbol": "circle"
         },
         "mode": "markers",
         "name": "",
         "orientation": "v",
         "showlegend": false,
         "type": "scatter",
         "x": [
          0.009170707816938073,
          0.18897660818713424,
          0.18897660818713424,
          0.009170707816938073,
          0.07215585644608824,
          0.03892777207752607,
          0.009170707816938073,
          0.13834114947551912,
          0.17647737398993657,
          0.14581693094980208,
          0.20779072808634913,
          0.21570916329284762,
          0.06709019736815724,
          0.07215585644608824,
          0.09481922908079765,
          0.06082999627327901,
          0.18897660818713424,
          0.09481922908079765,
          0.07215585644608824,
          0.14581693094980208,
          0.14452703639742426,
          0.009170707816938073,
          0.18755973035703377,
          0.18897660818713424,
          0.20779072808634913,
          0.20779072808634913,
          0.20779072808634913,
          0.182500461569032,
          0.07282631431789444,
          0.7648162763154196,
          0.18897660818713424,
          0.0010233739092342375,
          0.06651553549915645,
          0.4842356076201737,
          0.009170707816938073,
          0.07282631431789444,
          0.7648162763154196,
          0.20779072808634913,
          1.1426824372408784,
          0.3092997150969068,
          0.034167711297324876,
          0.17647737398993657,
          0.05676446848005501,
          1.272383616457064,
          0.16332719497846382,
          0.07282631431789444,
          0.14581693094980208,
          0.14581693094980208,
          0.11699050315115622,
          0.20779072808634913,
          0.010567150642479595,
          0.02879858437250271,
          0.18897660818713424,
          0.025277919799499227,
          0.182500461569032,
          0.18897660818713424,
          0.20779072808634913,
          0.182500461569032,
          0.2057715300323264,
          1.1426824372408784,
          0.033239386495191425,
          0.0010233739092342375,
          0.08440502865449595,
          1.227854912280701,
          0.0010233739092342375,
          0.07282631431789444,
          0.18897660818713424,
          0.0010233739092342375,
          0.18897660818713424,
          1.465102953462543,
          0.16332719497846382,
          0.05676446848005501,
          0.08440502865449595,
          0.7648162763154196,
          0.05676446848005501,
          0.03892777207752607,
          0.02879858437250271,
          0.18897660818713424,
          0.7648162763154196,
          0.05676446848005501,
          0.4842356076201737,
          0.14581693094980208,
          0.014940030938410676,
          1.20608820267539,
          0.18897660818713424,
          0.18897660818713424,
          0.3092997150969068,
          0.18897660818713424,
          0.009170707816938073,
          0.6886356987150406,
          0.07215585644608824,
          0.2057715300323264,
          0.18755973035703377,
          0.09024836140715298,
          0.034167711297324876,
          0.20779072808634913,
          0.05676446848005501,
          0.08440502865449595,
          0.18897660818713424,
          0.034167711297324876,
          0.05676446848005501,
          0.06651553549915645,
          0.07215585644608824,
          0.20779072808634913,
          0.07215585644608824,
          0.034167711297324876,
          0.05676446848005501,
          0.07215585644608824,
          0.014940030938410676,
          0.14581693094980208,
          0.033239386495191425,
          0.14581693094980208,
          0.025277919799499227,
          0.14581693094980208,
          0.18755973035703377,
          0.033239386495191425,
          0.09481922908079765,
          0.20779072808634913,
          0.20779072808634913,
          0.033239386495191425,
          0.14581693094980208,
          0.14452703639742426,
          0.06651553549915645,
          0.009170707816938073,
          0.07215585644608824,
          0.03892777207752607,
          0.034167711297324876,
          0.05676446848005501,
          0.16332719497846382,
          0.14581693094980208,
          0.07215585644608824,
          0.11855269178994066,
          0.02934549706672529,
          0.11699050315115622,
          1.20608820267539,
          0.11699050315115622,
          0.11699050315115622,
          2.282009938123178,
          0.11699050315115622,
          0.06651553549915645,
          1.20608820267539,
          0.11699050315115622,
          0.11699050315115622,
          0.13219495816058524,
          0.20779072808634913,
          0.11699050315115622,
          0.13834114947551912,
          0.0010233739092342375,
          0.11699050315115622,
          0.11699050315115622,
          1.20608820267539,
          0.14452703639742426,
          0.0010233739092342375,
          0.11699050315115622,
          0.0010233739092342375,
          0.0010233739092342375,
          0.2057715300323264,
          0.11699050315115622,
          0.11699050315115622,
          0.49686076023391745,
          0.20779072808634913,
          0.11699050315115622,
          0.18897660818713424,
          0.44713094967888756,
          0.0010233739092342375,
          0.11699050315115622,
          0.16332719497846382,
          0.14581693094980208,
          0.03892777207752607,
          0.11099523026285008,
          0.18897660818713424,
          0.09481922908079765,
          0.03892777207752607,
          0.182500461569032,
          0.20779072808634913,
          0.20779072808634913,
          0.14581693094980208,
          0.16332719497846382,
          0.21570916329284762,
          0.07215585644608824,
          0.16332719497846382,
          0.3092997150969068,
          0.07215585644608824,
          0.13834114947551912,
          0.05676446848005501,
          0.13834114947551912,
          0.14452703639742426,
          0.44713094967888756,
          0.09481922908079765,
          0.06082999627327901,
          0.025277919799499227,
          0.20779072808634913,
          0.07215585644608824,
          0.18897660818713424,
          0.14581693094980208,
          0.07215585644608824,
          0.03892777207752607,
          0.14581693094980208,
          0.18755973035703377,
          0.05519904878017834,
          0.16332719497846382,
          0.20779072808634913,
          0.0010233739092342375,
          0.20779072808634913,
          0.11099523026285008,
          0.20779072808634913,
          0.09481922908079765,
          0.09481922908079765,
          0.11099523026285008,
          0.05519904878017834,
          0.09481922908079765,
          0.11099523026285008,
          0.05519904878017834,
          0.18755973035703377,
          0.7648162763154196,
          0.9678587209806895,
          0.11699050315115622,
          0.18755973035703377,
          0.11699050315115622,
          0.20779072808634913,
          0.14581693094980208,
          0.033239386495191425,
          0.14581693094980208,
          0.11699050315115622,
          0.033239386495191425,
          0.14581693094980208,
          0.033239386495191425,
          0.14581693094980208,
          0.14452703639742426,
          0.11099523026285008,
          0.18897660818713424,
          0.025277919799499227,
          0.11699050315115622,
          0.20779072808634913,
          0.17647737398993657,
          0.14581693094980208,
          0.18755973035703377,
          0.20779072808634913,
          0.033239386495191425,
          0.182500461569032,
          0.18755973035703377,
          0.20779072808634913,
          0.05676446848005501,
          0.18755973035703377,
          0.21570916329284762,
          0.20779072808634913,
          0.05676446848005501,
          0.8127560544964263,
          0.18897660818713424,
          0.11699050315115622,
          0.07215585644608824,
          0.20779072808634913,
          0.4717403886068765,
          0.2057715300323264,
          0.11699050315115622,
          0.2667531993115362,
          0.13219495816058524,
          0.17647737398993657,
          0.11699050315115622,
          0.14581693094980208,
          0.9678587209806895,
          0.09481922908079765,
          0.9678587209806895,
          0.18897660818713424,
          0.11699050315115622,
          0.09481922908079765,
          0.09481922908079765,
          0.18897660818713424,
          0.18755973035703377,
          0.182500461569032,
          0.18897660818713424,
          0.14452703639742426,
          0.0008897436482686594,
          0.182500461569032,
          0.18755973035703377,
          0.13834114947551912,
          0.14452703639742426,
          0.033239386495191425,
          0.18897660818713424,
          0.014940030938410676,
          0.17647737398993657,
          0.16332719497846382,
          0.14581693094980208,
          0.06651553549915645,
          0.20779072808634913,
          0.3422710722264126,
          0.13834114947551912,
          0.13834114947551912,
          0.182500461569032,
          0.20779072808634913,
          0.2057715300323264,
          0.18897660818713424,
          0.21570916329284762,
          0.182500461569032,
          0.06709019736815724,
          0.18897660818713424,
          0.14452703639742426,
          0.18897660818713424,
          0.18755973035703377,
          0.0010233739092342375,
          0.025277919799499227,
          0.13834114947551912,
          0.9141561880932421,
          0.11099523026285008,
          0.49686076023391745,
          0.38773247129141764,
          0.182500461569032,
          0.03892777207752607,
          0.14452703639742426,
          0.21570916329284762,
          0.182500461569032,
          0.03892777207752607,
          0.009170707816938073,
          0.18897660818713424,
          0.13834114947551912,
          0.13834114947551912,
          0.11099523026285008,
          0.182500461569032,
          0.4842356076201737,
          0.4842356076201737,
          0.06709019736815724,
          0.2057715300323264,
          0.182500461569032,
          0.18897660818713424,
          0.38773247129141764,
          0.17647737398993657,
          0.7648162763154196,
          0.20779072808634913,
          0.3092997150969068,
          0.10195204494371213,
          0.0010233739092342375,
          0.025277919799499227,
          0.13834114947551912,
          0.09481922908079765,
          0.06651553549915645,
          0.0008897436482686594,
          0.09481922908079765,
          0.18897660818713424,
          0.18755973035703377,
          0.18755973035703377,
          0.1293096885783389,
          0.07215585644608824,
          0.6886356987150406,
          0.14581693094980208,
          0.009170707816938073,
          0.025277919799499227,
          0.20779072808634913,
          0.18755973035703377,
          0.033239386495191425,
          0.18897660818713424,
          0.20779072808634913,
          0.18897660818713424,
          0.18755973035703377,
          0.07215585644608824,
          0.20779072808634913,
          0.07215585644608824,
          0.03892777207752607,
          0.20779072808634913,
          0.07215585644608824,
          0.20779072808634913,
          0.07215585644608824,
          0.13834114947551912,
          0.18897660818713424,
          0.07282631431789444,
          0.20779072808634913,
          0.182500461569032,
          0.20779072808634913,
          0.06651553549915645,
          0.06709019736815724,
          0.20779072808634913,
          0.07215585644608824,
          0.014940030938410676,
          0.11699050315115622,
          0.11699050315115622,
          0.20779072808634913,
          0.11699050315115622,
          0.025277919799499227,
          0.182500461569032,
          0.20779072808634913,
          0.13834114947551912,
          0.14452703639742426,
          0.033239386495191425,
          0.020155874604504742,
          0.033239386495191425,
          0.06709019736815724,
          0.040723171780916,
          0.20779072808634913,
          0.07215585644608824,
          0.11099523026285008,
          0.0008897436482686594,
          0.11699050315115622,
          0.09024836140715298,
          0.09481922908079765,
          0.11699050315115622,
          0.03892777207752607,
          0.13219495816058524,
          0.07282631431789444,
          0.20779072808634913,
          0.182500461569032,
          0.11699050315115622,
          0.18897660818713424,
          0.06709019736815724,
          0.03892777207752607,
          0.182500461569032,
          0.18755973035703377,
          0.13834114947551912,
          0.05676446848005501,
          0.182500461569032,
          0.05676446848005501,
          0.11699050315115622,
          0.20779072808634913,
          0.07215585644608824,
          0.18897660818713424,
          0.16332719497846382,
          0.06651553549915645,
          0.18897660818713424,
          0.18897660818713424,
          0.11699050315115622,
          0.18897660818713424,
          0.18897660818713424,
          0.0010233739092342375,
          0.18897660818713424,
          0.18897660818713424,
          0.18897660818713424,
          0.11699050315115622,
          0.06651553549915645,
          0.18755973035703377,
          0.18897660818713424,
          0.20779072808634913,
          0.20779072808634913,
          0.2057715300323264,
          0.009170707816938073,
          0.07215585644608824,
          0.2057715300323264,
          0.14581693094980208,
          0.07215585644608824,
          0.13219495816058524,
          0.09024836140715298,
          0.07215585644608824,
          0.09481922908079765,
          0.009170707816938073,
          0.18897660818713424,
          0.14581693094980208,
          0.03892777207752607,
          0.20779072808634913,
          0.20779072808634913,
          0.20779072808634913,
          0.20779072808634913,
          0.18897660818713424,
          0.009170707816938073,
          0.18897660818713424,
          0.05676446848005501,
          0.10195204494371213,
          0.18755973035703377,
          0.4842356076201737,
          0.18897660818713424,
          0.07282631431789444,
          0.182500461569032,
          0.08440502865449595,
          0.14452703639742426,
          0.18897660818713424,
          0.14452703639742426,
          0.05676446848005501,
          0.08440502865449595,
          0.18897660818713424,
          0.18897660818713424,
          0.20779072808634913,
          0.18755973035703377,
          0.182500461569032,
          0.14581693094980208,
          0.18897660818713424,
          0.18897660818713424,
          0.11699050315115622,
          0.18897660818713424,
          0.11699050315115622,
          0.20779072808634913,
          2.282009938123178,
          0.18897660818713424,
          0.4717403886068765,
          0.2057715300323264,
          0.18897660818713424,
          0.11699050315115622,
          0.3092997150969068,
          0.09481922908079765,
          0.14581693094980208,
          0.08440502865449595,
          0.1293096885783389,
          0.3092997150969068,
          0.20779072808634913,
          0.182500461569032,
          0.06709019736815724,
          0.182500461569032,
          0.11699050315115622,
          0.20779072808634913,
          0.18755973035703377,
          0.07215585644608824,
          0.09481922908079765,
          0.20779072808634913,
          0.11699050315115622,
          0.18897660818713424,
          0.49686076023391745,
          0.182500461569032,
          0.13834114947551912,
          0.09024836140715298,
          0.05676446848005501,
          0.18897660818713424,
          0.009170707816938073,
          0.5890727092840384,
          0.07215585644608824,
          0.11699050315115622,
          0.6886356987150406,
          0.20779072808634913,
          0.21570916329284762,
          0.06651553549915645,
          0.21570916329284762,
          0.20779072808634913,
          0.6028238847041409,
          0.18897660818713424,
          0.3422710722264126,
          0.14581693094980208,
          0.9141561880932421,
          0.06651553549915645,
          0.09481922908079765,
          0.182500461569032,
          0.18897660818713424,
          0.06082999627327901,
          0.18897660818713424,
          0.20779072808634913,
          0.20779072808634913,
          0.11099523026285008,
          0.20779072808634913,
          0.07282631431789444,
          0.16332719497846382,
          0.11099523026285008,
          0.06651553549915645,
          0.03892777207752607,
          0.18897660818713424,
          0.11699050315115622,
          0.14581693094980208,
          0.182500461569032,
          0.18897660818713424,
          0.020155874604504742,
          0.0008897436482686594,
          0.09481922908079765,
          0.18897660818713424,
          0.03892777207752607,
          0.16332719497846382,
          0.18897660818713424,
          0.14452703639742426,
          0.0008897436482686594,
          0.08440502865449595,
          0.9141561880932421,
          0.009170707816938073,
          0.2057715300323264,
          0.05676446848005501,
          0.182500461569032,
          0.20779072808634913,
          0.033239386495191425,
          0.18897660818713424,
          0.3092997150969068,
          0.18897660818713424,
          0.3092997150969068,
          0.06082999627327901,
          0.2057715300323264,
          0.06651553549915645,
          0.09024836140715298,
          0.09024836140715298,
          0.20779072808634913,
          0.14581693094980208,
          0.06709019736815724,
          0.033239386495191425,
          0.13834114947551912,
          0.13834114947551912,
          0.0008897436482686594,
          0.16332719497846382,
          0.18897660818713424,
          0.0008897436482686594,
          0.16332719497846382,
          0.0008897436482686594,
          0.182500461569032,
          0.18897660818713424,
          0.03892777207752607,
          0.16332719497846382,
          0.18897660818713424,
          0.2667531993115362,
          0.18897660818713424,
          0.20779072808634913,
          0.21570916329284762,
          0.033239386495191425,
          0.2667531993115362,
          0.17647737398993657,
          0.20779072808634913,
          0.06651553549915645,
          0.20779072808634913,
          0.05676446848005501,
          0.20779072808634913,
          0.06651553549915645,
          0.182500461569032,
          0.20779072808634913,
          0.182500461569032,
          0.20779072808634913,
          0.025277919799499227,
          0.16332719497846382,
          0.18897660818713424,
          0.14452703639742426,
          0.0008897436482686594,
          0.13834114947551912,
          0.2667531993115362,
          0.18897660818713424
         ],
         "xaxis": "x",
         "y": [
          0.109620707816938,
          0.10197660818713405,
          0.10197660818713405,
          0.109620707816938,
          0.17260585644608817,
          0.04807222792247412,
          0.109620707816938,
          0.05134114947551893,
          0.07602737398993664,
          0.19029306905019805,
          0.128319271913651,
          0.11525916329284769,
          0.019909802631842943,
          0.17260585644608817,
          0.19526922908079758,
          0.1478299962732792,
          0.10197660818713405,
          0.19526922908079758,
          0.17260585644608817,
          0.19029306905019805,
          0.05752703639742407,
          0.109620707816938,
          0.14855026964296636,
          0.10197660818713405,
          0.128319271913651,
          0.128319271913651,
          0.128319271913651,
          0.0955004615690318,
          0.014173685682105752,
          0.06798372368458017,
          0.10197660818713405,
          0.10147337390923417,
          0.033934464500843475,
          0.34856439237982606,
          0.109620707816938,
          0.014173685682105752,
          0.06798372368458017,
          0.128319271913651,
          0.3098824372408786,
          0.20884971509690686,
          0.01844228870267517,
          0.07602737398993664,
          0.15721446848005494,
          0.43958361645706434,
          0.07632719497846363,
          0.014173685682105752,
          0.19029306905019805,
          0.19029306905019805,
          0.21744050315115615,
          0.128319271913651,
          0.04204284935752045,
          0.023811415627497334,
          0.10197660818713405,
          0.12572791979949915,
          0.0955004615690318,
          0.10197660818713405,
          0.128319271913651,
          0.0955004615690318,
          0.10532153003232647,
          0.3098824372408786,
          0.13368938649519135,
          0.10147337390923417,
          0.002594971345504238,
          0.3950549122807012,
          0.10147337390923417,
          0.014173685682105752,
          0.10197660818713405,
          0.10147337390923417,
          0.10197660818713405,
          0.6323029534625433,
          0.07632719497846363,
          0.15721446848005494,
          0.002594971345504238,
          0.06798372368458017,
          0.15721446848005494,
          0.04807222792247412,
          0.023811415627497334,
          0.10197660818713405,
          0.06798372368458017,
          0.15721446848005494,
          0.34856439237982606,
          0.19029306905019805,
          0.10194003093841086,
          0.3732882026753903,
          0.10197660818713405,
          0.10197660818713405,
          0.20884971509690686,
          0.10197660818713405,
          0.109620707816938,
          0.14416430128495916,
          0.17260585644608817,
          0.10532153003232647,
          0.14855026964296636,
          0.003248361407152789,
          0.01844228870267517,
          0.128319271913651,
          0.15721446848005494,
          0.002594971345504238,
          0.10197660818713405,
          0.01844228870267517,
          0.15721446848005494,
          0.033934464500843475,
          0.17260585644608817,
          0.128319271913651,
          0.17260585644608817,
          0.01844228870267517,
          0.15721446848005494,
          0.17260585644608817,
          0.10194003093841086,
          0.19029306905019805,
          0.13368938649519135,
          0.19029306905019805,
          0.12572791979949915,
          0.19029306905019805,
          0.14855026964296636,
          0.13368938649519135,
          0.19526922908079758,
          0.128319271913651,
          0.128319271913651,
          0.13368938649519135,
          0.19029306905019805,
          0.05752703639742407,
          0.033934464500843475,
          0.109620707816938,
          0.17260585644608817,
          0.04807222792247412,
          0.01844228870267517,
          0.15721446848005494,
          0.07632719497846363,
          0.19029306905019805,
          0.17260585644608817,
          0.09237730821005918,
          0.01565549706672531,
          0.21744050315115615,
          0.3732882026753903,
          0.21744050315115615,
          0.21744050315115615,
          0.20388006187682173,
          0.21744050315115615,
          0.033934464500843475,
          0.3732882026753903,
          0.21744050315115615,
          0.21744050315115615,
          0.04519495816058505,
          0.128319271913651,
          0.21744050315115615,
          0.05134114947551893,
          0.10147337390923417,
          0.21744050315115615,
          0.21744050315115615,
          0.3732882026753903,
          0.05752703639742407,
          0.10147337390923417,
          0.21744050315115615,
          0.10147337390923417,
          0.10147337390923417,
          0.10532153003232647,
          0.21744050315115615,
          0.21744050315115615,
          0.3359392397660823,
          0.128319271913651,
          0.21744050315115615,
          0.10197660818713405,
          0.34668094967888763,
          0.10147337390923417,
          0.21744050315115615,
          0.07632719497846363,
          0.19029306905019805,
          0.04807222792247412,
          0.010545230262850147,
          0.10197660818713405,
          0.19526922908079758,
          0.04807222792247412,
          0.0955004615690318,
          0.128319271913651,
          0.128319271913651,
          0.19029306905019805,
          0.07632719497846363,
          0.11525916329284769,
          0.17260585644608817,
          0.07632719497846363,
          0.20884971509690686,
          0.17260585644608817,
          0.05134114947551893,
          0.15721446848005494,
          0.05134114947551893,
          0.05752703639742407,
          0.34668094967888763,
          0.19526922908079758,
          0.1478299962732792,
          0.12572791979949915,
          0.128319271913651,
          0.17260585644608817,
          0.10197660818713405,
          0.19029306905019805,
          0.17260585644608817,
          0.04807222792247412,
          0.19029306905019805,
          0.14855026964296636,
          0.0025890487801782935,
          0.07632719497846363,
          0.128319271913651,
          0.10147337390923417,
          0.128319271913651,
          0.010545230262850147,
          0.128319271913651,
          0.19526922908079758,
          0.19526922908079758,
          0.010545230262850147,
          0.0025890487801782935,
          0.19526922908079758,
          0.010545230262850147,
          0.0025890487801782935,
          0.14855026964296636,
          0.06798372368458017,
          0.13505872098068972,
          0.21744050315115615,
          0.14855026964296636,
          0.21744050315115615,
          0.128319271913651,
          0.19029306905019805,
          0.13368938649519135,
          0.19029306905019805,
          0.21744050315115615,
          0.13368938649519135,
          0.19029306905019805,
          0.13368938649519135,
          0.19029306905019805,
          0.05752703639742407,
          0.010545230262850147,
          0.10197660818713405,
          0.12572791979949915,
          0.21744050315115615,
          0.128319271913651,
          0.07602737398993664,
          0.19029306905019805,
          0.14855026964296636,
          0.128319271913651,
          0.13368938649519135,
          0.0955004615690318,
          0.14855026964296636,
          0.128319271913651,
          0.15721446848005494,
          0.14855026964296636,
          0.11525916329284769,
          0.128319271913651,
          0.15721446848005494,
          0.020043945503573468,
          0.10197660818713405,
          0.21744050315115615,
          0.17260585644608817,
          0.128319271913651,
          0.36105961139312326,
          0.10532153003232647,
          0.21744050315115615,
          0.16630319931153625,
          0.04519495816058505,
          0.07602737398993664,
          0.21744050315115615,
          0.19029306905019805,
          0.13505872098068972,
          0.19526922908079758,
          0.13505872098068972,
          0.10197660818713405,
          0.21744050315115615,
          0.19526922908079758,
          0.19526922908079758,
          0.10197660818713405,
          0.14855026964296636,
          0.0955004615690318,
          0.10197660818713405,
          0.05752703639742407,
          0.08611025635173153,
          0.0955004615690318,
          0.14855026964296636,
          0.05134114947551893,
          0.05752703639742407,
          0.13368938649519135,
          0.10197660818713405,
          0.10194003093841086,
          0.07602737398993664,
          0.07632719497846363,
          0.19029306905019805,
          0.033934464500843475,
          0.128319271913651,
          0.2418210722264127,
          0.05134114947551893,
          0.05134114947551893,
          0.0955004615690318,
          0.128319271913651,
          0.10532153003232647,
          0.10197660818713405,
          0.11525916329284769,
          0.0955004615690318,
          0.019909802631842943,
          0.10197660818713405,
          0.05752703639742407,
          0.10197660818713405,
          0.14855026964296636,
          0.10147337390923417,
          0.12572791979949915,
          0.05134114947551893,
          0.0813561880932423,
          0.010545230262850147,
          0.3359392397660823,
          0.2872824712914177,
          0.0955004615690318,
          0.04807222792247412,
          0.05752703639742407,
          0.11525916329284769,
          0.0955004615690318,
          0.04807222792247412,
          0.109620707816938,
          0.10197660818713405,
          0.05134114947551893,
          0.05134114947551893,
          0.010545230262850147,
          0.0955004615690318,
          0.34856439237982606,
          0.34856439237982606,
          0.019909802631842943,
          0.10532153003232647,
          0.0955004615690318,
          0.10197660818713405,
          0.2872824712914177,
          0.07602737398993664,
          0.06798372368458017,
          0.128319271913651,
          0.20884971509690686,
          0.0015020449437121997,
          0.10147337390923417,
          0.12572791979949915,
          0.05134114947551893,
          0.19526922908079758,
          0.033934464500843475,
          0.08611025635173153,
          0.19526922908079758,
          0.10197660818713405,
          0.14855026964296636,
          0.14855026964296636,
          0.028859688578338982,
          0.17260585644608817,
          0.14416430128495916,
          0.19029306905019805,
          0.109620707816938,
          0.12572791979949915,
          0.128319271913651,
          0.14855026964296636,
          0.13368938649519135,
          0.10197660818713405,
          0.128319271913651,
          0.10197660818713405,
          0.14855026964296636,
          0.17260585644608817,
          0.128319271913651,
          0.17260585644608817,
          0.04807222792247412,
          0.128319271913651,
          0.17260585644608817,
          0.128319271913651,
          0.17260585644608817,
          0.05134114947551893,
          0.10197660818713405,
          0.014173685682105752,
          0.128319271913651,
          0.0955004615690318,
          0.128319271913651,
          0.033934464500843475,
          0.019909802631842943,
          0.128319271913651,
          0.17260585644608817,
          0.10194003093841086,
          0.21744050315115615,
          0.21744050315115615,
          0.128319271913651,
          0.21744050315115615,
          0.12572791979949915,
          0.0955004615690318,
          0.128319271913651,
          0.05134114947551893,
          0.05752703639742407,
          0.13368938649519135,
          0.10715587460450493,
          0.13368938649519135,
          0.019909802631842943,
          0.1277231717809162,
          0.128319271913651,
          0.17260585644608817,
          0.010545230262850147,
          0.08611025635173153,
          0.21744050315115615,
          0.003248361407152789,
          0.19526922908079758,
          0.21744050315115615,
          0.04807222792247412,
          0.04519495816058505,
          0.014173685682105752,
          0.128319271913651,
          0.0955004615690318,
          0.21744050315115615,
          0.10197660818713405,
          0.019909802631842943,
          0.04807222792247412,
          0.0955004615690318,
          0.14855026964296636,
          0.05134114947551893,
          0.15721446848005494,
          0.0955004615690318,
          0.15721446848005494,
          0.21744050315115615,
          0.128319271913651,
          0.17260585644608817,
          0.10197660818713405,
          0.07632719497846363,
          0.033934464500843475,
          0.10197660818713405,
          0.10197660818713405,
          0.21744050315115615,
          0.10197660818713405,
          0.10197660818713405,
          0.10147337390923417,
          0.10197660818713405,
          0.10197660818713405,
          0.10197660818713405,
          0.21744050315115615,
          0.033934464500843475,
          0.14855026964296636,
          0.10197660818713405,
          0.128319271913651,
          0.128319271913651,
          0.10532153003232647,
          0.109620707816938,
          0.17260585644608817,
          0.10532153003232647,
          0.19029306905019805,
          0.17260585644608817,
          0.04519495816058505,
          0.003248361407152789,
          0.17260585644608817,
          0.19526922908079758,
          0.109620707816938,
          0.10197660818713405,
          0.19029306905019805,
          0.04807222792247412,
          0.128319271913651,
          0.128319271913651,
          0.128319271913651,
          0.128319271913651,
          0.10197660818713405,
          0.109620707816938,
          0.10197660818713405,
          0.15721446848005494,
          0.0015020449437121997,
          0.14855026964296636,
          0.34856439237982606,
          0.10197660818713405,
          0.014173685682105752,
          0.0955004615690318,
          0.002594971345504238,
          0.05752703639742407,
          0.10197660818713405,
          0.05752703639742407,
          0.15721446848005494,
          0.002594971345504238,
          0.10197660818713405,
          0.10197660818713405,
          0.128319271913651,
          0.14855026964296636,
          0.0955004615690318,
          0.19029306905019805,
          0.10197660818713405,
          0.10197660818713405,
          0.21744050315115615,
          0.10197660818713405,
          0.21744050315115615,
          0.128319271913651,
          0.20388006187682173,
          0.10197660818713405,
          0.36105961139312326,
          0.10532153003232647,
          0.10197660818713405,
          0.21744050315115615,
          0.20884971509690686,
          0.19526922908079758,
          0.19029306905019805,
          0.002594971345504238,
          0.028859688578338982,
          0.20884971509690686,
          0.128319271913651,
          0.0955004615690318,
          0.019909802631842943,
          0.0955004615690318,
          0.21744050315115615,
          0.128319271913651,
          0.14855026964296636,
          0.17260585644608817,
          0.19526922908079758,
          0.128319271913651,
          0.21744050315115615,
          0.10197660818713405,
          0.3359392397660823,
          0.0955004615690318,
          0.05134114947551893,
          0.003248361407152789,
          0.15721446848005494,
          0.10197660818713405,
          0.109620707816938,
          0.24372729071596133,
          0.17260585644608817,
          0.21744050315115615,
          0.14416430128495916,
          0.128319271913651,
          0.11525916329284769,
          0.033934464500843475,
          0.11525916329284769,
          0.128319271913651,
          0.22997611529585882,
          0.10197660818713405,
          0.2418210722264127,
          0.19029306905019805,
          0.0813561880932423,
          0.033934464500843475,
          0.19526922908079758,
          0.0955004615690318,
          0.10197660818713405,
          0.1478299962732792,
          0.10197660818713405,
          0.128319271913651,
          0.128319271913651,
          0.010545230262850147,
          0.128319271913651,
          0.014173685682105752,
          0.07632719497846363,
          0.010545230262850147,
          0.033934464500843475,
          0.04807222792247412,
          0.10197660818713405,
          0.21744050315115615,
          0.19029306905019805,
          0.0955004615690318,
          0.10197660818713405,
          0.10715587460450493,
          0.08611025635173153,
          0.19526922908079758,
          0.10197660818713405,
          0.04807222792247412,
          0.07632719497846363,
          0.10197660818713405,
          0.05752703639742407,
          0.08611025635173153,
          0.002594971345504238,
          0.0813561880932423,
          0.109620707816938,
          0.10532153003232647,
          0.15721446848005494,
          0.0955004615690318,
          0.128319271913651,
          0.13368938649519135,
          0.10197660818713405,
          0.20884971509690686,
          0.10197660818713405,
          0.20884971509690686,
          0.1478299962732792,
          0.10532153003232647,
          0.033934464500843475,
          0.003248361407152789,
          0.003248361407152789,
          0.128319271913651,
          0.19029306905019805,
          0.019909802631842943,
          0.13368938649519135,
          0.05134114947551893,
          0.05134114947551893,
          0.08611025635173153,
          0.07632719497846363,
          0.10197660818713405,
          0.08611025635173153,
          0.07632719497846363,
          0.08611025635173153,
          0.0955004615690318,
          0.10197660818713405,
          0.04807222792247412,
          0.07632719497846363,
          0.10197660818713405,
          0.16630319931153625,
          0.10197660818713405,
          0.128319271913651,
          0.11525916329284769,
          0.13368938649519135,
          0.16630319931153625,
          0.07602737398993664,
          0.128319271913651,
          0.033934464500843475,
          0.128319271913651,
          0.15721446848005494,
          0.128319271913651,
          0.033934464500843475,
          0.0955004615690318,
          0.128319271913651,
          0.0955004615690318,
          0.128319271913651,
          0.12572791979949915,
          0.07632719497846363,
          0.10197660818713405,
          0.05752703639742407,
          0.08611025635173153,
          0.05134114947551893,
          0.16630319931153625,
          0.10197660818713405
         ],
         "yaxis": "y"
        }
       ],
       "layout": {
        "legend": {
         "tracegroupgap": 0
        },
        "margin": {
         "t": 60
        },
        "template": {
         "data": {
          "bar": [
           {
            "error_x": {
             "color": "#2a3f5f"
            },
            "error_y": {
             "color": "#2a3f5f"
            },
            "marker": {
             "line": {
              "color": "#E5ECF6",
              "width": 0.5
             }
            },
            "type": "bar"
           }
          ],
          "barpolar": [
           {
            "marker": {
             "line": {
              "color": "#E5ECF6",
              "width": 0.5
             }
            },
            "type": "barpolar"
           }
          ],
          "carpet": [
           {
            "aaxis": {
             "endlinecolor": "#2a3f5f",
             "gridcolor": "white",
             "linecolor": "white",
             "minorgridcolor": "white",
             "startlinecolor": "#2a3f5f"
            },
            "baxis": {
             "endlinecolor": "#2a3f5f",
             "gridcolor": "white",
             "linecolor": "white",
             "minorgridcolor": "white",
             "startlinecolor": "#2a3f5f"
            },
            "type": "carpet"
           }
          ],
          "choropleth": [
           {
            "colorbar": {
             "outlinewidth": 0,
             "ticks": ""
            },
            "type": "choropleth"
           }
          ],
          "contour": [
           {
            "colorbar": {
             "outlinewidth": 0,
             "ticks": ""
            },
            "colorscale": [
             [
              0,
              "#0d0887"
             ],
             [
              0.1111111111111111,
              "#46039f"
             ],
             [
              0.2222222222222222,
              "#7201a8"
             ],
             [
              0.3333333333333333,
              "#9c179e"
             ],
             [
              0.4444444444444444,
              "#bd3786"
             ],
             [
              0.5555555555555556,
              "#d8576b"
             ],
             [
              0.6666666666666666,
              "#ed7953"
             ],
             [
              0.7777777777777778,
              "#fb9f3a"
             ],
             [
              0.8888888888888888,
              "#fdca26"
             ],
             [
              1,
              "#f0f921"
             ]
            ],
            "type": "contour"
           }
          ],
          "contourcarpet": [
           {
            "colorbar": {
             "outlinewidth": 0,
             "ticks": ""
            },
            "type": "contourcarpet"
           }
          ],
          "heatmap": [
           {
            "colorbar": {
             "outlinewidth": 0,
             "ticks": ""
            },
            "colorscale": [
             [
              0,
              "#0d0887"
             ],
             [
              0.1111111111111111,
              "#46039f"
             ],
             [
              0.2222222222222222,
              "#7201a8"
             ],
             [
              0.3333333333333333,
              "#9c179e"
             ],
             [
              0.4444444444444444,
              "#bd3786"
             ],
             [
              0.5555555555555556,
              "#d8576b"
             ],
             [
              0.6666666666666666,
              "#ed7953"
             ],
             [
              0.7777777777777778,
              "#fb9f3a"
             ],
             [
              0.8888888888888888,
              "#fdca26"
             ],
             [
              1,
              "#f0f921"
             ]
            ],
            "type": "heatmap"
           }
          ],
          "heatmapgl": [
           {
            "colorbar": {
             "outlinewidth": 0,
             "ticks": ""
            },
            "colorscale": [
             [
              0,
              "#0d0887"
             ],
             [
              0.1111111111111111,
              "#46039f"
             ],
             [
              0.2222222222222222,
              "#7201a8"
             ],
             [
              0.3333333333333333,
              "#9c179e"
             ],
             [
              0.4444444444444444,
              "#bd3786"
             ],
             [
              0.5555555555555556,
              "#d8576b"
             ],
             [
              0.6666666666666666,
              "#ed7953"
             ],
             [
              0.7777777777777778,
              "#fb9f3a"
             ],
             [
              0.8888888888888888,
              "#fdca26"
             ],
             [
              1,
              "#f0f921"
             ]
            ],
            "type": "heatmapgl"
           }
          ],
          "histogram": [
           {
            "marker": {
             "colorbar": {
              "outlinewidth": 0,
              "ticks": ""
             }
            },
            "type": "histogram"
           }
          ],
          "histogram2d": [
           {
            "colorbar": {
             "outlinewidth": 0,
             "ticks": ""
            },
            "colorscale": [
             [
              0,
              "#0d0887"
             ],
             [
              0.1111111111111111,
              "#46039f"
             ],
             [
              0.2222222222222222,
              "#7201a8"
             ],
             [
              0.3333333333333333,
              "#9c179e"
             ],
             [
              0.4444444444444444,
              "#bd3786"
             ],
             [
              0.5555555555555556,
              "#d8576b"
             ],
             [
              0.6666666666666666,
              "#ed7953"
             ],
             [
              0.7777777777777778,
              "#fb9f3a"
             ],
             [
              0.8888888888888888,
              "#fdca26"
             ],
             [
              1,
              "#f0f921"
             ]
            ],
            "type": "histogram2d"
           }
          ],
          "histogram2dcontour": [
           {
            "colorbar": {
             "outlinewidth": 0,
             "ticks": ""
            },
            "colorscale": [
             [
              0,
              "#0d0887"
             ],
             [
              0.1111111111111111,
              "#46039f"
             ],
             [
              0.2222222222222222,
              "#7201a8"
             ],
             [
              0.3333333333333333,
              "#9c179e"
             ],
             [
              0.4444444444444444,
              "#bd3786"
             ],
             [
              0.5555555555555556,
              "#d8576b"
             ],
             [
              0.6666666666666666,
              "#ed7953"
             ],
             [
              0.7777777777777778,
              "#fb9f3a"
             ],
             [
              0.8888888888888888,
              "#fdca26"
             ],
             [
              1,
              "#f0f921"
             ]
            ],
            "type": "histogram2dcontour"
           }
          ],
          "mesh3d": [
           {
            "colorbar": {
             "outlinewidth": 0,
             "ticks": ""
            },
            "type": "mesh3d"
           }
          ],
          "parcoords": [
           {
            "line": {
             "colorbar": {
              "outlinewidth": 0,
              "ticks": ""
             }
            },
            "type": "parcoords"
           }
          ],
          "pie": [
           {
            "automargin": true,
            "type": "pie"
           }
          ],
          "scatter": [
           {
            "marker": {
             "colorbar": {
              "outlinewidth": 0,
              "ticks": ""
             }
            },
            "type": "scatter"
           }
          ],
          "scatter3d": [
           {
            "line": {
             "colorbar": {
              "outlinewidth": 0,
              "ticks": ""
             }
            },
            "marker": {
             "colorbar": {
              "outlinewidth": 0,
              "ticks": ""
             }
            },
            "type": "scatter3d"
           }
          ],
          "scattercarpet": [
           {
            "marker": {
             "colorbar": {
              "outlinewidth": 0,
              "ticks": ""
             }
            },
            "type": "scattercarpet"
           }
          ],
          "scattergeo": [
           {
            "marker": {
             "colorbar": {
              "outlinewidth": 0,
              "ticks": ""
             }
            },
            "type": "scattergeo"
           }
          ],
          "scattergl": [
           {
            "marker": {
             "colorbar": {
              "outlinewidth": 0,
              "ticks": ""
             }
            },
            "type": "scattergl"
           }
          ],
          "scattermapbox": [
           {
            "marker": {
             "colorbar": {
              "outlinewidth": 0,
              "ticks": ""
             }
            },
            "type": "scattermapbox"
           }
          ],
          "scatterpolar": [
           {
            "marker": {
             "colorbar": {
              "outlinewidth": 0,
              "ticks": ""
             }
            },
            "type": "scatterpolar"
           }
          ],
          "scatterpolargl": [
           {
            "marker": {
             "colorbar": {
              "outlinewidth": 0,
              "ticks": ""
             }
            },
            "type": "scatterpolargl"
           }
          ],
          "scatterternary": [
           {
            "marker": {
             "colorbar": {
              "outlinewidth": 0,
              "ticks": ""
             }
            },
            "type": "scatterternary"
           }
          ],
          "surface": [
           {
            "colorbar": {
             "outlinewidth": 0,
             "ticks": ""
            },
            "colorscale": [
             [
              0,
              "#0d0887"
             ],
             [
              0.1111111111111111,
              "#46039f"
             ],
             [
              0.2222222222222222,
              "#7201a8"
             ],
             [
              0.3333333333333333,
              "#9c179e"
             ],
             [
              0.4444444444444444,
              "#bd3786"
             ],
             [
              0.5555555555555556,
              "#d8576b"
             ],
             [
              0.6666666666666666,
              "#ed7953"
             ],
             [
              0.7777777777777778,
              "#fb9f3a"
             ],
             [
              0.8888888888888888,
              "#fdca26"
             ],
             [
              1,
              "#f0f921"
             ]
            ],
            "type": "surface"
           }
          ],
          "table": [
           {
            "cells": {
             "fill": {
              "color": "#EBF0F8"
             },
             "line": {
              "color": "white"
             }
            },
            "header": {
             "fill": {
              "color": "#C8D4E3"
             },
             "line": {
              "color": "white"
             }
            },
            "type": "table"
           }
          ]
         },
         "layout": {
          "annotationdefaults": {
           "arrowcolor": "#2a3f5f",
           "arrowhead": 0,
           "arrowwidth": 1
          },
          "autotypenumbers": "strict",
          "coloraxis": {
           "colorbar": {
            "outlinewidth": 0,
            "ticks": ""
           }
          },
          "colorscale": {
           "diverging": [
            [
             0,
             "#8e0152"
            ],
            [
             0.1,
             "#c51b7d"
            ],
            [
             0.2,
             "#de77ae"
            ],
            [
             0.3,
             "#f1b6da"
            ],
            [
             0.4,
             "#fde0ef"
            ],
            [
             0.5,
             "#f7f7f7"
            ],
            [
             0.6,
             "#e6f5d0"
            ],
            [
             0.7,
             "#b8e186"
            ],
            [
             0.8,
             "#7fbc41"
            ],
            [
             0.9,
             "#4d9221"
            ],
            [
             1,
             "#276419"
            ]
           ],
           "sequential": [
            [
             0,
             "#0d0887"
            ],
            [
             0.1111111111111111,
             "#46039f"
            ],
            [
             0.2222222222222222,
             "#7201a8"
            ],
            [
             0.3333333333333333,
             "#9c179e"
            ],
            [
             0.4444444444444444,
             "#bd3786"
            ],
            [
             0.5555555555555556,
             "#d8576b"
            ],
            [
             0.6666666666666666,
             "#ed7953"
            ],
            [
             0.7777777777777778,
             "#fb9f3a"
            ],
            [
             0.8888888888888888,
             "#fdca26"
            ],
            [
             1,
             "#f0f921"
            ]
           ],
           "sequentialminus": [
            [
             0,
             "#0d0887"
            ],
            [
             0.1111111111111111,
             "#46039f"
            ],
            [
             0.2222222222222222,
             "#7201a8"
            ],
            [
             0.3333333333333333,
             "#9c179e"
            ],
            [
             0.4444444444444444,
             "#bd3786"
            ],
            [
             0.5555555555555556,
             "#d8576b"
            ],
            [
             0.6666666666666666,
             "#ed7953"
            ],
            [
             0.7777777777777778,
             "#fb9f3a"
            ],
            [
             0.8888888888888888,
             "#fdca26"
            ],
            [
             1,
             "#f0f921"
            ]
           ]
          },
          "colorway": [
           "#636efa",
           "#EF553B",
           "#00cc96",
           "#ab63fa",
           "#FFA15A",
           "#19d3f3",
           "#FF6692",
           "#B6E880",
           "#FF97FF",
           "#FECB52"
          ],
          "font": {
           "color": "#2a3f5f"
          },
          "geo": {
           "bgcolor": "white",
           "lakecolor": "white",
           "landcolor": "#E5ECF6",
           "showlakes": true,
           "showland": true,
           "subunitcolor": "white"
          },
          "hoverlabel": {
           "align": "left"
          },
          "hovermode": "closest",
          "mapbox": {
           "style": "light"
          },
          "paper_bgcolor": "white",
          "plot_bgcolor": "#E5ECF6",
          "polar": {
           "angularaxis": {
            "gridcolor": "white",
            "linecolor": "white",
            "ticks": ""
           },
           "bgcolor": "#E5ECF6",
           "radialaxis": {
            "gridcolor": "white",
            "linecolor": "white",
            "ticks": ""
           }
          },
          "scene": {
           "xaxis": {
            "backgroundcolor": "#E5ECF6",
            "gridcolor": "white",
            "gridwidth": 2,
            "linecolor": "white",
            "showbackground": true,
            "ticks": "",
            "zerolinecolor": "white"
           },
           "yaxis": {
            "backgroundcolor": "#E5ECF6",
            "gridcolor": "white",
            "gridwidth": 2,
            "linecolor": "white",
            "showbackground": true,
            "ticks": "",
            "zerolinecolor": "white"
           },
           "zaxis": {
            "backgroundcolor": "#E5ECF6",
            "gridcolor": "white",
            "gridwidth": 2,
            "linecolor": "white",
            "showbackground": true,
            "ticks": "",
            "zerolinecolor": "white"
           }
          },
          "shapedefaults": {
           "line": {
            "color": "#2a3f5f"
           }
          },
          "ternary": {
           "aaxis": {
            "gridcolor": "white",
            "linecolor": "white",
            "ticks": ""
           },
           "baxis": {
            "gridcolor": "white",
            "linecolor": "white",
            "ticks": ""
           },
           "bgcolor": "#E5ECF6",
           "caxis": {
            "gridcolor": "white",
            "linecolor": "white",
            "ticks": ""
           }
          },
          "title": {
           "x": 0.05
          },
          "xaxis": {
           "automargin": true,
           "gridcolor": "white",
           "linecolor": "white",
           "ticks": "",
           "title": {
            "standoff": 15
           },
           "zerolinecolor": "white",
           "zerolinewidth": 2
          },
          "yaxis": {
           "automargin": true,
           "gridcolor": "white",
           "linecolor": "white",
           "ticks": "",
           "title": {
            "standoff": 15
           },
           "zerolinecolor": "white",
           "zerolinewidth": 2
          }
         }
        },
        "xaxis": {
         "anchor": "y",
         "domain": [
          0,
          1
         ],
         "title": {
          "text": "aNaYF4 Delta_d"
         }
        },
        "yaxis": {
         "anchor": "x",
         "domain": [
          0,
          1
         ],
         "title": {
          "text": "cYF3 Delta_d"
         }
        }
       }
      },
      "text/html": [
       "<div>                            <div id=\"65d9ea2c-0389-4c7d-a49d-ba38fe9c61ac\" class=\"plotly-graph-div\" style=\"height:525px; width:100%;\"></div>            <script type=\"text/javascript\">                require([\"plotly\"], function(Plotly) {                    window.PLOTLYENV=window.PLOTLYENV || {};                                    if (document.getElementById(\"65d9ea2c-0389-4c7d-a49d-ba38fe9c61ac\")) {                    Plotly.newPlot(                        \"65d9ea2c-0389-4c7d-a49d-ba38fe9c61ac\",                        [{\"hovertemplate\": \"aNaYF4 Delta_d=%{x}<br>cYF3 Delta_d=%{y}<extra></extra>\", \"legendgroup\": \"\", \"marker\": {\"color\": \"#636efa\", \"symbol\": \"circle\"}, \"mode\": \"markers\", \"name\": \"\", \"orientation\": \"v\", \"showlegend\": false, \"type\": \"scatter\", \"x\": [0.009170707816938073, 0.18897660818713424, 0.18897660818713424, 0.009170707816938073, 0.07215585644608824, 0.03892777207752607, 0.009170707816938073, 0.13834114947551912, 0.17647737398993657, 0.14581693094980208, 0.20779072808634913, 0.21570916329284762, 0.06709019736815724, 0.07215585644608824, 0.09481922908079765, 0.06082999627327901, 0.18897660818713424, 0.09481922908079765, 0.07215585644608824, 0.14581693094980208, 0.14452703639742426, 0.009170707816938073, 0.18755973035703377, 0.18897660818713424, 0.20779072808634913, 0.20779072808634913, 0.20779072808634913, 0.182500461569032, 0.07282631431789444, 0.7648162763154196, 0.18897660818713424, 0.0010233739092342375, 0.06651553549915645, 0.4842356076201737, 0.009170707816938073, 0.07282631431789444, 0.7648162763154196, 0.20779072808634913, 1.1426824372408784, 0.3092997150969068, 0.034167711297324876, 0.17647737398993657, 0.05676446848005501, 1.272383616457064, 0.16332719497846382, 0.07282631431789444, 0.14581693094980208, 0.14581693094980208, 0.11699050315115622, 0.20779072808634913, 0.010567150642479595, 0.02879858437250271, 0.18897660818713424, 0.025277919799499227, 0.182500461569032, 0.18897660818713424, 0.20779072808634913, 0.182500461569032, 0.2057715300323264, 1.1426824372408784, 0.033239386495191425, 0.0010233739092342375, 0.08440502865449595, 1.227854912280701, 0.0010233739092342375, 0.07282631431789444, 0.18897660818713424, 0.0010233739092342375, 0.18897660818713424, 1.465102953462543, 0.16332719497846382, 0.05676446848005501, 0.08440502865449595, 0.7648162763154196, 0.05676446848005501, 0.03892777207752607, 0.02879858437250271, 0.18897660818713424, 0.7648162763154196, 0.05676446848005501, 0.4842356076201737, 0.14581693094980208, 0.014940030938410676, 1.20608820267539, 0.18897660818713424, 0.18897660818713424, 0.3092997150969068, 0.18897660818713424, 0.009170707816938073, 0.6886356987150406, 0.07215585644608824, 0.2057715300323264, 0.18755973035703377, 0.09024836140715298, 0.034167711297324876, 0.20779072808634913, 0.05676446848005501, 0.08440502865449595, 0.18897660818713424, 0.034167711297324876, 0.05676446848005501, 0.06651553549915645, 0.07215585644608824, 0.20779072808634913, 0.07215585644608824, 0.034167711297324876, 0.05676446848005501, 0.07215585644608824, 0.014940030938410676, 0.14581693094980208, 0.033239386495191425, 0.14581693094980208, 0.025277919799499227, 0.14581693094980208, 0.18755973035703377, 0.033239386495191425, 0.09481922908079765, 0.20779072808634913, 0.20779072808634913, 0.033239386495191425, 0.14581693094980208, 0.14452703639742426, 0.06651553549915645, 0.009170707816938073, 0.07215585644608824, 0.03892777207752607, 0.034167711297324876, 0.05676446848005501, 0.16332719497846382, 0.14581693094980208, 0.07215585644608824, 0.11855269178994066, 0.02934549706672529, 0.11699050315115622, 1.20608820267539, 0.11699050315115622, 0.11699050315115622, 2.282009938123178, 0.11699050315115622, 0.06651553549915645, 1.20608820267539, 0.11699050315115622, 0.11699050315115622, 0.13219495816058524, 0.20779072808634913, 0.11699050315115622, 0.13834114947551912, 0.0010233739092342375, 0.11699050315115622, 0.11699050315115622, 1.20608820267539, 0.14452703639742426, 0.0010233739092342375, 0.11699050315115622, 0.0010233739092342375, 0.0010233739092342375, 0.2057715300323264, 0.11699050315115622, 0.11699050315115622, 0.49686076023391745, 0.20779072808634913, 0.11699050315115622, 0.18897660818713424, 0.44713094967888756, 0.0010233739092342375, 0.11699050315115622, 0.16332719497846382, 0.14581693094980208, 0.03892777207752607, 0.11099523026285008, 0.18897660818713424, 0.09481922908079765, 0.03892777207752607, 0.182500461569032, 0.20779072808634913, 0.20779072808634913, 0.14581693094980208, 0.16332719497846382, 0.21570916329284762, 0.07215585644608824, 0.16332719497846382, 0.3092997150969068, 0.07215585644608824, 0.13834114947551912, 0.05676446848005501, 0.13834114947551912, 0.14452703639742426, 0.44713094967888756, 0.09481922908079765, 0.06082999627327901, 0.025277919799499227, 0.20779072808634913, 0.07215585644608824, 0.18897660818713424, 0.14581693094980208, 0.07215585644608824, 0.03892777207752607, 0.14581693094980208, 0.18755973035703377, 0.05519904878017834, 0.16332719497846382, 0.20779072808634913, 0.0010233739092342375, 0.20779072808634913, 0.11099523026285008, 0.20779072808634913, 0.09481922908079765, 0.09481922908079765, 0.11099523026285008, 0.05519904878017834, 0.09481922908079765, 0.11099523026285008, 0.05519904878017834, 0.18755973035703377, 0.7648162763154196, 0.9678587209806895, 0.11699050315115622, 0.18755973035703377, 0.11699050315115622, 0.20779072808634913, 0.14581693094980208, 0.033239386495191425, 0.14581693094980208, 0.11699050315115622, 0.033239386495191425, 0.14581693094980208, 0.033239386495191425, 0.14581693094980208, 0.14452703639742426, 0.11099523026285008, 0.18897660818713424, 0.025277919799499227, 0.11699050315115622, 0.20779072808634913, 0.17647737398993657, 0.14581693094980208, 0.18755973035703377, 0.20779072808634913, 0.033239386495191425, 0.182500461569032, 0.18755973035703377, 0.20779072808634913, 0.05676446848005501, 0.18755973035703377, 0.21570916329284762, 0.20779072808634913, 0.05676446848005501, 0.8127560544964263, 0.18897660818713424, 0.11699050315115622, 0.07215585644608824, 0.20779072808634913, 0.4717403886068765, 0.2057715300323264, 0.11699050315115622, 0.2667531993115362, 0.13219495816058524, 0.17647737398993657, 0.11699050315115622, 0.14581693094980208, 0.9678587209806895, 0.09481922908079765, 0.9678587209806895, 0.18897660818713424, 0.11699050315115622, 0.09481922908079765, 0.09481922908079765, 0.18897660818713424, 0.18755973035703377, 0.182500461569032, 0.18897660818713424, 0.14452703639742426, 0.0008897436482686594, 0.182500461569032, 0.18755973035703377, 0.13834114947551912, 0.14452703639742426, 0.033239386495191425, 0.18897660818713424, 0.014940030938410676, 0.17647737398993657, 0.16332719497846382, 0.14581693094980208, 0.06651553549915645, 0.20779072808634913, 0.3422710722264126, 0.13834114947551912, 0.13834114947551912, 0.182500461569032, 0.20779072808634913, 0.2057715300323264, 0.18897660818713424, 0.21570916329284762, 0.182500461569032, 0.06709019736815724, 0.18897660818713424, 0.14452703639742426, 0.18897660818713424, 0.18755973035703377, 0.0010233739092342375, 0.025277919799499227, 0.13834114947551912, 0.9141561880932421, 0.11099523026285008, 0.49686076023391745, 0.38773247129141764, 0.182500461569032, 0.03892777207752607, 0.14452703639742426, 0.21570916329284762, 0.182500461569032, 0.03892777207752607, 0.009170707816938073, 0.18897660818713424, 0.13834114947551912, 0.13834114947551912, 0.11099523026285008, 0.182500461569032, 0.4842356076201737, 0.4842356076201737, 0.06709019736815724, 0.2057715300323264, 0.182500461569032, 0.18897660818713424, 0.38773247129141764, 0.17647737398993657, 0.7648162763154196, 0.20779072808634913, 0.3092997150969068, 0.10195204494371213, 0.0010233739092342375, 0.025277919799499227, 0.13834114947551912, 0.09481922908079765, 0.06651553549915645, 0.0008897436482686594, 0.09481922908079765, 0.18897660818713424, 0.18755973035703377, 0.18755973035703377, 0.1293096885783389, 0.07215585644608824, 0.6886356987150406, 0.14581693094980208, 0.009170707816938073, 0.025277919799499227, 0.20779072808634913, 0.18755973035703377, 0.033239386495191425, 0.18897660818713424, 0.20779072808634913, 0.18897660818713424, 0.18755973035703377, 0.07215585644608824, 0.20779072808634913, 0.07215585644608824, 0.03892777207752607, 0.20779072808634913, 0.07215585644608824, 0.20779072808634913, 0.07215585644608824, 0.13834114947551912, 0.18897660818713424, 0.07282631431789444, 0.20779072808634913, 0.182500461569032, 0.20779072808634913, 0.06651553549915645, 0.06709019736815724, 0.20779072808634913, 0.07215585644608824, 0.014940030938410676, 0.11699050315115622, 0.11699050315115622, 0.20779072808634913, 0.11699050315115622, 0.025277919799499227, 0.182500461569032, 0.20779072808634913, 0.13834114947551912, 0.14452703639742426, 0.033239386495191425, 0.020155874604504742, 0.033239386495191425, 0.06709019736815724, 0.040723171780916, 0.20779072808634913, 0.07215585644608824, 0.11099523026285008, 0.0008897436482686594, 0.11699050315115622, 0.09024836140715298, 0.09481922908079765, 0.11699050315115622, 0.03892777207752607, 0.13219495816058524, 0.07282631431789444, 0.20779072808634913, 0.182500461569032, 0.11699050315115622, 0.18897660818713424, 0.06709019736815724, 0.03892777207752607, 0.182500461569032, 0.18755973035703377, 0.13834114947551912, 0.05676446848005501, 0.182500461569032, 0.05676446848005501, 0.11699050315115622, 0.20779072808634913, 0.07215585644608824, 0.18897660818713424, 0.16332719497846382, 0.06651553549915645, 0.18897660818713424, 0.18897660818713424, 0.11699050315115622, 0.18897660818713424, 0.18897660818713424, 0.0010233739092342375, 0.18897660818713424, 0.18897660818713424, 0.18897660818713424, 0.11699050315115622, 0.06651553549915645, 0.18755973035703377, 0.18897660818713424, 0.20779072808634913, 0.20779072808634913, 0.2057715300323264, 0.009170707816938073, 0.07215585644608824, 0.2057715300323264, 0.14581693094980208, 0.07215585644608824, 0.13219495816058524, 0.09024836140715298, 0.07215585644608824, 0.09481922908079765, 0.009170707816938073, 0.18897660818713424, 0.14581693094980208, 0.03892777207752607, 0.20779072808634913, 0.20779072808634913, 0.20779072808634913, 0.20779072808634913, 0.18897660818713424, 0.009170707816938073, 0.18897660818713424, 0.05676446848005501, 0.10195204494371213, 0.18755973035703377, 0.4842356076201737, 0.18897660818713424, 0.07282631431789444, 0.182500461569032, 0.08440502865449595, 0.14452703639742426, 0.18897660818713424, 0.14452703639742426, 0.05676446848005501, 0.08440502865449595, 0.18897660818713424, 0.18897660818713424, 0.20779072808634913, 0.18755973035703377, 0.182500461569032, 0.14581693094980208, 0.18897660818713424, 0.18897660818713424, 0.11699050315115622, 0.18897660818713424, 0.11699050315115622, 0.20779072808634913, 2.282009938123178, 0.18897660818713424, 0.4717403886068765, 0.2057715300323264, 0.18897660818713424, 0.11699050315115622, 0.3092997150969068, 0.09481922908079765, 0.14581693094980208, 0.08440502865449595, 0.1293096885783389, 0.3092997150969068, 0.20779072808634913, 0.182500461569032, 0.06709019736815724, 0.182500461569032, 0.11699050315115622, 0.20779072808634913, 0.18755973035703377, 0.07215585644608824, 0.09481922908079765, 0.20779072808634913, 0.11699050315115622, 0.18897660818713424, 0.49686076023391745, 0.182500461569032, 0.13834114947551912, 0.09024836140715298, 0.05676446848005501, 0.18897660818713424, 0.009170707816938073, 0.5890727092840384, 0.07215585644608824, 0.11699050315115622, 0.6886356987150406, 0.20779072808634913, 0.21570916329284762, 0.06651553549915645, 0.21570916329284762, 0.20779072808634913, 0.6028238847041409, 0.18897660818713424, 0.3422710722264126, 0.14581693094980208, 0.9141561880932421, 0.06651553549915645, 0.09481922908079765, 0.182500461569032, 0.18897660818713424, 0.06082999627327901, 0.18897660818713424, 0.20779072808634913, 0.20779072808634913, 0.11099523026285008, 0.20779072808634913, 0.07282631431789444, 0.16332719497846382, 0.11099523026285008, 0.06651553549915645, 0.03892777207752607, 0.18897660818713424, 0.11699050315115622, 0.14581693094980208, 0.182500461569032, 0.18897660818713424, 0.020155874604504742, 0.0008897436482686594, 0.09481922908079765, 0.18897660818713424, 0.03892777207752607, 0.16332719497846382, 0.18897660818713424, 0.14452703639742426, 0.0008897436482686594, 0.08440502865449595, 0.9141561880932421, 0.009170707816938073, 0.2057715300323264, 0.05676446848005501, 0.182500461569032, 0.20779072808634913, 0.033239386495191425, 0.18897660818713424, 0.3092997150969068, 0.18897660818713424, 0.3092997150969068, 0.06082999627327901, 0.2057715300323264, 0.06651553549915645, 0.09024836140715298, 0.09024836140715298, 0.20779072808634913, 0.14581693094980208, 0.06709019736815724, 0.033239386495191425, 0.13834114947551912, 0.13834114947551912, 0.0008897436482686594, 0.16332719497846382, 0.18897660818713424, 0.0008897436482686594, 0.16332719497846382, 0.0008897436482686594, 0.182500461569032, 0.18897660818713424, 0.03892777207752607, 0.16332719497846382, 0.18897660818713424, 0.2667531993115362, 0.18897660818713424, 0.20779072808634913, 0.21570916329284762, 0.033239386495191425, 0.2667531993115362, 0.17647737398993657, 0.20779072808634913, 0.06651553549915645, 0.20779072808634913, 0.05676446848005501, 0.20779072808634913, 0.06651553549915645, 0.182500461569032, 0.20779072808634913, 0.182500461569032, 0.20779072808634913, 0.025277919799499227, 0.16332719497846382, 0.18897660818713424, 0.14452703639742426, 0.0008897436482686594, 0.13834114947551912, 0.2667531993115362, 0.18897660818713424], \"xaxis\": \"x\", \"y\": [0.109620707816938, 0.10197660818713405, 0.10197660818713405, 0.109620707816938, 0.17260585644608817, 0.04807222792247412, 0.109620707816938, 0.05134114947551893, 0.07602737398993664, 0.19029306905019805, 0.128319271913651, 0.11525916329284769, 0.019909802631842943, 0.17260585644608817, 0.19526922908079758, 0.1478299962732792, 0.10197660818713405, 0.19526922908079758, 0.17260585644608817, 0.19029306905019805, 0.05752703639742407, 0.109620707816938, 0.14855026964296636, 0.10197660818713405, 0.128319271913651, 0.128319271913651, 0.128319271913651, 0.0955004615690318, 0.014173685682105752, 0.06798372368458017, 0.10197660818713405, 0.10147337390923417, 0.033934464500843475, 0.34856439237982606, 0.109620707816938, 0.014173685682105752, 0.06798372368458017, 0.128319271913651, 0.3098824372408786, 0.20884971509690686, 0.01844228870267517, 0.07602737398993664, 0.15721446848005494, 0.43958361645706434, 0.07632719497846363, 0.014173685682105752, 0.19029306905019805, 0.19029306905019805, 0.21744050315115615, 0.128319271913651, 0.04204284935752045, 0.023811415627497334, 0.10197660818713405, 0.12572791979949915, 0.0955004615690318, 0.10197660818713405, 0.128319271913651, 0.0955004615690318, 0.10532153003232647, 0.3098824372408786, 0.13368938649519135, 0.10147337390923417, 0.002594971345504238, 0.3950549122807012, 0.10147337390923417, 0.014173685682105752, 0.10197660818713405, 0.10147337390923417, 0.10197660818713405, 0.6323029534625433, 0.07632719497846363, 0.15721446848005494, 0.002594971345504238, 0.06798372368458017, 0.15721446848005494, 0.04807222792247412, 0.023811415627497334, 0.10197660818713405, 0.06798372368458017, 0.15721446848005494, 0.34856439237982606, 0.19029306905019805, 0.10194003093841086, 0.3732882026753903, 0.10197660818713405, 0.10197660818713405, 0.20884971509690686, 0.10197660818713405, 0.109620707816938, 0.14416430128495916, 0.17260585644608817, 0.10532153003232647, 0.14855026964296636, 0.003248361407152789, 0.01844228870267517, 0.128319271913651, 0.15721446848005494, 0.002594971345504238, 0.10197660818713405, 0.01844228870267517, 0.15721446848005494, 0.033934464500843475, 0.17260585644608817, 0.128319271913651, 0.17260585644608817, 0.01844228870267517, 0.15721446848005494, 0.17260585644608817, 0.10194003093841086, 0.19029306905019805, 0.13368938649519135, 0.19029306905019805, 0.12572791979949915, 0.19029306905019805, 0.14855026964296636, 0.13368938649519135, 0.19526922908079758, 0.128319271913651, 0.128319271913651, 0.13368938649519135, 0.19029306905019805, 0.05752703639742407, 0.033934464500843475, 0.109620707816938, 0.17260585644608817, 0.04807222792247412, 0.01844228870267517, 0.15721446848005494, 0.07632719497846363, 0.19029306905019805, 0.17260585644608817, 0.09237730821005918, 0.01565549706672531, 0.21744050315115615, 0.3732882026753903, 0.21744050315115615, 0.21744050315115615, 0.20388006187682173, 0.21744050315115615, 0.033934464500843475, 0.3732882026753903, 0.21744050315115615, 0.21744050315115615, 0.04519495816058505, 0.128319271913651, 0.21744050315115615, 0.05134114947551893, 0.10147337390923417, 0.21744050315115615, 0.21744050315115615, 0.3732882026753903, 0.05752703639742407, 0.10147337390923417, 0.21744050315115615, 0.10147337390923417, 0.10147337390923417, 0.10532153003232647, 0.21744050315115615, 0.21744050315115615, 0.3359392397660823, 0.128319271913651, 0.21744050315115615, 0.10197660818713405, 0.34668094967888763, 0.10147337390923417, 0.21744050315115615, 0.07632719497846363, 0.19029306905019805, 0.04807222792247412, 0.010545230262850147, 0.10197660818713405, 0.19526922908079758, 0.04807222792247412, 0.0955004615690318, 0.128319271913651, 0.128319271913651, 0.19029306905019805, 0.07632719497846363, 0.11525916329284769, 0.17260585644608817, 0.07632719497846363, 0.20884971509690686, 0.17260585644608817, 0.05134114947551893, 0.15721446848005494, 0.05134114947551893, 0.05752703639742407, 0.34668094967888763, 0.19526922908079758, 0.1478299962732792, 0.12572791979949915, 0.128319271913651, 0.17260585644608817, 0.10197660818713405, 0.19029306905019805, 0.17260585644608817, 0.04807222792247412, 0.19029306905019805, 0.14855026964296636, 0.0025890487801782935, 0.07632719497846363, 0.128319271913651, 0.10147337390923417, 0.128319271913651, 0.010545230262850147, 0.128319271913651, 0.19526922908079758, 0.19526922908079758, 0.010545230262850147, 0.0025890487801782935, 0.19526922908079758, 0.010545230262850147, 0.0025890487801782935, 0.14855026964296636, 0.06798372368458017, 0.13505872098068972, 0.21744050315115615, 0.14855026964296636, 0.21744050315115615, 0.128319271913651, 0.19029306905019805, 0.13368938649519135, 0.19029306905019805, 0.21744050315115615, 0.13368938649519135, 0.19029306905019805, 0.13368938649519135, 0.19029306905019805, 0.05752703639742407, 0.010545230262850147, 0.10197660818713405, 0.12572791979949915, 0.21744050315115615, 0.128319271913651, 0.07602737398993664, 0.19029306905019805, 0.14855026964296636, 0.128319271913651, 0.13368938649519135, 0.0955004615690318, 0.14855026964296636, 0.128319271913651, 0.15721446848005494, 0.14855026964296636, 0.11525916329284769, 0.128319271913651, 0.15721446848005494, 0.020043945503573468, 0.10197660818713405, 0.21744050315115615, 0.17260585644608817, 0.128319271913651, 0.36105961139312326, 0.10532153003232647, 0.21744050315115615, 0.16630319931153625, 0.04519495816058505, 0.07602737398993664, 0.21744050315115615, 0.19029306905019805, 0.13505872098068972, 0.19526922908079758, 0.13505872098068972, 0.10197660818713405, 0.21744050315115615, 0.19526922908079758, 0.19526922908079758, 0.10197660818713405, 0.14855026964296636, 0.0955004615690318, 0.10197660818713405, 0.05752703639742407, 0.08611025635173153, 0.0955004615690318, 0.14855026964296636, 0.05134114947551893, 0.05752703639742407, 0.13368938649519135, 0.10197660818713405, 0.10194003093841086, 0.07602737398993664, 0.07632719497846363, 0.19029306905019805, 0.033934464500843475, 0.128319271913651, 0.2418210722264127, 0.05134114947551893, 0.05134114947551893, 0.0955004615690318, 0.128319271913651, 0.10532153003232647, 0.10197660818713405, 0.11525916329284769, 0.0955004615690318, 0.019909802631842943, 0.10197660818713405, 0.05752703639742407, 0.10197660818713405, 0.14855026964296636, 0.10147337390923417, 0.12572791979949915, 0.05134114947551893, 0.0813561880932423, 0.010545230262850147, 0.3359392397660823, 0.2872824712914177, 0.0955004615690318, 0.04807222792247412, 0.05752703639742407, 0.11525916329284769, 0.0955004615690318, 0.04807222792247412, 0.109620707816938, 0.10197660818713405, 0.05134114947551893, 0.05134114947551893, 0.010545230262850147, 0.0955004615690318, 0.34856439237982606, 0.34856439237982606, 0.019909802631842943, 0.10532153003232647, 0.0955004615690318, 0.10197660818713405, 0.2872824712914177, 0.07602737398993664, 0.06798372368458017, 0.128319271913651, 0.20884971509690686, 0.0015020449437121997, 0.10147337390923417, 0.12572791979949915, 0.05134114947551893, 0.19526922908079758, 0.033934464500843475, 0.08611025635173153, 0.19526922908079758, 0.10197660818713405, 0.14855026964296636, 0.14855026964296636, 0.028859688578338982, 0.17260585644608817, 0.14416430128495916, 0.19029306905019805, 0.109620707816938, 0.12572791979949915, 0.128319271913651, 0.14855026964296636, 0.13368938649519135, 0.10197660818713405, 0.128319271913651, 0.10197660818713405, 0.14855026964296636, 0.17260585644608817, 0.128319271913651, 0.17260585644608817, 0.04807222792247412, 0.128319271913651, 0.17260585644608817, 0.128319271913651, 0.17260585644608817, 0.05134114947551893, 0.10197660818713405, 0.014173685682105752, 0.128319271913651, 0.0955004615690318, 0.128319271913651, 0.033934464500843475, 0.019909802631842943, 0.128319271913651, 0.17260585644608817, 0.10194003093841086, 0.21744050315115615, 0.21744050315115615, 0.128319271913651, 0.21744050315115615, 0.12572791979949915, 0.0955004615690318, 0.128319271913651, 0.05134114947551893, 0.05752703639742407, 0.13368938649519135, 0.10715587460450493, 0.13368938649519135, 0.019909802631842943, 0.1277231717809162, 0.128319271913651, 0.17260585644608817, 0.010545230262850147, 0.08611025635173153, 0.21744050315115615, 0.003248361407152789, 0.19526922908079758, 0.21744050315115615, 0.04807222792247412, 0.04519495816058505, 0.014173685682105752, 0.128319271913651, 0.0955004615690318, 0.21744050315115615, 0.10197660818713405, 0.019909802631842943, 0.04807222792247412, 0.0955004615690318, 0.14855026964296636, 0.05134114947551893, 0.15721446848005494, 0.0955004615690318, 0.15721446848005494, 0.21744050315115615, 0.128319271913651, 0.17260585644608817, 0.10197660818713405, 0.07632719497846363, 0.033934464500843475, 0.10197660818713405, 0.10197660818713405, 0.21744050315115615, 0.10197660818713405, 0.10197660818713405, 0.10147337390923417, 0.10197660818713405, 0.10197660818713405, 0.10197660818713405, 0.21744050315115615, 0.033934464500843475, 0.14855026964296636, 0.10197660818713405, 0.128319271913651, 0.128319271913651, 0.10532153003232647, 0.109620707816938, 0.17260585644608817, 0.10532153003232647, 0.19029306905019805, 0.17260585644608817, 0.04519495816058505, 0.003248361407152789, 0.17260585644608817, 0.19526922908079758, 0.109620707816938, 0.10197660818713405, 0.19029306905019805, 0.04807222792247412, 0.128319271913651, 0.128319271913651, 0.128319271913651, 0.128319271913651, 0.10197660818713405, 0.109620707816938, 0.10197660818713405, 0.15721446848005494, 0.0015020449437121997, 0.14855026964296636, 0.34856439237982606, 0.10197660818713405, 0.014173685682105752, 0.0955004615690318, 0.002594971345504238, 0.05752703639742407, 0.10197660818713405, 0.05752703639742407, 0.15721446848005494, 0.002594971345504238, 0.10197660818713405, 0.10197660818713405, 0.128319271913651, 0.14855026964296636, 0.0955004615690318, 0.19029306905019805, 0.10197660818713405, 0.10197660818713405, 0.21744050315115615, 0.10197660818713405, 0.21744050315115615, 0.128319271913651, 0.20388006187682173, 0.10197660818713405, 0.36105961139312326, 0.10532153003232647, 0.10197660818713405, 0.21744050315115615, 0.20884971509690686, 0.19526922908079758, 0.19029306905019805, 0.002594971345504238, 0.028859688578338982, 0.20884971509690686, 0.128319271913651, 0.0955004615690318, 0.019909802631842943, 0.0955004615690318, 0.21744050315115615, 0.128319271913651, 0.14855026964296636, 0.17260585644608817, 0.19526922908079758, 0.128319271913651, 0.21744050315115615, 0.10197660818713405, 0.3359392397660823, 0.0955004615690318, 0.05134114947551893, 0.003248361407152789, 0.15721446848005494, 0.10197660818713405, 0.109620707816938, 0.24372729071596133, 0.17260585644608817, 0.21744050315115615, 0.14416430128495916, 0.128319271913651, 0.11525916329284769, 0.033934464500843475, 0.11525916329284769, 0.128319271913651, 0.22997611529585882, 0.10197660818713405, 0.2418210722264127, 0.19029306905019805, 0.0813561880932423, 0.033934464500843475, 0.19526922908079758, 0.0955004615690318, 0.10197660818713405, 0.1478299962732792, 0.10197660818713405, 0.128319271913651, 0.128319271913651, 0.010545230262850147, 0.128319271913651, 0.014173685682105752, 0.07632719497846363, 0.010545230262850147, 0.033934464500843475, 0.04807222792247412, 0.10197660818713405, 0.21744050315115615, 0.19029306905019805, 0.0955004615690318, 0.10197660818713405, 0.10715587460450493, 0.08611025635173153, 0.19526922908079758, 0.10197660818713405, 0.04807222792247412, 0.07632719497846363, 0.10197660818713405, 0.05752703639742407, 0.08611025635173153, 0.002594971345504238, 0.0813561880932423, 0.109620707816938, 0.10532153003232647, 0.15721446848005494, 0.0955004615690318, 0.128319271913651, 0.13368938649519135, 0.10197660818713405, 0.20884971509690686, 0.10197660818713405, 0.20884971509690686, 0.1478299962732792, 0.10532153003232647, 0.033934464500843475, 0.003248361407152789, 0.003248361407152789, 0.128319271913651, 0.19029306905019805, 0.019909802631842943, 0.13368938649519135, 0.05134114947551893, 0.05134114947551893, 0.08611025635173153, 0.07632719497846363, 0.10197660818713405, 0.08611025635173153, 0.07632719497846363, 0.08611025635173153, 0.0955004615690318, 0.10197660818713405, 0.04807222792247412, 0.07632719497846363, 0.10197660818713405, 0.16630319931153625, 0.10197660818713405, 0.128319271913651, 0.11525916329284769, 0.13368938649519135, 0.16630319931153625, 0.07602737398993664, 0.128319271913651, 0.033934464500843475, 0.128319271913651, 0.15721446848005494, 0.128319271913651, 0.033934464500843475, 0.0955004615690318, 0.128319271913651, 0.0955004615690318, 0.128319271913651, 0.12572791979949915, 0.07632719497846363, 0.10197660818713405, 0.05752703639742407, 0.08611025635173153, 0.05134114947551893, 0.16630319931153625, 0.10197660818713405], \"yaxis\": \"y\"}],                        {\"legend\": {\"tracegroupgap\": 0}, \"margin\": {\"t\": 60}, \"template\": {\"data\": {\"bar\": [{\"error_x\": {\"color\": \"#2a3f5f\"}, \"error_y\": {\"color\": \"#2a3f5f\"}, \"marker\": {\"line\": {\"color\": \"#E5ECF6\", \"width\": 0.5}}, \"type\": \"bar\"}], \"barpolar\": [{\"marker\": {\"line\": {\"color\": \"#E5ECF6\", \"width\": 0.5}}, \"type\": \"barpolar\"}], \"carpet\": [{\"aaxis\": {\"endlinecolor\": \"#2a3f5f\", \"gridcolor\": \"white\", \"linecolor\": \"white\", \"minorgridcolor\": \"white\", \"startlinecolor\": \"#2a3f5f\"}, \"baxis\": {\"endlinecolor\": \"#2a3f5f\", \"gridcolor\": \"white\", \"linecolor\": \"white\", \"minorgridcolor\": \"white\", \"startlinecolor\": \"#2a3f5f\"}, \"type\": \"carpet\"}], \"choropleth\": [{\"colorbar\": {\"outlinewidth\": 0, \"ticks\": \"\"}, \"type\": \"choropleth\"}], \"contour\": [{\"colorbar\": {\"outlinewidth\": 0, \"ticks\": \"\"}, \"colorscale\": [[0.0, \"#0d0887\"], [0.1111111111111111, \"#46039f\"], [0.2222222222222222, \"#7201a8\"], [0.3333333333333333, \"#9c179e\"], [0.4444444444444444, \"#bd3786\"], [0.5555555555555556, \"#d8576b\"], [0.6666666666666666, \"#ed7953\"], [0.7777777777777778, \"#fb9f3a\"], [0.8888888888888888, \"#fdca26\"], [1.0, \"#f0f921\"]], \"type\": \"contour\"}], \"contourcarpet\": [{\"colorbar\": {\"outlinewidth\": 0, \"ticks\": \"\"}, \"type\": \"contourcarpet\"}], \"heatmap\": [{\"colorbar\": {\"outlinewidth\": 0, \"ticks\": \"\"}, \"colorscale\": [[0.0, \"#0d0887\"], [0.1111111111111111, \"#46039f\"], [0.2222222222222222, \"#7201a8\"], [0.3333333333333333, \"#9c179e\"], [0.4444444444444444, \"#bd3786\"], [0.5555555555555556, \"#d8576b\"], [0.6666666666666666, \"#ed7953\"], [0.7777777777777778, \"#fb9f3a\"], [0.8888888888888888, \"#fdca26\"], [1.0, \"#f0f921\"]], \"type\": \"heatmap\"}], \"heatmapgl\": [{\"colorbar\": {\"outlinewidth\": 0, \"ticks\": \"\"}, \"colorscale\": [[0.0, \"#0d0887\"], [0.1111111111111111, \"#46039f\"], [0.2222222222222222, \"#7201a8\"], [0.3333333333333333, \"#9c179e\"], [0.4444444444444444, \"#bd3786\"], [0.5555555555555556, \"#d8576b\"], [0.6666666666666666, \"#ed7953\"], [0.7777777777777778, \"#fb9f3a\"], [0.8888888888888888, \"#fdca26\"], [1.0, \"#f0f921\"]], \"type\": \"heatmapgl\"}], \"histogram\": [{\"marker\": {\"colorbar\": {\"outlinewidth\": 0, \"ticks\": \"\"}}, \"type\": \"histogram\"}], \"histogram2d\": [{\"colorbar\": {\"outlinewidth\": 0, \"ticks\": \"\"}, \"colorscale\": [[0.0, \"#0d0887\"], [0.1111111111111111, \"#46039f\"], [0.2222222222222222, \"#7201a8\"], [0.3333333333333333, \"#9c179e\"], [0.4444444444444444, \"#bd3786\"], [0.5555555555555556, \"#d8576b\"], [0.6666666666666666, \"#ed7953\"], [0.7777777777777778, \"#fb9f3a\"], [0.8888888888888888, \"#fdca26\"], [1.0, \"#f0f921\"]], \"type\": \"histogram2d\"}], \"histogram2dcontour\": [{\"colorbar\": {\"outlinewidth\": 0, \"ticks\": \"\"}, \"colorscale\": [[0.0, \"#0d0887\"], [0.1111111111111111, \"#46039f\"], [0.2222222222222222, \"#7201a8\"], [0.3333333333333333, \"#9c179e\"], [0.4444444444444444, \"#bd3786\"], [0.5555555555555556, \"#d8576b\"], [0.6666666666666666, \"#ed7953\"], [0.7777777777777778, \"#fb9f3a\"], [0.8888888888888888, \"#fdca26\"], [1.0, \"#f0f921\"]], \"type\": \"histogram2dcontour\"}], \"mesh3d\": [{\"colorbar\": {\"outlinewidth\": 0, \"ticks\": \"\"}, \"type\": \"mesh3d\"}], \"parcoords\": [{\"line\": {\"colorbar\": {\"outlinewidth\": 0, \"ticks\": \"\"}}, \"type\": \"parcoords\"}], \"pie\": [{\"automargin\": true, \"type\": \"pie\"}], \"scatter\": [{\"marker\": {\"colorbar\": {\"outlinewidth\": 0, \"ticks\": \"\"}}, \"type\": \"scatter\"}], \"scatter3d\": [{\"line\": {\"colorbar\": {\"outlinewidth\": 0, \"ticks\": \"\"}}, \"marker\": {\"colorbar\": {\"outlinewidth\": 0, \"ticks\": \"\"}}, \"type\": \"scatter3d\"}], \"scattercarpet\": [{\"marker\": {\"colorbar\": {\"outlinewidth\": 0, \"ticks\": \"\"}}, \"type\": \"scattercarpet\"}], \"scattergeo\": [{\"marker\": {\"colorbar\": {\"outlinewidth\": 0, \"ticks\": \"\"}}, \"type\": \"scattergeo\"}], \"scattergl\": [{\"marker\": {\"colorbar\": {\"outlinewidth\": 0, \"ticks\": \"\"}}, \"type\": \"scattergl\"}], \"scattermapbox\": [{\"marker\": {\"colorbar\": {\"outlinewidth\": 0, \"ticks\": \"\"}}, \"type\": \"scattermapbox\"}], \"scatterpolar\": [{\"marker\": {\"colorbar\": {\"outlinewidth\": 0, \"ticks\": \"\"}}, \"type\": \"scatterpolar\"}], \"scatterpolargl\": [{\"marker\": {\"colorbar\": {\"outlinewidth\": 0, \"ticks\": \"\"}}, \"type\": \"scatterpolargl\"}], \"scatterternary\": [{\"marker\": {\"colorbar\": {\"outlinewidth\": 0, \"ticks\": \"\"}}, \"type\": \"scatterternary\"}], \"surface\": [{\"colorbar\": {\"outlinewidth\": 0, \"ticks\": \"\"}, \"colorscale\": [[0.0, \"#0d0887\"], [0.1111111111111111, \"#46039f\"], [0.2222222222222222, \"#7201a8\"], [0.3333333333333333, \"#9c179e\"], [0.4444444444444444, \"#bd3786\"], [0.5555555555555556, \"#d8576b\"], [0.6666666666666666, \"#ed7953\"], [0.7777777777777778, \"#fb9f3a\"], [0.8888888888888888, \"#fdca26\"], [1.0, \"#f0f921\"]], \"type\": \"surface\"}], \"table\": [{\"cells\": {\"fill\": {\"color\": \"#EBF0F8\"}, \"line\": {\"color\": \"white\"}}, \"header\": {\"fill\": {\"color\": \"#C8D4E3\"}, \"line\": {\"color\": \"white\"}}, \"type\": \"table\"}]}, \"layout\": {\"annotationdefaults\": {\"arrowcolor\": \"#2a3f5f\", \"arrowhead\": 0, \"arrowwidth\": 1}, \"autotypenumbers\": \"strict\", \"coloraxis\": {\"colorbar\": {\"outlinewidth\": 0, \"ticks\": \"\"}}, \"colorscale\": {\"diverging\": [[0, \"#8e0152\"], [0.1, \"#c51b7d\"], [0.2, \"#de77ae\"], [0.3, \"#f1b6da\"], [0.4, \"#fde0ef\"], [0.5, \"#f7f7f7\"], [0.6, \"#e6f5d0\"], [0.7, \"#b8e186\"], [0.8, \"#7fbc41\"], [0.9, \"#4d9221\"], [1, \"#276419\"]], \"sequential\": [[0.0, \"#0d0887\"], [0.1111111111111111, \"#46039f\"], [0.2222222222222222, \"#7201a8\"], [0.3333333333333333, \"#9c179e\"], [0.4444444444444444, \"#bd3786\"], [0.5555555555555556, \"#d8576b\"], [0.6666666666666666, \"#ed7953\"], [0.7777777777777778, \"#fb9f3a\"], [0.8888888888888888, \"#fdca26\"], [1.0, \"#f0f921\"]], \"sequentialminus\": [[0.0, \"#0d0887\"], [0.1111111111111111, \"#46039f\"], [0.2222222222222222, \"#7201a8\"], [0.3333333333333333, \"#9c179e\"], [0.4444444444444444, \"#bd3786\"], [0.5555555555555556, \"#d8576b\"], [0.6666666666666666, \"#ed7953\"], [0.7777777777777778, \"#fb9f3a\"], [0.8888888888888888, \"#fdca26\"], [1.0, \"#f0f921\"]]}, \"colorway\": [\"#636efa\", \"#EF553B\", \"#00cc96\", \"#ab63fa\", \"#FFA15A\", \"#19d3f3\", \"#FF6692\", \"#B6E880\", \"#FF97FF\", \"#FECB52\"], \"font\": {\"color\": \"#2a3f5f\"}, \"geo\": {\"bgcolor\": \"white\", \"lakecolor\": \"white\", \"landcolor\": \"#E5ECF6\", \"showlakes\": true, \"showland\": true, \"subunitcolor\": \"white\"}, \"hoverlabel\": {\"align\": \"left\"}, \"hovermode\": \"closest\", \"mapbox\": {\"style\": \"light\"}, \"paper_bgcolor\": \"white\", \"plot_bgcolor\": \"#E5ECF6\", \"polar\": {\"angularaxis\": {\"gridcolor\": \"white\", \"linecolor\": \"white\", \"ticks\": \"\"}, \"bgcolor\": \"#E5ECF6\", \"radialaxis\": {\"gridcolor\": \"white\", \"linecolor\": \"white\", \"ticks\": \"\"}}, \"scene\": {\"xaxis\": {\"backgroundcolor\": \"#E5ECF6\", \"gridcolor\": \"white\", \"gridwidth\": 2, \"linecolor\": \"white\", \"showbackground\": true, \"ticks\": \"\", \"zerolinecolor\": \"white\"}, \"yaxis\": {\"backgroundcolor\": \"#E5ECF6\", \"gridcolor\": \"white\", \"gridwidth\": 2, \"linecolor\": \"white\", \"showbackground\": true, \"ticks\": \"\", \"zerolinecolor\": \"white\"}, \"zaxis\": {\"backgroundcolor\": \"#E5ECF6\", \"gridcolor\": \"white\", \"gridwidth\": 2, \"linecolor\": \"white\", \"showbackground\": true, \"ticks\": \"\", \"zerolinecolor\": \"white\"}}, \"shapedefaults\": {\"line\": {\"color\": \"#2a3f5f\"}}, \"ternary\": {\"aaxis\": {\"gridcolor\": \"white\", \"linecolor\": \"white\", \"ticks\": \"\"}, \"baxis\": {\"gridcolor\": \"white\", \"linecolor\": \"white\", \"ticks\": \"\"}, \"bgcolor\": \"#E5ECF6\", \"caxis\": {\"gridcolor\": \"white\", \"linecolor\": \"white\", \"ticks\": \"\"}}, \"title\": {\"x\": 0.05}, \"xaxis\": {\"automargin\": true, \"gridcolor\": \"white\", \"linecolor\": \"white\", \"ticks\": \"\", \"title\": {\"standoff\": 15}, \"zerolinecolor\": \"white\", \"zerolinewidth\": 2}, \"yaxis\": {\"automargin\": true, \"gridcolor\": \"white\", \"linecolor\": \"white\", \"ticks\": \"\", \"title\": {\"standoff\": 15}, \"zerolinecolor\": \"white\", \"zerolinewidth\": 2}}}, \"xaxis\": {\"anchor\": \"y\", \"domain\": [0.0, 1.0], \"title\": {\"text\": \"aNaYF4 Delta_d\"}}, \"yaxis\": {\"anchor\": \"x\", \"domain\": [0.0, 1.0], \"title\": {\"text\": \"cYF3 Delta_d\"}}},                        {\"responsive\": true}                    ).then(function(){\n",
       "                            \n",
       "var gd = document.getElementById('65d9ea2c-0389-4c7d-a49d-ba38fe9c61ac');\n",
       "var x = new MutationObserver(function (mutations, observer) {{\n",
       "        var display = window.getComputedStyle(gd).display;\n",
       "        if (!display || display === 'none') {{\n",
       "            console.log([gd, 'removed!']);\n",
       "            Plotly.purge(gd);\n",
       "            observer.disconnect();\n",
       "        }}\n",
       "}});\n",
       "\n",
       "// Listen for the removal of the full notebook cells\n",
       "var notebookContainer = gd.closest('#notebook-container');\n",
       "if (notebookContainer) {{\n",
       "    x.observe(notebookContainer, {childList: true});\n",
       "}}\n",
       "\n",
       "// Listen for the clearing of the current output cell\n",
       "var outputEl = gd.closest('.output');\n",
       "if (outputEl) {{\n",
       "    x.observe(outputEl, {childList: true});\n",
       "}}\n",
       "\n",
       "                        })                };                });            </script>        </div>"
      ]
     },
     "metadata": {},
     "output_type": "display_data"
    },
    {
     "data": {
      "image/png": "[encoded data removed]",
      "text/plain": [
       "<Figure size 360x360 with 1 Axes>"
      ]
     },
     "metadata": {
      "needs_background": "light"
     },
     "output_type": "display_data"
    }
   ],
   "source": [
    "# All data plotting\n",
    "\n",
    "%matplotlib inline\n",
    "\n",
    "plt.rcParams['figure.figsize'] = [5, 5]\n",
    "Stat_Analysis_data = str('04-22-2021-Alex-Stat_Analysis-Open.csv')\n",
    "\n",
    "#df = pd.read_csv(Stat_Analysis_data,header=None)\n",
    "\n",
    "diff_data = genfromtxt(Stat_Analysis_data,delimiter=',')\n",
    "#print(diff_data)\n",
    "\n",
    "counter_val = np.array(diff_data[:,0])\n",
    "d_spacing_detected = np.array(diff_data[:,1])\n",
    "NYF_diff = np.array(diff_data[:,2])\n",
    "YF3_diff = np.array(diff_data[:,3])\n",
    "#hd_diff = np.array(diff_data[:,3])\n",
    "\n",
    "#for i in range():\n",
    "#    NYF_diff = np.array(diff_data[4*i,:])\n",
    "#    YF3_diff = np.array(diff_data[4*i+2,:])\n",
    "\n",
    "fig_stat = px.scatter(x=NYF_diff,y=YF3_diff,labels={\"x\" : \"aNaYF4 Delta_d\",\"y\": \"cYF3 Delta_d\"})\n",
    "fig_stat.show()\n",
    "\n",
    "fig_stat = plt.figure()\n",
    "\n",
    "colors_choose = ['b','g','r','c','m','y']\n",
    "\n",
    "for i in range(len(counter_val)):\n",
    "    #if counter_val[i]==1:\n",
    "    #plt.scatter(hd_diff[i],cd_diff[i],color=colors_choose[0])\n",
    "    #if counter_val[i]==2:\n",
    "    plt.scatter(NYF_diff[i],YF3_diff[i],color=colors_choose[1])\n",
    "    #if counter_val[i]==3:\n",
    "    #    plt.scatter(NYF_diff[i],YF3_diff[i],color=colors_choose[2])\n",
    "plt.xlabel(r'$\\Delta$d $\\alpha$ NaYF4')\n",
    "plt.ylabel(r'$\\Delta$d Cubic YF3')\n",
    "\n",
    "#m, b = np.polyfit(hd_diff, cd_diff, 1)\n",
    "#plt.plot(hd_diff, m*cd_diff + b)\n",
    "\n",
    "plt.show()"
   ]
  },
  {
   "cell_type": "markdown",
   "metadata": {},
   "source": [
    "## Selected data for hitogram plotting"
   ]
  },
  {
   "cell_type": "code",
   "execution_count": 205,
   "metadata": {},
   "outputs": [
    {
     "data": {
      "application/vnd.plotly.v1+json": {
       "config": {
        "plotlyServerURL": "https://plot.ly"
       },
       "data": [
        {
         "alignmentgroup": "True",
         "hovertemplate": "Peak no.=%{x}<br>d-spacing=%{y}<extra></extra>",
         "legendgroup": "",
         "marker": {
          "color": "#636efa"
         },
         "name": "",
         "offsetgroup": "",
         "orientation": "v",
         "showlegend": false,
         "textposition": "auto",
         "type": "bar",
         "x": [
          0,
          1,
          2,
          3,
          4,
          5,
          6,
          7,
          8,
          9,
          10,
          11,
          12,
          13,
          14,
          15,
          16,
          17,
          18,
          19,
          20,
          21,
          22,
          23,
          24,
          25,
          26,
          27,
          28,
          29,
          30,
          31,
          32,
          33,
          34,
          35,
          36,
          37,
          38,
          39,
          40,
          41,
          42,
          43,
          44,
          45,
          46,
          47,
          48,
          49,
          50,
          51,
          52,
          53,
          54,
          55,
          56,
          57,
          58,
          59,
          60,
          61,
          62,
          63,
          64,
          65,
          66,
          67,
          68,
          69,
          70,
          71,
          72,
          73,
          74,
          75,
          76,
          77,
          78,
          79,
          80,
          81,
          82,
          83,
          84,
          85,
          86,
          87,
          88,
          89,
          90,
          91,
          92,
          93,
          94,
          95,
          96,
          97,
          98,
          99,
          100,
          101,
          102,
          103,
          104,
          105,
          106,
          107,
          108,
          109,
          110,
          111,
          112,
          113,
          114,
          115,
          116,
          117,
          118,
          119,
          120,
          121,
          122,
          123,
          124,
          125,
          126,
          127,
          128,
          129,
          130,
          131,
          132,
          133,
          134,
          135,
          136,
          137,
          138,
          139,
          140,
          141,
          142,
          143,
          144,
          145,
          146,
          147,
          148,
          149,
          150,
          151,
          152,
          153,
          154,
          155,
          156,
          157,
          158,
          159,
          160,
          161,
          162,
          163,
          164,
          165,
          166,
          167,
          168,
          169,
          170,
          171,
          172,
          173,
          174,
          175,
          176,
          177,
          178,
          179,
          180,
          181,
          182,
          183,
          184,
          185,
          186,
          187,
          188,
          189,
          190,
          191,
          192,
          193,
          194,
          195,
          196,
          197,
          198,
          199,
          200,
          201,
          202,
          203,
          204,
          205,
          206,
          207,
          208,
          209,
          210,
          211,
          212,
          213,
          214,
          215,
          216,
          217,
          218,
          219,
          220,
          221,
          222,
          223,
          224,
          225,
          226,
          227,
          228,
          229,
          230,
          231,
          232,
          233,
          234,
          235,
          236,
          237,
          238,
          239,
          240,
          241,
          242,
          243,
          244,
          245,
          246,
          247,
          248,
          249,
          250,
          251,
          252,
          253,
          254,
          255,
          256,
          257,
          258,
          259,
          260,
          261,
          262,
          263,
          264,
          265,
          266,
          267,
          268,
          269,
          270,
          271,
          272,
          273,
          274,
          275,
          276,
          277,
          278,
          279,
          280,
          281,
          282,
          283,
          284,
          285,
          286,
          287,
          288,
          289,
          290,
          291,
          292,
          293,
          294,
          295,
          296,
          297,
          298,
          299,
          300,
          301,
          302,
          303,
          304,
          305,
          306,
          307,
          308,
          309,
          310,
          311,
          312,
          313,
          314,
          315,
          316,
          317,
          318,
          319,
          320,
          321,
          322,
          323,
          324,
          325,
          326,
          327,
          328,
          329,
          330,
          331,
          332,
          333,
          334,
          335,
          336,
          337,
          338,
          339,
          340,
          341,
          342,
          343,
          344,
          345,
          346,
          347,
          348,
          349,
          350,
          351,
          352,
          353,
          354,
          355,
          356,
          357,
          358,
          359,
          360,
          361,
          362,
          363,
          364,
          365,
          366,
          367,
          368,
          369,
          370,
          371,
          372,
          373,
          374,
          375,
          376,
          377,
          378,
          379,
          380,
          381,
          382,
          383,
          384,
          385,
          386,
          387,
          388,
          389,
          390,
          391,
          392,
          393,
          394,
          395,
          396,
          397,
          398,
          399,
          400,
          401,
          402,
          403,
          404,
          405,
          406,
          407,
          408,
          409,
          410,
          411,
          412,
          413,
          414,
          415,
          416,
          417,
          418,
          419,
          420,
          421,
          422,
          423,
          424,
          425,
          426,
          427,
          428,
          429,
          430,
          431,
          432,
          433,
          434,
          435,
          436,
          437,
          438,
          439,
          440,
          441,
          442,
          443,
          444,
          445,
          446,
          447,
          448,
          449,
          450,
          451,
          452,
          453,
          454,
          455,
          456,
          457,
          458,
          459,
          460,
          461,
          462,
          463,
          464,
          465,
          466,
          467,
          468,
          469,
          470,
          471,
          472,
          473,
          474,
          475,
          476,
          477,
          478,
          479,
          480,
          481,
          482,
          483,
          484,
          485,
          486,
          487,
          488,
          489,
          490,
          491,
          492,
          493,
          494,
          495,
          496,
          497,
          498,
          499,
          500,
          501,
          502,
          503,
          504,
          505,
          506,
          507,
          508,
          509,
          510,
          511,
          512,
          513,
          514,
          515,
          516,
          517,
          518,
          519,
          520,
          521,
          522,
          523,
          524,
          525,
          526,
          527,
          528,
          529,
          530,
          531,
          532,
          533,
          534,
          535,
          536,
          537,
          538,
          539,
          540,
          541,
          542,
          543,
          544,
          545,
          546,
          547,
          548,
          549,
          550,
          551,
          552,
          553,
          554,
          555,
          556,
          557,
          558,
          559,
          560,
          561,
          562,
          563,
          564,
          565,
          566,
          567,
          568,
          569,
          570,
          571,
          572,
          573,
          574,
          575,
          576,
          577,
          578,
          579,
          580,
          581,
          582,
          583,
          584,
          585,
          586,
          587,
          588,
          589,
          590,
          591,
          592,
          593,
          594,
          595,
          596,
          597,
          598,
          599,
          600,
          601,
          602,
          603,
          604,
          605,
          606,
          607,
          608
         ],
         "xaxis": "x",
         "y": [
          3.148939292183062,
          2.923976608187134,
          2.923976608187134,
          3.148939292183062,
          3.085954143553912,
          2.773927772077526,
          3.148939292183062,
          2.873341149475519,
          3.3345873739899368,
          3.012293069050198,
          2.950319271913651,
          3.373819163292848,
          2.802090197368157,
          3.085954143553912,
          3.0632907709192025,
          2.674170003726721,
          2.923976608187134,
          3.0632907709192025,
          3.085954143553912,
          3.012293069050198,
          2.879527036397424,
          3.148939292183062,
          2.9705502696429664,
          2.923976608187134,
          2.950319271913651,
          2.950319271913651,
          2.950319271913651,
          2.917500461569032,
          2.8078263143178943,
          3.92292627631542,
          2.923976608187134,
          3.157086626090766,
          3.2246255354991566,
          3.642345607620174,
          3.148939292183062,
          2.8078263143178943,
          3.92292627631542,
          2.950319271913651,
          4.300792437240879,
          3.467409715096907,
          1.8997722887026751,
          3.3345873739899368,
          3.101345531519945,
          4.430493616457064,
          2.8983271949784637,
          2.8078263143178943,
          3.012293069050198,
          3.012293069050198,
          3.041119496848844,
          2.950319271913651,
          1.9233728493575204,
          1.9051414156274973,
          2.923976608187134,
          3.132832080200501,
          2.917500461569032,
          2.923976608187134,
          2.950319271913651,
          2.917500461569032,
          3.3638815300323266,
          4.300792437240879,
          3.1248706135048088,
          3.157086626090766,
          2.819405028654496,
          4.385964912280701,
          3.157086626090766,
          2.8078263143178943,
          2.923976608187134,
          3.157086626090766,
          2.923976608187134,
          4.623212953462543,
          2.8983271949784637,
          3.101345531519945,
          2.819405028654496,
          3.92292627631542,
          3.101345531519945,
          2.773927772077526,
          1.9051414156274973,
          2.923976608187134,
          3.92292627631542,
          3.101345531519945,
          3.642345607620174,
          3.012293069050198,
          2.720059969061589,
          4.36419820267539,
          2.923976608187134,
          2.923976608187134,
          3.467409715096907,
          2.923976608187134,
          3.148939292183062,
          3.846745698715041,
          3.085954143553912,
          3.3638815300323266,
          2.9705502696429664,
          2.825248361407153,
          1.8997722887026751,
          2.950319271913651,
          3.101345531519945,
          2.819405028654496,
          2.923976608187134,
          1.8997722887026751,
          3.101345531519945,
          3.2246255354991566,
          3.085954143553912,
          2.950319271913651,
          3.085954143553912,
          1.8997722887026751,
          3.101345531519945,
          3.085954143553912,
          2.720059969061589,
          3.012293069050198,
          3.1248706135048088,
          3.012293069050198,
          3.132832080200501,
          3.012293069050198,
          2.9705502696429664,
          3.1248706135048088,
          3.0632907709192025,
          2.950319271913651,
          2.950319271913651,
          3.1248706135048088,
          3.012293069050198,
          2.879527036397424,
          3.2246255354991566,
          3.148939292183062,
          3.085954143553912,
          2.773927772077526,
          1.8997722887026751,
          3.101345531519945,
          2.8983271949784637,
          3.012293069050198,
          3.085954143553912,
          2.616447308210059,
          1.5497045029332748,
          3.041119496848844,
          4.36419820267539,
          3.041119496848844,
          3.041119496848844,
          5.440119938123178,
          3.041119496848844,
          3.2246255354991566,
          4.36419820267539,
          3.041119496848844,
          3.041119496848844,
          2.867194958160585,
          2.950319271913651,
          3.041119496848844,
          2.873341149475519,
          3.157086626090766,
          3.041119496848844,
          3.041119496848844,
          4.36419820267539,
          2.879527036397424,
          3.157086626090766,
          3.041119496848844,
          3.157086626090766,
          3.157086626090766,
          3.3638815300323266,
          3.041119496848844,
          3.041119496848844,
          3.6549707602339176,
          2.950319271913651,
          3.041119496848844,
          2.923976608187134,
          3.6052409496788878,
          3.157086626090766,
          3.041119496848844,
          2.8983271949784637,
          3.012293069050198,
          2.773927772077526,
          3.2691052302628503,
          2.923976608187134,
          3.0632907709192025,
          2.773927772077526,
          2.917500461569032,
          2.950319271913651,
          2.950319271913651,
          3.012293069050198,
          2.8983271949784637,
          3.373819163292848,
          3.085954143553912,
          2.8983271949784637,
          3.467409715096907,
          3.085954143553912,
          2.873341149475519,
          3.101345531519945,
          2.873341149475519,
          2.879527036397424,
          3.6052409496788878,
          3.0632907709192025,
          2.674170003726721,
          3.132832080200501,
          2.950319271913651,
          3.085954143553912,
          2.923976608187134,
          3.012293069050198,
          3.085954143553912,
          2.773927772077526,
          3.012293069050198,
          2.9705502696429664,
          1.8787409512198217,
          2.8983271949784637,
          2.950319271913651,
          3.157086626090766,
          2.950319271913651,
          3.2691052302628503,
          2.950319271913651,
          3.0632907709192025,
          3.0632907709192025,
          3.2691052302628503,
          1.8787409512198217,
          3.0632907709192025,
          3.2691052302628503,
          1.8787409512198217,
          2.9705502696429664,
          3.92292627631542,
          4.12596872098069,
          3.041119496848844,
          2.9705502696429664,
          3.041119496848844,
          2.950319271913651,
          3.012293069050198,
          3.1248706135048088,
          3.012293069050198,
          3.041119496848844,
          3.1248706135048088,
          3.012293069050198,
          3.1248706135048088,
          3.012293069050198,
          2.879527036397424,
          3.2691052302628503,
          2.923976608187134,
          3.132832080200501,
          3.041119496848844,
          2.950319271913651,
          3.3345873739899368,
          3.012293069050198,
          2.9705502696429664,
          2.950319271913651,
          3.1248706135048088,
          2.917500461569032,
          2.9705502696429664,
          2.950319271913651,
          3.101345531519945,
          2.9705502696429664,
          3.373819163292848,
          2.950319271913651,
          3.101345531519945,
          3.9708660544964265,
          2.923976608187134,
          3.041119496848844,
          3.085954143553912,
          2.950319271913651,
          3.6298503886068767,
          3.3638815300323266,
          3.041119496848844,
          3.4248631993115364,
          2.867194958160585,
          3.3345873739899368,
          3.041119496848844,
          3.012293069050198,
          4.12596872098069,
          3.0632907709192025,
          4.12596872098069,
          2.923976608187134,
          3.041119496848844,
          3.0632907709192025,
          3.0632907709192025,
          2.923976608187134,
          2.9705502696429664,
          2.917500461569032,
          2.923976608187134,
          2.879527036397424,
          2.7358897436482685,
          2.917500461569032,
          2.9705502696429664,
          2.873341149475519,
          2.879527036397424,
          3.1248706135048088,
          2.923976608187134,
          2.720059969061589,
          3.3345873739899368,
          2.8983271949784637,
          3.012293069050198,
          3.2246255354991566,
          2.950319271913651,
          3.500381072226413,
          2.873341149475519,
          2.873341149475519,
          2.917500461569032,
          2.950319271913651,
          3.3638815300323266,
          2.923976608187134,
          3.373819163292848,
          2.917500461569032,
          2.802090197368157,
          2.923976608187134,
          2.879527036397424,
          2.923976608187134,
          2.9705502696429664,
          3.157086626090766,
          3.132832080200501,
          2.873341149475519,
          4.072266188093242,
          3.2691052302628503,
          3.6549707602339176,
          3.545842471291418,
          2.917500461569032,
          2.773927772077526,
          2.879527036397424,
          3.373819163292848,
          2.917500461569032,
          2.773927772077526,
          3.148939292183062,
          2.923976608187134,
          2.873341149475519,
          2.873341149475519,
          3.2691052302628503,
          2.917500461569032,
          3.642345607620174,
          3.642345607620174,
          2.802090197368157,
          3.3638815300323266,
          2.917500461569032,
          2.923976608187134,
          3.545842471291418,
          3.3345873739899368,
          3.92292627631542,
          2.950319271913651,
          3.467409715096907,
          3.2600620449437123,
          3.157086626090766,
          3.132832080200501,
          2.873341149475519,
          3.0632907709192025,
          3.2246255354991566,
          2.7358897436482685,
          3.0632907709192025,
          2.923976608187134,
          2.9705502696429664,
          2.9705502696429664,
          3.287419688578339,
          3.085954143553912,
          3.846745698715041,
          3.012293069050198,
          3.148939292183062,
          3.132832080200501,
          2.950319271913651,
          2.9705502696429664,
          3.1248706135048088,
          2.923976608187134,
          2.950319271913651,
          2.923976608187134,
          2.9705502696429664,
          3.085954143553912,
          2.950319271913651,
          3.085954143553912,
          2.773927772077526,
          2.950319271913651,
          3.085954143553912,
          2.950319271913651,
          3.085954143553912,
          2.873341149475519,
          2.923976608187134,
          2.8078263143178943,
          2.950319271913651,
          2.917500461569032,
          2.950319271913651,
          3.2246255354991566,
          2.802090197368157,
          2.950319271913651,
          3.085954143553912,
          2.720059969061589,
          3.041119496848844,
          3.041119496848844,
          2.950319271913651,
          3.041119496848844,
          3.132832080200501,
          2.917500461569032,
          2.950319271913651,
          2.873341149475519,
          2.879527036397424,
          3.1248706135048088,
          2.714844125395495,
          3.1248706135048088,
          2.802090197368157,
          2.694276828219084,
          2.950319271913651,
          3.085954143553912,
          3.2691052302628503,
          2.7358897436482685,
          3.041119496848844,
          2.825248361407153,
          3.0632907709192025,
          3.041119496848844,
          2.773927772077526,
          2.867194958160585,
          2.8078263143178943,
          2.950319271913651,
          2.917500461569032,
          3.041119496848844,
          2.923976608187134,
          2.802090197368157,
          2.773927772077526,
          2.917500461569032,
          2.9705502696429664,
          2.873341149475519,
          3.101345531519945,
          2.917500461569032,
          3.101345531519945,
          3.041119496848844,
          2.950319271913651,
          3.085954143553912,
          2.923976608187134,
          2.8983271949784637,
          3.2246255354991566,
          2.923976608187134,
          2.923976608187134,
          3.041119496848844,
          2.923976608187134,
          2.923976608187134,
          3.157086626090766,
          2.923976608187134,
          2.923976608187134,
          2.923976608187134,
          3.041119496848844,
          3.2246255354991566,
          2.9705502696429664,
          2.923976608187134,
          2.950319271913651,
          2.950319271913651,
          3.3638815300323266,
          3.148939292183062,
          3.085954143553912,
          3.3638815300323266,
          3.012293069050198,
          3.085954143553912,
          2.867194958160585,
          2.825248361407153,
          3.085954143553912,
          3.0632907709192025,
          3.148939292183062,
          2.923976608187134,
          3.012293069050198,
          2.773927772077526,
          2.950319271913651,
          2.950319271913651,
          2.950319271913651,
          2.950319271913651,
          2.923976608187134,
          3.148939292183062,
          2.923976608187134,
          3.101345531519945,
          3.2600620449437123,
          2.9705502696429664,
          3.642345607620174,
          2.923976608187134,
          2.8078263143178943,
          2.917500461569032,
          2.819405028654496,
          2.879527036397424,
          2.923976608187134,
          2.879527036397424,
          3.101345531519945,
          2.819405028654496,
          2.923976608187134,
          2.923976608187134,
          2.950319271913651,
          2.9705502696429664,
          2.917500461569032,
          3.012293069050198,
          2.923976608187134,
          2.923976608187134,
          3.041119496848844,
          2.923976608187134,
          3.041119496848844,
          2.950319271913651,
          5.440119938123178,
          2.923976608187134,
          3.6298503886068767,
          3.3638815300323266,
          2.923976608187134,
          3.041119496848844,
          3.467409715096907,
          3.0632907709192025,
          3.012293069050198,
          2.819405028654496,
          3.287419688578339,
          3.467409715096907,
          2.950319271913651,
          2.917500461569032,
          2.802090197368157,
          2.917500461569032,
          3.041119496848844,
          2.950319271913651,
          2.9705502696429664,
          3.085954143553912,
          3.0632907709192025,
          2.950319271913651,
          3.041119496848844,
          2.923976608187134,
          3.6549707602339176,
          2.917500461569032,
          2.873341149475519,
          2.825248361407153,
          3.101345531519945,
          2.923976608187134,
          3.148939292183062,
          3.7471827092840386,
          3.085954143553912,
          3.041119496848844,
          3.846745698715041,
          2.950319271913651,
          3.373819163292848,
          3.2246255354991566,
          3.373819163292848,
          2.950319271913651,
          3.760933884704141,
          2.923976608187134,
          3.500381072226413,
          3.012293069050198,
          4.072266188093242,
          3.2246255354991566,
          3.0632907709192025,
          2.917500461569032,
          2.923976608187134,
          2.674170003726721,
          2.923976608187134,
          2.950319271913651,
          2.950319271913651,
          3.2691052302628503,
          2.950319271913651,
          2.8078263143178943,
          2.8983271949784637,
          3.2691052302628503,
          3.2246255354991566,
          2.773927772077526,
          2.923976608187134,
          3.041119496848844,
          3.012293069050198,
          2.917500461569032,
          2.923976608187134,
          2.714844125395495,
          2.7358897436482685,
          3.0632907709192025,
          2.923976608187134,
          2.773927772077526,
          2.8983271949784637,
          2.923976608187134,
          2.879527036397424,
          2.7358897436482685,
          2.819405028654496,
          4.072266188093242,
          3.148939292183062,
          3.3638815300323266,
          3.101345531519945,
          2.917500461569032,
          2.950319271913651,
          3.1248706135048088,
          2.923976608187134,
          3.467409715096907,
          2.923976608187134,
          3.467409715096907,
          2.674170003726721,
          3.3638815300323266,
          3.2246255354991566,
          2.825248361407153,
          2.825248361407153,
          2.950319271913651,
          3.012293069050198,
          2.802090197368157,
          3.1248706135048088,
          2.873341149475519,
          2.873341149475519,
          2.7358897436482685,
          2.8983271949784637,
          2.923976608187134,
          2.7358897436482685,
          2.8983271949784637,
          2.7358897436482685,
          2.917500461569032,
          2.923976608187134,
          2.773927772077526,
          2.8983271949784637,
          2.923976608187134,
          3.4248631993115364,
          2.923976608187134,
          2.950319271913651,
          3.373819163292848,
          3.1248706135048088,
          3.4248631993115364,
          3.3345873739899368,
          2.950319271913651,
          3.2246255354991566,
          2.950319271913651,
          3.101345531519945,
          2.950319271913651,
          3.2246255354991566,
          2.917500461569032,
          2.950319271913651,
          2.917500461569032,
          2.950319271913651,
          3.132832080200501,
          2.8983271949784637,
          2.923976608187134,
          2.879527036397424,
          2.7358897436482685,
          2.873341149475519,
          3.4248631993115364,
          2.923976608187134
         ],
         "yaxis": "y"
        }
       ],
       "layout": {
        "barmode": "relative",
        "legend": {
         "tracegroupgap": 0
        },
        "margin": {
         "t": 60
        },
        "template": {
         "data": {
          "bar": [
           {
            "error_x": {
             "color": "#2a3f5f"
            },
            "error_y": {
             "color": "#2a3f5f"
            },
            "marker": {
             "line": {
              "color": "#E5ECF6",
              "width": 0.5
             }
            },
            "type": "bar"
           }
          ],
          "barpolar": [
           {
            "marker": {
             "line": {
              "color": "#E5ECF6",
              "width": 0.5
             }
            },
            "type": "barpolar"
           }
          ],
          "carpet": [
           {
            "aaxis": {
             "endlinecolor": "#2a3f5f",
             "gridcolor": "white",
             "linecolor": "white",
             "minorgridcolor": "white",
             "startlinecolor": "#2a3f5f"
            },
            "baxis": {
             "endlinecolor": "#2a3f5f",
             "gridcolor": "white",
             "linecolor": "white",
             "minorgridcolor": "white",
             "startlinecolor": "#2a3f5f"
            },
            "type": "carpet"
           }
          ],
          "choropleth": [
           {
            "colorbar": {
             "outlinewidth": 0,
             "ticks": ""
            },
            "type": "choropleth"
           }
          ],
          "contour": [
           {
            "colorbar": {
             "outlinewidth": 0,
             "ticks": ""
            },
            "colorscale": [
             [
              0,
              "#0d0887"
             ],
             [
              0.1111111111111111,
              "#46039f"
             ],
             [
              0.2222222222222222,
              "#7201a8"
             ],
             [
              0.3333333333333333,
              "#9c179e"
             ],
             [
              0.4444444444444444,
              "#bd3786"
             ],
             [
              0.5555555555555556,
              "#d8576b"
             ],
             [
              0.6666666666666666,
              "#ed7953"
             ],
             [
              0.7777777777777778,
              "#fb9f3a"
             ],
             [
              0.8888888888888888,
              "#fdca26"
             ],
             [
              1,
              "#f0f921"
             ]
            ],
            "type": "contour"
           }
          ],
          "contourcarpet": [
           {
            "colorbar": {
             "outlinewidth": 0,
             "ticks": ""
            },
            "type": "contourcarpet"
           }
          ],
          "heatmap": [
           {
            "colorbar": {
             "outlinewidth": 0,
             "ticks": ""
            },
            "colorscale": [
             [
              0,
              "#0d0887"
             ],
             [
              0.1111111111111111,
              "#46039f"
             ],
             [
              0.2222222222222222,
              "#7201a8"
             ],
             [
              0.3333333333333333,
              "#9c179e"
             ],
             [
              0.4444444444444444,
              "#bd3786"
             ],
             [
              0.5555555555555556,
              "#d8576b"
             ],
             [
              0.6666666666666666,
              "#ed7953"
             ],
             [
              0.7777777777777778,
              "#fb9f3a"
             ],
             [
              0.8888888888888888,
              "#fdca26"
             ],
             [
              1,
              "#f0f921"
             ]
            ],
            "type": "heatmap"
           }
          ],
          "heatmapgl": [
           {
            "colorbar": {
             "outlinewidth": 0,
             "ticks": ""
            },
            "colorscale": [
             [
              0,
              "#0d0887"
             ],
             [
              0.1111111111111111,
              "#46039f"
             ],
             [
              0.2222222222222222,
              "#7201a8"
             ],
             [
              0.3333333333333333,
              "#9c179e"
             ],
             [
              0.4444444444444444,
              "#bd3786"
             ],
             [
              0.5555555555555556,
              "#d8576b"
             ],
             [
              0.6666666666666666,
              "#ed7953"
             ],
             [
              0.7777777777777778,
              "#fb9f3a"
             ],
             [
              0.8888888888888888,
              "#fdca26"
             ],
             [
              1,
              "#f0f921"
             ]
            ],
            "type": "heatmapgl"
           }
          ],
          "histogram": [
           {
            "marker": {
             "colorbar": {
              "outlinewidth": 0,
              "ticks": ""
             }
            },
            "type": "histogram"
           }
          ],
          "histogram2d": [
           {
            "colorbar": {
             "outlinewidth": 0,
             "ticks": ""
            },
            "colorscale": [
             [
              0,
              "#0d0887"
             ],
             [
              0.1111111111111111,
              "#46039f"
             ],
             [
              0.2222222222222222,
              "#7201a8"
             ],
             [
              0.3333333333333333,
              "#9c179e"
             ],
             [
              0.4444444444444444,
              "#bd3786"
             ],
             [
              0.5555555555555556,
              "#d8576b"
             ],
             [
              0.6666666666666666,
              "#ed7953"
             ],
             [
              0.7777777777777778,
              "#fb9f3a"
             ],
             [
              0.8888888888888888,
              "#fdca26"
             ],
             [
              1,
              "#f0f921"
             ]
            ],
            "type": "histogram2d"
           }
          ],
          "histogram2dcontour": [
           {
            "colorbar": {
             "outlinewidth": 0,
             "ticks": ""
            },
            "colorscale": [
             [
              0,
              "#0d0887"
             ],
             [
              0.1111111111111111,
              "#46039f"
             ],
             [
              0.2222222222222222,
              "#7201a8"
             ],
             [
              0.3333333333333333,
              "#9c179e"
             ],
             [
              0.4444444444444444,
              "#bd3786"
             ],
             [
              0.5555555555555556,
              "#d8576b"
             ],
             [
              0.6666666666666666,
              "#ed7953"
             ],
             [
              0.7777777777777778,
              "#fb9f3a"
             ],
             [
              0.8888888888888888,
              "#fdca26"
             ],
             [
              1,
              "#f0f921"
             ]
            ],
            "type": "histogram2dcontour"
           }
          ],
          "mesh3d": [
           {
            "colorbar": {
             "outlinewidth": 0,
             "ticks": ""
            },
            "type": "mesh3d"
           }
          ],
          "parcoords": [
           {
            "line": {
             "colorbar": {
              "outlinewidth": 0,
              "ticks": ""
             }
            },
            "type": "parcoords"
           }
          ],
          "pie": [
           {
            "automargin": true,
            "type": "pie"
           }
          ],
          "scatter": [
           {
            "marker": {
             "colorbar": {
              "outlinewidth": 0,
              "ticks": ""
             }
            },
            "type": "scatter"
           }
          ],
          "scatter3d": [
           {
            "line": {
             "colorbar": {
              "outlinewidth": 0,
              "ticks": ""
             }
            },
            "marker": {
             "colorbar": {
              "outlinewidth": 0,
              "ticks": ""
             }
            },
            "type": "scatter3d"
           }
          ],
          "scattercarpet": [
           {
            "marker": {
             "colorbar": {
              "outlinewidth": 0,
              "ticks": ""
             }
            },
            "type": "scattercarpet"
           }
          ],
          "scattergeo": [
           {
            "marker": {
             "colorbar": {
              "outlinewidth": 0,
              "ticks": ""
             }
            },
            "type": "scattergeo"
           }
          ],
          "scattergl": [
           {
            "marker": {
             "colorbar": {
              "outlinewidth": 0,
              "ticks": ""
             }
            },
            "type": "scattergl"
           }
          ],
          "scattermapbox": [
           {
            "marker": {
             "colorbar": {
              "outlinewidth": 0,
              "ticks": ""
             }
            },
            "type": "scattermapbox"
           }
          ],
          "scatterpolar": [
           {
            "marker": {
             "colorbar": {
              "outlinewidth": 0,
              "ticks": ""
             }
            },
            "type": "scatterpolar"
           }
          ],
          "scatterpolargl": [
           {
            "marker": {
             "colorbar": {
              "outlinewidth": 0,
              "ticks": ""
             }
            },
            "type": "scatterpolargl"
           }
          ],
          "scatterternary": [
           {
            "marker": {
             "colorbar": {
              "outlinewidth": 0,
              "ticks": ""
             }
            },
            "type": "scatterternary"
           }
          ],
          "surface": [
           {
            "colorbar": {
             "outlinewidth": 0,
             "ticks": ""
            },
            "colorscale": [
             [
              0,
              "#0d0887"
             ],
             [
              0.1111111111111111,
              "#46039f"
             ],
             [
              0.2222222222222222,
              "#7201a8"
             ],
             [
              0.3333333333333333,
              "#9c179e"
             ],
             [
              0.4444444444444444,
              "#bd3786"
             ],
             [
              0.5555555555555556,
              "#d8576b"
             ],
             [
              0.6666666666666666,
              "#ed7953"
             ],
             [
              0.7777777777777778,
              "#fb9f3a"
             ],
             [
              0.8888888888888888,
              "#fdca26"
             ],
             [
              1,
              "#f0f921"
             ]
            ],
            "type": "surface"
           }
          ],
          "table": [
           {
            "cells": {
             "fill": {
              "color": "#EBF0F8"
             },
             "line": {
              "color": "white"
             }
            },
            "header": {
             "fill": {
              "color": "#C8D4E3"
             },
             "line": {
              "color": "white"
             }
            },
            "type": "table"
           }
          ]
         },
         "layout": {
          "annotationdefaults": {
           "arrowcolor": "#2a3f5f",
           "arrowhead": 0,
           "arrowwidth": 1
          },
          "autotypenumbers": "strict",
          "coloraxis": {
           "colorbar": {
            "outlinewidth": 0,
            "ticks": ""
           }
          },
          "colorscale": {
           "diverging": [
            [
             0,
             "#8e0152"
            ],
            [
             0.1,
             "#c51b7d"
            ],
            [
             0.2,
             "#de77ae"
            ],
            [
             0.3,
             "#f1b6da"
            ],
            [
             0.4,
             "#fde0ef"
            ],
            [
             0.5,
             "#f7f7f7"
            ],
            [
             0.6,
             "#e6f5d0"
            ],
            [
             0.7,
             "#b8e186"
            ],
            [
             0.8,
             "#7fbc41"
            ],
            [
             0.9,
             "#4d9221"
            ],
            [
             1,
             "#276419"
            ]
           ],
           "sequential": [
            [
             0,
             "#0d0887"
            ],
            [
             0.1111111111111111,
             "#46039f"
            ],
            [
             0.2222222222222222,
             "#7201a8"
            ],
            [
             0.3333333333333333,
             "#9c179e"
            ],
            [
             0.4444444444444444,
             "#bd3786"
            ],
            [
             0.5555555555555556,
             "#d8576b"
            ],
            [
             0.6666666666666666,
             "#ed7953"
            ],
            [
             0.7777777777777778,
             "#fb9f3a"
            ],
            [
             0.8888888888888888,
             "#fdca26"
            ],
            [
             1,
             "#f0f921"
            ]
           ],
           "sequentialminus": [
            [
             0,
             "#0d0887"
            ],
            [
             0.1111111111111111,
             "#46039f"
            ],
            [
             0.2222222222222222,
             "#7201a8"
            ],
            [
             0.3333333333333333,
             "#9c179e"
            ],
            [
             0.4444444444444444,
             "#bd3786"
            ],
            [
             0.5555555555555556,
             "#d8576b"
            ],
            [
             0.6666666666666666,
             "#ed7953"
            ],
            [
             0.7777777777777778,
             "#fb9f3a"
            ],
            [
             0.8888888888888888,
             "#fdca26"
            ],
            [
             1,
             "#f0f921"
            ]
           ]
          },
          "colorway": [
           "#636efa",
           "#EF553B",
           "#00cc96",
           "#ab63fa",
           "#FFA15A",
           "#19d3f3",
           "#FF6692",
           "#B6E880",
           "#FF97FF",
           "#FECB52"
          ],
          "font": {
           "color": "#2a3f5f"
          },
          "geo": {
           "bgcolor": "white",
           "lakecolor": "white",
           "landcolor": "#E5ECF6",
           "showlakes": true,
           "showland": true,
           "subunitcolor": "white"
          },
          "hoverlabel": {
           "align": "left"
          },
          "hovermode": "closest",
          "mapbox": {
           "style": "light"
          },
          "paper_bgcolor": "white",
          "plot_bgcolor": "#E5ECF6",
          "polar": {
           "angularaxis": {
            "gridcolor": "white",
            "linecolor": "white",
            "ticks": ""
           },
           "bgcolor": "#E5ECF6",
           "radialaxis": {
            "gridcolor": "white",
            "linecolor": "white",
            "ticks": ""
           }
          },
          "scene": {
           "xaxis": {
            "backgroundcolor": "#E5ECF6",
            "gridcolor": "white",
            "gridwidth": 2,
            "linecolor": "white",
            "showbackground": true,
            "ticks": "",
            "zerolinecolor": "white"
           },
           "yaxis": {
            "backgroundcolor": "#E5ECF6",
            "gridcolor": "white",
            "gridwidth": 2,
            "linecolor": "white",
            "showbackground": true,
            "ticks": "",
            "zerolinecolor": "white"
           },
           "zaxis": {
            "backgroundcolor": "#E5ECF6",
            "gridcolor": "white",
            "gridwidth": 2,
            "linecolor": "white",
            "showbackground": true,
            "ticks": "",
            "zerolinecolor": "white"
           }
          },
          "shapedefaults": {
           "line": {
            "color": "#2a3f5f"
           }
          },
          "ternary": {
           "aaxis": {
            "gridcolor": "white",
            "linecolor": "white",
            "ticks": ""
           },
           "baxis": {
            "gridcolor": "white",
            "linecolor": "white",
            "ticks": ""
           },
           "bgcolor": "#E5ECF6",
           "caxis": {
            "gridcolor": "white",
            "linecolor": "white",
            "ticks": ""
           }
          },
          "title": {
           "x": 0.05
          },
          "xaxis": {
           "automargin": true,
           "gridcolor": "white",
           "linecolor": "white",
           "ticks": "",
           "title": {
            "standoff": 15
           },
           "zerolinecolor": "white",
           "zerolinewidth": 2
          },
          "yaxis": {
           "automargin": true,
           "gridcolor": "white",
           "linecolor": "white",
           "ticks": "",
           "title": {
            "standoff": 15
           },
           "zerolinecolor": "white",
           "zerolinewidth": 2
          }
         }
        },
        "xaxis": {
         "anchor": "y",
         "domain": [
          0,
          1
         ],
         "title": {
          "text": "Peak no."
         }
        },
        "yaxis": {
         "anchor": "x",
         "domain": [
          0,
          1
         ],
         "title": {
          "text": "d-spacing"
         }
        }
       }
      },
      "text/html": [
       "<div>                            <div id=\"6116651e-b70f-44c8-a89b-fc51e8591309\" class=\"plotly-graph-div\" style=\"height:525px; width:100%;\"></div>            <script type=\"text/javascript\">                require([\"plotly\"], function(Plotly) {                    window.PLOTLYENV=window.PLOTLYENV || {};                                    if (document.getElementById(\"6116651e-b70f-44c8-a89b-fc51e8591309\")) {                    Plotly.newPlot(                        \"6116651e-b70f-44c8-a89b-fc51e8591309\",                        [{\"alignmentgroup\": \"True\", \"hovertemplate\": \"Peak no.=%{x}<br>d-spacing=%{y}<extra></extra>\", \"legendgroup\": \"\", \"marker\": {\"color\": \"#636efa\"}, \"name\": \"\", \"offsetgroup\": \"\", \"orientation\": \"v\", \"showlegend\": false, \"textposition\": \"auto\", \"type\": \"bar\", \"x\": [0, 1, 2, 3, 4, 5, 6, 7, 8, 9, 10, 11, 12, 13, 14, 15, 16, 17, 18, 19, 20, 21, 22, 23, 24, 25, 26, 27, 28, 29, 30, 31, 32, 33, 34, 35, 36, 37, 38, 39, 40, 41, 42, 43, 44, 45, 46, 47, 48, 49, 50, 51, 52, 53, 54, 55, 56, 57, 58, 59, 60, 61, 62, 63, 64, 65, 66, 67, 68, 69, 70, 71, 72, 73, 74, 75, 76, 77, 78, 79, 80, 81, 82, 83, 84, 85, 86, 87, 88, 89, 90, 91, 92, 93, 94, 95, 96, 97, 98, 99, 100, 101, 102, 103, 104, 105, 106, 107, 108, 109, 110, 111, 112, 113, 114, 115, 116, 117, 118, 119, 120, 121, 122, 123, 124, 125, 126, 127, 128, 129, 130, 131, 132, 133, 134, 135, 136, 137, 138, 139, 140, 141, 142, 143, 144, 145, 146, 147, 148, 149, 150, 151, 152, 153, 154, 155, 156, 157, 158, 159, 160, 161, 162, 163, 164, 165, 166, 167, 168, 169, 170, 171, 172, 173, 174, 175, 176, 177, 178, 179, 180, 181, 182, 183, 184, 185, 186, 187, 188, 189, 190, 191, 192, 193, 194, 195, 196, 197, 198, 199, 200, 201, 202, 203, 204, 205, 206, 207, 208, 209, 210, 211, 212, 213, 214, 215, 216, 217, 218, 219, 220, 221, 222, 223, 224, 225, 226, 227, 228, 229, 230, 231, 232, 233, 234, 235, 236, 237, 238, 239, 240, 241, 242, 243, 244, 245, 246, 247, 248, 249, 250, 251, 252, 253, 254, 255, 256, 257, 258, 259, 260, 261, 262, 263, 264, 265, 266, 267, 268, 269, 270, 271, 272, 273, 274, 275, 276, 277, 278, 279, 280, 281, 282, 283, 284, 285, 286, 287, 288, 289, 290, 291, 292, 293, 294, 295, 296, 297, 298, 299, 300, 301, 302, 303, 304, 305, 306, 307, 308, 309, 310, 311, 312, 313, 314, 315, 316, 317, 318, 319, 320, 321, 322, 323, 324, 325, 326, 327, 328, 329, 330, 331, 332, 333, 334, 335, 336, 337, 338, 339, 340, 341, 342, 343, 344, 345, 346, 347, 348, 349, 350, 351, 352, 353, 354, 355, 356, 357, 358, 359, 360, 361, 362, 363, 364, 365, 366, 367, 368, 369, 370, 371, 372, 373, 374, 375, 376, 377, 378, 379, 380, 381, 382, 383, 384, 385, 386, 387, 388, 389, 390, 391, 392, 393, 394, 395, 396, 397, 398, 399, 400, 401, 402, 403, 404, 405, 406, 407, 408, 409, 410, 411, 412, 413, 414, 415, 416, 417, 418, 419, 420, 421, 422, 423, 424, 425, 426, 427, 428, 429, 430, 431, 432, 433, 434, 435, 436, 437, 438, 439, 440, 441, 442, 443, 444, 445, 446, 447, 448, 449, 450, 451, 452, 453, 454, 455, 456, 457, 458, 459, 460, 461, 462, 463, 464, 465, 466, 467, 468, 469, 470, 471, 472, 473, 474, 475, 476, 477, 478, 479, 480, 481, 482, 483, 484, 485, 486, 487, 488, 489, 490, 491, 492, 493, 494, 495, 496, 497, 498, 499, 500, 501, 502, 503, 504, 505, 506, 507, 508, 509, 510, 511, 512, 513, 514, 515, 516, 517, 518, 519, 520, 521, 522, 523, 524, 525, 526, 527, 528, 529, 530, 531, 532, 533, 534, 535, 536, 537, 538, 539, 540, 541, 542, 543, 544, 545, 546, 547, 548, 549, 550, 551, 552, 553, 554, 555, 556, 557, 558, 559, 560, 561, 562, 563, 564, 565, 566, 567, 568, 569, 570, 571, 572, 573, 574, 575, 576, 577, 578, 579, 580, 581, 582, 583, 584, 585, 586, 587, 588, 589, 590, 591, 592, 593, 594, 595, 596, 597, 598, 599, 600, 601, 602, 603, 604, 605, 606, 607, 608], \"xaxis\": \"x\", \"y\": [3.148939292183062, 2.923976608187134, 2.923976608187134, 3.148939292183062, 3.085954143553912, 2.773927772077526, 3.148939292183062, 2.873341149475519, 3.3345873739899368, 3.012293069050198, 2.950319271913651, 3.373819163292848, 2.802090197368157, 3.085954143553912, 3.0632907709192025, 2.674170003726721, 2.923976608187134, 3.0632907709192025, 3.085954143553912, 3.012293069050198, 2.879527036397424, 3.148939292183062, 2.9705502696429664, 2.923976608187134, 2.950319271913651, 2.950319271913651, 2.950319271913651, 2.917500461569032, 2.8078263143178943, 3.92292627631542, 2.923976608187134, 3.157086626090766, 3.2246255354991566, 3.642345607620174, 3.148939292183062, 2.8078263143178943, 3.92292627631542, 2.950319271913651, 4.300792437240879, 3.467409715096907, 1.8997722887026751, 3.3345873739899368, 3.101345531519945, 4.430493616457064, 2.8983271949784637, 2.8078263143178943, 3.012293069050198, 3.012293069050198, 3.041119496848844, 2.950319271913651, 1.9233728493575204, 1.9051414156274973, 2.923976608187134, 3.132832080200501, 2.917500461569032, 2.923976608187134, 2.950319271913651, 2.917500461569032, 3.3638815300323266, 4.300792437240879, 3.1248706135048088, 3.157086626090766, 2.819405028654496, 4.385964912280701, 3.157086626090766, 2.8078263143178943, 2.923976608187134, 3.157086626090766, 2.923976608187134, 4.623212953462543, 2.8983271949784637, 3.101345531519945, 2.819405028654496, 3.92292627631542, 3.101345531519945, 2.773927772077526, 1.9051414156274973, 2.923976608187134, 3.92292627631542, 3.101345531519945, 3.642345607620174, 3.012293069050198, 2.720059969061589, 4.36419820267539, 2.923976608187134, 2.923976608187134, 3.467409715096907, 2.923976608187134, 3.148939292183062, 3.846745698715041, 3.085954143553912, 3.3638815300323266, 2.9705502696429664, 2.825248361407153, 1.8997722887026751, 2.950319271913651, 3.101345531519945, 2.819405028654496, 2.923976608187134, 1.8997722887026751, 3.101345531519945, 3.2246255354991566, 3.085954143553912, 2.950319271913651, 3.085954143553912, 1.8997722887026751, 3.101345531519945, 3.085954143553912, 2.720059969061589, 3.012293069050198, 3.1248706135048088, 3.012293069050198, 3.132832080200501, 3.012293069050198, 2.9705502696429664, 3.1248706135048088, 3.0632907709192025, 2.950319271913651, 2.950319271913651, 3.1248706135048088, 3.012293069050198, 2.879527036397424, 3.2246255354991566, 3.148939292183062, 3.085954143553912, 2.773927772077526, 1.8997722887026751, 3.101345531519945, 2.8983271949784637, 3.012293069050198, 3.085954143553912, 2.616447308210059, 1.5497045029332748, 3.041119496848844, 4.36419820267539, 3.041119496848844, 3.041119496848844, 5.440119938123178, 3.041119496848844, 3.2246255354991566, 4.36419820267539, 3.041119496848844, 3.041119496848844, 2.867194958160585, 2.950319271913651, 3.041119496848844, 2.873341149475519, 3.157086626090766, 3.041119496848844, 3.041119496848844, 4.36419820267539, 2.879527036397424, 3.157086626090766, 3.041119496848844, 3.157086626090766, 3.157086626090766, 3.3638815300323266, 3.041119496848844, 3.041119496848844, 3.6549707602339176, 2.950319271913651, 3.041119496848844, 2.923976608187134, 3.6052409496788878, 3.157086626090766, 3.041119496848844, 2.8983271949784637, 3.012293069050198, 2.773927772077526, 3.2691052302628503, 2.923976608187134, 3.0632907709192025, 2.773927772077526, 2.917500461569032, 2.950319271913651, 2.950319271913651, 3.012293069050198, 2.8983271949784637, 3.373819163292848, 3.085954143553912, 2.8983271949784637, 3.467409715096907, 3.085954143553912, 2.873341149475519, 3.101345531519945, 2.873341149475519, 2.879527036397424, 3.6052409496788878, 3.0632907709192025, 2.674170003726721, 3.132832080200501, 2.950319271913651, 3.085954143553912, 2.923976608187134, 3.012293069050198, 3.085954143553912, 2.773927772077526, 3.012293069050198, 2.9705502696429664, 1.8787409512198217, 2.8983271949784637, 2.950319271913651, 3.157086626090766, 2.950319271913651, 3.2691052302628503, 2.950319271913651, 3.0632907709192025, 3.0632907709192025, 3.2691052302628503, 1.8787409512198217, 3.0632907709192025, 3.2691052302628503, 1.8787409512198217, 2.9705502696429664, 3.92292627631542, 4.12596872098069, 3.041119496848844, 2.9705502696429664, 3.041119496848844, 2.950319271913651, 3.012293069050198, 3.1248706135048088, 3.012293069050198, 3.041119496848844, 3.1248706135048088, 3.012293069050198, 3.1248706135048088, 3.012293069050198, 2.879527036397424, 3.2691052302628503, 2.923976608187134, 3.132832080200501, 3.041119496848844, 2.950319271913651, 3.3345873739899368, 3.012293069050198, 2.9705502696429664, 2.950319271913651, 3.1248706135048088, 2.917500461569032, 2.9705502696429664, 2.950319271913651, 3.101345531519945, 2.9705502696429664, 3.373819163292848, 2.950319271913651, 3.101345531519945, 3.9708660544964265, 2.923976608187134, 3.041119496848844, 3.085954143553912, 2.950319271913651, 3.6298503886068767, 3.3638815300323266, 3.041119496848844, 3.4248631993115364, 2.867194958160585, 3.3345873739899368, 3.041119496848844, 3.012293069050198, 4.12596872098069, 3.0632907709192025, 4.12596872098069, 2.923976608187134, 3.041119496848844, 3.0632907709192025, 3.0632907709192025, 2.923976608187134, 2.9705502696429664, 2.917500461569032, 2.923976608187134, 2.879527036397424, 2.7358897436482685, 2.917500461569032, 2.9705502696429664, 2.873341149475519, 2.879527036397424, 3.1248706135048088, 2.923976608187134, 2.720059969061589, 3.3345873739899368, 2.8983271949784637, 3.012293069050198, 3.2246255354991566, 2.950319271913651, 3.500381072226413, 2.873341149475519, 2.873341149475519, 2.917500461569032, 2.950319271913651, 3.3638815300323266, 2.923976608187134, 3.373819163292848, 2.917500461569032, 2.802090197368157, 2.923976608187134, 2.879527036397424, 2.923976608187134, 2.9705502696429664, 3.157086626090766, 3.132832080200501, 2.873341149475519, 4.072266188093242, 3.2691052302628503, 3.6549707602339176, 3.545842471291418, 2.917500461569032, 2.773927772077526, 2.879527036397424, 3.373819163292848, 2.917500461569032, 2.773927772077526, 3.148939292183062, 2.923976608187134, 2.873341149475519, 2.873341149475519, 3.2691052302628503, 2.917500461569032, 3.642345607620174, 3.642345607620174, 2.802090197368157, 3.3638815300323266, 2.917500461569032, 2.923976608187134, 3.545842471291418, 3.3345873739899368, 3.92292627631542, 2.950319271913651, 3.467409715096907, 3.2600620449437123, 3.157086626090766, 3.132832080200501, 2.873341149475519, 3.0632907709192025, 3.2246255354991566, 2.7358897436482685, 3.0632907709192025, 2.923976608187134, 2.9705502696429664, 2.9705502696429664, 3.287419688578339, 3.085954143553912, 3.846745698715041, 3.012293069050198, 3.148939292183062, 3.132832080200501, 2.950319271913651, 2.9705502696429664, 3.1248706135048088, 2.923976608187134, 2.950319271913651, 2.923976608187134, 2.9705502696429664, 3.085954143553912, 2.950319271913651, 3.085954143553912, 2.773927772077526, 2.950319271913651, 3.085954143553912, 2.950319271913651, 3.085954143553912, 2.873341149475519, 2.923976608187134, 2.8078263143178943, 2.950319271913651, 2.917500461569032, 2.950319271913651, 3.2246255354991566, 2.802090197368157, 2.950319271913651, 3.085954143553912, 2.720059969061589, 3.041119496848844, 3.041119496848844, 2.950319271913651, 3.041119496848844, 3.132832080200501, 2.917500461569032, 2.950319271913651, 2.873341149475519, 2.879527036397424, 3.1248706135048088, 2.714844125395495, 3.1248706135048088, 2.802090197368157, 2.694276828219084, 2.950319271913651, 3.085954143553912, 3.2691052302628503, 2.7358897436482685, 3.041119496848844, 2.825248361407153, 3.0632907709192025, 3.041119496848844, 2.773927772077526, 2.867194958160585, 2.8078263143178943, 2.950319271913651, 2.917500461569032, 3.041119496848844, 2.923976608187134, 2.802090197368157, 2.773927772077526, 2.917500461569032, 2.9705502696429664, 2.873341149475519, 3.101345531519945, 2.917500461569032, 3.101345531519945, 3.041119496848844, 2.950319271913651, 3.085954143553912, 2.923976608187134, 2.8983271949784637, 3.2246255354991566, 2.923976608187134, 2.923976608187134, 3.041119496848844, 2.923976608187134, 2.923976608187134, 3.157086626090766, 2.923976608187134, 2.923976608187134, 2.923976608187134, 3.041119496848844, 3.2246255354991566, 2.9705502696429664, 2.923976608187134, 2.950319271913651, 2.950319271913651, 3.3638815300323266, 3.148939292183062, 3.085954143553912, 3.3638815300323266, 3.012293069050198, 3.085954143553912, 2.867194958160585, 2.825248361407153, 3.085954143553912, 3.0632907709192025, 3.148939292183062, 2.923976608187134, 3.012293069050198, 2.773927772077526, 2.950319271913651, 2.950319271913651, 2.950319271913651, 2.950319271913651, 2.923976608187134, 3.148939292183062, 2.923976608187134, 3.101345531519945, 3.2600620449437123, 2.9705502696429664, 3.642345607620174, 2.923976608187134, 2.8078263143178943, 2.917500461569032, 2.819405028654496, 2.879527036397424, 2.923976608187134, 2.879527036397424, 3.101345531519945, 2.819405028654496, 2.923976608187134, 2.923976608187134, 2.950319271913651, 2.9705502696429664, 2.917500461569032, 3.012293069050198, 2.923976608187134, 2.923976608187134, 3.041119496848844, 2.923976608187134, 3.041119496848844, 2.950319271913651, 5.440119938123178, 2.923976608187134, 3.6298503886068767, 3.3638815300323266, 2.923976608187134, 3.041119496848844, 3.467409715096907, 3.0632907709192025, 3.012293069050198, 2.819405028654496, 3.287419688578339, 3.467409715096907, 2.950319271913651, 2.917500461569032, 2.802090197368157, 2.917500461569032, 3.041119496848844, 2.950319271913651, 2.9705502696429664, 3.085954143553912, 3.0632907709192025, 2.950319271913651, 3.041119496848844, 2.923976608187134, 3.6549707602339176, 2.917500461569032, 2.873341149475519, 2.825248361407153, 3.101345531519945, 2.923976608187134, 3.148939292183062, 3.7471827092840386, 3.085954143553912, 3.041119496848844, 3.846745698715041, 2.950319271913651, 3.373819163292848, 3.2246255354991566, 3.373819163292848, 2.950319271913651, 3.760933884704141, 2.923976608187134, 3.500381072226413, 3.012293069050198, 4.072266188093242, 3.2246255354991566, 3.0632907709192025, 2.917500461569032, 2.923976608187134, 2.674170003726721, 2.923976608187134, 2.950319271913651, 2.950319271913651, 3.2691052302628503, 2.950319271913651, 2.8078263143178943, 2.8983271949784637, 3.2691052302628503, 3.2246255354991566, 2.773927772077526, 2.923976608187134, 3.041119496848844, 3.012293069050198, 2.917500461569032, 2.923976608187134, 2.714844125395495, 2.7358897436482685, 3.0632907709192025, 2.923976608187134, 2.773927772077526, 2.8983271949784637, 2.923976608187134, 2.879527036397424, 2.7358897436482685, 2.819405028654496, 4.072266188093242, 3.148939292183062, 3.3638815300323266, 3.101345531519945, 2.917500461569032, 2.950319271913651, 3.1248706135048088, 2.923976608187134, 3.467409715096907, 2.923976608187134, 3.467409715096907, 2.674170003726721, 3.3638815300323266, 3.2246255354991566, 2.825248361407153, 2.825248361407153, 2.950319271913651, 3.012293069050198, 2.802090197368157, 3.1248706135048088, 2.873341149475519, 2.873341149475519, 2.7358897436482685, 2.8983271949784637, 2.923976608187134, 2.7358897436482685, 2.8983271949784637, 2.7358897436482685, 2.917500461569032, 2.923976608187134, 2.773927772077526, 2.8983271949784637, 2.923976608187134, 3.4248631993115364, 2.923976608187134, 2.950319271913651, 3.373819163292848, 3.1248706135048088, 3.4248631993115364, 3.3345873739899368, 2.950319271913651, 3.2246255354991566, 2.950319271913651, 3.101345531519945, 2.950319271913651, 3.2246255354991566, 2.917500461569032, 2.950319271913651, 2.917500461569032, 2.950319271913651, 3.132832080200501, 2.8983271949784637, 2.923976608187134, 2.879527036397424, 2.7358897436482685, 2.873341149475519, 3.4248631993115364, 2.923976608187134], \"yaxis\": \"y\"}],                        {\"barmode\": \"relative\", \"legend\": {\"tracegroupgap\": 0}, \"margin\": {\"t\": 60}, \"template\": {\"data\": {\"bar\": [{\"error_x\": {\"color\": \"#2a3f5f\"}, \"error_y\": {\"color\": \"#2a3f5f\"}, \"marker\": {\"line\": {\"color\": \"#E5ECF6\", \"width\": 0.5}}, \"type\": \"bar\"}], \"barpolar\": [{\"marker\": {\"line\": {\"color\": \"#E5ECF6\", \"width\": 0.5}}, \"type\": \"barpolar\"}], \"carpet\": [{\"aaxis\": {\"endlinecolor\": \"#2a3f5f\", \"gridcolor\": \"white\", \"linecolor\": \"white\", \"minorgridcolor\": \"white\", \"startlinecolor\": \"#2a3f5f\"}, \"baxis\": {\"endlinecolor\": \"#2a3f5f\", \"gridcolor\": \"white\", \"linecolor\": \"white\", \"minorgridcolor\": \"white\", \"startlinecolor\": \"#2a3f5f\"}, \"type\": \"carpet\"}], \"choropleth\": [{\"colorbar\": {\"outlinewidth\": 0, \"ticks\": \"\"}, \"type\": \"choropleth\"}], \"contour\": [{\"colorbar\": {\"outlinewidth\": 0, \"ticks\": \"\"}, \"colorscale\": [[0.0, \"#0d0887\"], [0.1111111111111111, \"#46039f\"], [0.2222222222222222, \"#7201a8\"], [0.3333333333333333, \"#9c179e\"], [0.4444444444444444, \"#bd3786\"], [0.5555555555555556, \"#d8576b\"], [0.6666666666666666, \"#ed7953\"], [0.7777777777777778, \"#fb9f3a\"], [0.8888888888888888, \"#fdca26\"], [1.0, \"#f0f921\"]], \"type\": \"contour\"}], \"contourcarpet\": [{\"colorbar\": {\"outlinewidth\": 0, \"ticks\": \"\"}, \"type\": \"contourcarpet\"}], \"heatmap\": [{\"colorbar\": {\"outlinewidth\": 0, \"ticks\": \"\"}, \"colorscale\": [[0.0, \"#0d0887\"], [0.1111111111111111, \"#46039f\"], [0.2222222222222222, \"#7201a8\"], [0.3333333333333333, \"#9c179e\"], [0.4444444444444444, \"#bd3786\"], [0.5555555555555556, \"#d8576b\"], [0.6666666666666666, \"#ed7953\"], [0.7777777777777778, \"#fb9f3a\"], [0.8888888888888888, \"#fdca26\"], [1.0, \"#f0f921\"]], \"type\": \"heatmap\"}], \"heatmapgl\": [{\"colorbar\": {\"outlinewidth\": 0, \"ticks\": \"\"}, \"colorscale\": [[0.0, \"#0d0887\"], [0.1111111111111111, \"#46039f\"], [0.2222222222222222, \"#7201a8\"], [0.3333333333333333, \"#9c179e\"], [0.4444444444444444, \"#bd3786\"], [0.5555555555555556, \"#d8576b\"], [0.6666666666666666, \"#ed7953\"], [0.7777777777777778, \"#fb9f3a\"], [0.8888888888888888, \"#fdca26\"], [1.0, \"#f0f921\"]], \"type\": \"heatmapgl\"}], \"histogram\": [{\"marker\": {\"colorbar\": {\"outlinewidth\": 0, \"ticks\": \"\"}}, \"type\": \"histogram\"}], \"histogram2d\": [{\"colorbar\": {\"outlinewidth\": 0, \"ticks\": \"\"}, \"colorscale\": [[0.0, \"#0d0887\"], [0.1111111111111111, \"#46039f\"], [0.2222222222222222, \"#7201a8\"], [0.3333333333333333, \"#9c179e\"], [0.4444444444444444, \"#bd3786\"], [0.5555555555555556, \"#d8576b\"], [0.6666666666666666, \"#ed7953\"], [0.7777777777777778, \"#fb9f3a\"], [0.8888888888888888, \"#fdca26\"], [1.0, \"#f0f921\"]], \"type\": \"histogram2d\"}], \"histogram2dcontour\": [{\"colorbar\": {\"outlinewidth\": 0, \"ticks\": \"\"}, \"colorscale\": [[0.0, \"#0d0887\"], [0.1111111111111111, \"#46039f\"], [0.2222222222222222, \"#7201a8\"], [0.3333333333333333, \"#9c179e\"], [0.4444444444444444, \"#bd3786\"], [0.5555555555555556, \"#d8576b\"], [0.6666666666666666, \"#ed7953\"], [0.7777777777777778, \"#fb9f3a\"], [0.8888888888888888, \"#fdca26\"], [1.0, \"#f0f921\"]], \"type\": \"histogram2dcontour\"}], \"mesh3d\": [{\"colorbar\": {\"outlinewidth\": 0, \"ticks\": \"\"}, \"type\": \"mesh3d\"}], \"parcoords\": [{\"line\": {\"colorbar\": {\"outlinewidth\": 0, \"ticks\": \"\"}}, \"type\": \"parcoords\"}], \"pie\": [{\"automargin\": true, \"type\": \"pie\"}], \"scatter\": [{\"marker\": {\"colorbar\": {\"outlinewidth\": 0, \"ticks\": \"\"}}, \"type\": \"scatter\"}], \"scatter3d\": [{\"line\": {\"colorbar\": {\"outlinewidth\": 0, \"ticks\": \"\"}}, \"marker\": {\"colorbar\": {\"outlinewidth\": 0, \"ticks\": \"\"}}, \"type\": \"scatter3d\"}], \"scattercarpet\": [{\"marker\": {\"colorbar\": {\"outlinewidth\": 0, \"ticks\": \"\"}}, \"type\": \"scattercarpet\"}], \"scattergeo\": [{\"marker\": {\"colorbar\": {\"outlinewidth\": 0, \"ticks\": \"\"}}, \"type\": \"scattergeo\"}], \"scattergl\": [{\"marker\": {\"colorbar\": {\"outlinewidth\": 0, \"ticks\": \"\"}}, \"type\": \"scattergl\"}], \"scattermapbox\": [{\"marker\": {\"colorbar\": {\"outlinewidth\": 0, \"ticks\": \"\"}}, \"type\": \"scattermapbox\"}], \"scatterpolar\": [{\"marker\": {\"colorbar\": {\"outlinewidth\": 0, \"ticks\": \"\"}}, \"type\": \"scatterpolar\"}], \"scatterpolargl\": [{\"marker\": {\"colorbar\": {\"outlinewidth\": 0, \"ticks\": \"\"}}, \"type\": \"scatterpolargl\"}], \"scatterternary\": [{\"marker\": {\"colorbar\": {\"outlinewidth\": 0, \"ticks\": \"\"}}, \"type\": \"scatterternary\"}], \"surface\": [{\"colorbar\": {\"outlinewidth\": 0, \"ticks\": \"\"}, \"colorscale\": [[0.0, \"#0d0887\"], [0.1111111111111111, \"#46039f\"], [0.2222222222222222, \"#7201a8\"], [0.3333333333333333, \"#9c179e\"], [0.4444444444444444, \"#bd3786\"], [0.5555555555555556, \"#d8576b\"], [0.6666666666666666, \"#ed7953\"], [0.7777777777777778, \"#fb9f3a\"], [0.8888888888888888, \"#fdca26\"], [1.0, \"#f0f921\"]], \"type\": \"surface\"}], \"table\": [{\"cells\": {\"fill\": {\"color\": \"#EBF0F8\"}, \"line\": {\"color\": \"white\"}}, \"header\": {\"fill\": {\"color\": \"#C8D4E3\"}, \"line\": {\"color\": \"white\"}}, \"type\": \"table\"}]}, \"layout\": {\"annotationdefaults\": {\"arrowcolor\": \"#2a3f5f\", \"arrowhead\": 0, \"arrowwidth\": 1}, \"autotypenumbers\": \"strict\", \"coloraxis\": {\"colorbar\": {\"outlinewidth\": 0, \"ticks\": \"\"}}, \"colorscale\": {\"diverging\": [[0, \"#8e0152\"], [0.1, \"#c51b7d\"], [0.2, \"#de77ae\"], [0.3, \"#f1b6da\"], [0.4, \"#fde0ef\"], [0.5, \"#f7f7f7\"], [0.6, \"#e6f5d0\"], [0.7, \"#b8e186\"], [0.8, \"#7fbc41\"], [0.9, \"#4d9221\"], [1, \"#276419\"]], \"sequential\": [[0.0, \"#0d0887\"], [0.1111111111111111, \"#46039f\"], [0.2222222222222222, \"#7201a8\"], [0.3333333333333333, \"#9c179e\"], [0.4444444444444444, \"#bd3786\"], [0.5555555555555556, \"#d8576b\"], [0.6666666666666666, \"#ed7953\"], [0.7777777777777778, \"#fb9f3a\"], [0.8888888888888888, \"#fdca26\"], [1.0, \"#f0f921\"]], \"sequentialminus\": [[0.0, \"#0d0887\"], [0.1111111111111111, \"#46039f\"], [0.2222222222222222, \"#7201a8\"], [0.3333333333333333, \"#9c179e\"], [0.4444444444444444, \"#bd3786\"], [0.5555555555555556, \"#d8576b\"], [0.6666666666666666, \"#ed7953\"], [0.7777777777777778, \"#fb9f3a\"], [0.8888888888888888, \"#fdca26\"], [1.0, \"#f0f921\"]]}, \"colorway\": [\"#636efa\", \"#EF553B\", \"#00cc96\", \"#ab63fa\", \"#FFA15A\", \"#19d3f3\", \"#FF6692\", \"#B6E880\", \"#FF97FF\", \"#FECB52\"], \"font\": {\"color\": \"#2a3f5f\"}, \"geo\": {\"bgcolor\": \"white\", \"lakecolor\": \"white\", \"landcolor\": \"#E5ECF6\", \"showlakes\": true, \"showland\": true, \"subunitcolor\": \"white\"}, \"hoverlabel\": {\"align\": \"left\"}, \"hovermode\": \"closest\", \"mapbox\": {\"style\": \"light\"}, \"paper_bgcolor\": \"white\", \"plot_bgcolor\": \"#E5ECF6\", \"polar\": {\"angularaxis\": {\"gridcolor\": \"white\", \"linecolor\": \"white\", \"ticks\": \"\"}, \"bgcolor\": \"#E5ECF6\", \"radialaxis\": {\"gridcolor\": \"white\", \"linecolor\": \"white\", \"ticks\": \"\"}}, \"scene\": {\"xaxis\": {\"backgroundcolor\": \"#E5ECF6\", \"gridcolor\": \"white\", \"gridwidth\": 2, \"linecolor\": \"white\", \"showbackground\": true, \"ticks\": \"\", \"zerolinecolor\": \"white\"}, \"yaxis\": {\"backgroundcolor\": \"#E5ECF6\", \"gridcolor\": \"white\", \"gridwidth\": 2, \"linecolor\": \"white\", \"showbackground\": true, \"ticks\": \"\", \"zerolinecolor\": \"white\"}, \"zaxis\": {\"backgroundcolor\": \"#E5ECF6\", \"gridcolor\": \"white\", \"gridwidth\": 2, \"linecolor\": \"white\", \"showbackground\": true, \"ticks\": \"\", \"zerolinecolor\": \"white\"}}, \"shapedefaults\": {\"line\": {\"color\": \"#2a3f5f\"}}, \"ternary\": {\"aaxis\": {\"gridcolor\": \"white\", \"linecolor\": \"white\", \"ticks\": \"\"}, \"baxis\": {\"gridcolor\": \"white\", \"linecolor\": \"white\", \"ticks\": \"\"}, \"bgcolor\": \"#E5ECF6\", \"caxis\": {\"gridcolor\": \"white\", \"linecolor\": \"white\", \"ticks\": \"\"}}, \"title\": {\"x\": 0.05}, \"xaxis\": {\"automargin\": true, \"gridcolor\": \"white\", \"linecolor\": \"white\", \"ticks\": \"\", \"title\": {\"standoff\": 15}, \"zerolinecolor\": \"white\", \"zerolinewidth\": 2}, \"yaxis\": {\"automargin\": true, \"gridcolor\": \"white\", \"linecolor\": \"white\", \"ticks\": \"\", \"title\": {\"standoff\": 15}, \"zerolinecolor\": \"white\", \"zerolinewidth\": 2}}}, \"xaxis\": {\"anchor\": \"y\", \"domain\": [0.0, 1.0], \"title\": {\"text\": \"Peak no.\"}}, \"yaxis\": {\"anchor\": \"x\", \"domain\": [0.0, 1.0], \"title\": {\"text\": \"d-spacing\"}}},                        {\"responsive\": true}                    ).then(function(){\n",
       "                            \n",
       "var gd = document.getElementById('6116651e-b70f-44c8-a89b-fc51e8591309');\n",
       "var x = new MutationObserver(function (mutations, observer) {{\n",
       "        var display = window.getComputedStyle(gd).display;\n",
       "        if (!display || display === 'none') {{\n",
       "            console.log([gd, 'removed!']);\n",
       "            Plotly.purge(gd);\n",
       "            observer.disconnect();\n",
       "        }}\n",
       "}});\n",
       "\n",
       "// Listen for the removal of the full notebook cells\n",
       "var notebookContainer = gd.closest('#notebook-container');\n",
       "if (notebookContainer) {{\n",
       "    x.observe(notebookContainer, {childList: true});\n",
       "}}\n",
       "\n",
       "// Listen for the clearing of the current output cell\n",
       "var outputEl = gd.closest('.output');\n",
       "if (outputEl) {{\n",
       "    x.observe(outputEl, {childList: true});\n",
       "}}\n",
       "\n",
       "                        })                };                });            </script>        </div>"
      ]
     },
     "metadata": {},
     "output_type": "display_data"
    },
    {
     "name": "stdout",
     "output_type": "stream",
     "text": [
      "[3.14893929 3.14893929 3.08595414 3.14893929 3.01229307 3.08595414\n",
      " 3.06329077 3.06329077 3.08595414 3.01229307 3.14893929 3.15708663\n",
      " 3.14893929 3.10134553 3.01229307 3.01229307 3.0411195  3.13283208\n",
      " 3.12487061 3.15708663 3.15708663 3.15708663 3.10134553 3.10134553\n",
      " 3.10134553 3.01229307 3.14893929 3.08595414 3.10134553 3.10134553\n",
      " 3.08595414 3.08595414 3.10134553 3.08595414 3.01229307 3.12487061\n",
      " 3.01229307 3.13283208 3.01229307 3.12487061 3.06329077 3.12487061\n",
      " 3.01229307 3.14893929 3.08595414 3.10134553 3.01229307 3.08595414\n",
      " 3.0411195  3.0411195  3.0411195  3.0411195  3.0411195  3.0411195\n",
      " 3.0411195  3.15708663 3.0411195  3.0411195  3.15708663 3.0411195\n",
      " 3.15708663 3.15708663 3.0411195  3.0411195  3.0411195  3.15708663\n",
      " 3.0411195  3.01229307 3.06329077 3.01229307 3.08595414 3.08595414\n",
      " 3.10134553 3.06329077 3.13283208 3.08595414 3.01229307 3.08595414\n",
      " 3.01229307 3.15708663 3.06329077 3.06329077 3.06329077 3.0411195\n",
      " 3.0411195  3.01229307 3.12487061 3.01229307 3.0411195  3.12487061\n",
      " 3.01229307 3.12487061 3.01229307 3.13283208 3.0411195  3.01229307\n",
      " 3.12487061 3.10134553 3.10134553 3.0411195  3.08595414 3.0411195\n",
      " 3.0411195  3.01229307 3.06329077 3.0411195  3.06329077 3.06329077\n",
      " 3.12487061 3.01229307 3.15708663 3.13283208 3.14893929 3.15708663\n",
      " 3.13283208 3.06329077 3.06329077 3.08595414 3.01229307 3.14893929\n",
      " 3.13283208 3.12487061 3.08595414 3.08595414 3.08595414 3.08595414\n",
      " 3.08595414 3.0411195  3.0411195  3.0411195  3.13283208 3.12487061\n",
      " 3.12487061 3.08595414 3.0411195  3.06329077 3.0411195  3.0411195\n",
      " 3.10134553 3.10134553 3.0411195  3.08595414 3.0411195  3.15708663\n",
      " 3.0411195  3.14893929 3.08595414 3.01229307 3.08595414 3.08595414\n",
      " 3.06329077 3.14893929 3.01229307 3.14893929 3.10134553 3.10134553\n",
      " 3.01229307 3.0411195  3.0411195  3.0411195  3.06329077 3.01229307\n",
      " 3.0411195  3.08595414 3.06329077 3.0411195  3.10134553 3.14893929\n",
      " 3.08595414 3.0411195  3.01229307 3.06329077 3.0411195  3.01229307\n",
      " 3.06329077 3.14893929 3.10134553 3.12487061 3.01229307 3.12487061\n",
      " 3.12487061 3.10134553 3.13283208]\n",
      "183\n"
     ]
    },
    {
     "data": {
      "image/png": "[encoded data removed]",
      "text/plain": [
       "<Figure size 432x288 with 1 Axes>"
      ]
     },
     "metadata": {
      "needs_background": "light"
     },
     "output_type": "display_data"
    },
    {
     "data": {
      "image/png": "[encoded data removed]",
      "text/plain": [
       "<Figure size 432x288 with 1 Axes>"
      ]
     },
     "metadata": {
      "needs_background": "light"
     },
     "output_type": "display_data"
    }
   ],
   "source": [
    "# Selected data for hitogram plotting\n",
    "\n",
    "%matplotlib inline\n",
    "\n",
    "##H Histogram Plot\n",
    "\n",
    "fig = px.bar(y=d_spacing_detected, labels={'x':'Peak no.', 'y':'d-spacing'})\n",
    "fig.show()\n",
    "\n",
    "d_111 = []\n",
    "\n",
    "for i in range(len(d_spacing_detected)):\n",
    "    if d_spacing_detected[i] > 3.0 and d_spacing_detected[i] < 3.2:\n",
    "        \n",
    "        d_111 = np.append(d_111, d_spacing_detected[i])\n",
    "\n",
    "print(d_111)\n",
    "print(len(d_111))\n",
    "#print(d_spacing_detected)\n",
    "plt.hist(d_spacing_detected, bins = 78,rwidth=1)\n",
    "plt.xlabel('Calculated d-spacing (Ang.)')\n",
    "plt.ylabel('Counts')\n",
    "plt.title('d-spacing histogram')\n",
    "\n",
    "plt.show()        \n",
    "\n",
    "plt.hist(d_111, bins = len(d_111),rwidth=0.5)\n",
    "plt.xlabel('Calculated d-spacing (Ang.)')\n",
    "plt.ylabel('Counts')\n",
    "plt.title('d-spacing histogram')\n",
    "\n",
    "plt.show()\n"
   ]
  },
  {
   "cell_type": "markdown",
   "metadata": {},
   "source": [
    "## Frequncy distribution plotting"
   ]
  },
  {
   "cell_type": "code",
   "execution_count": 258,
   "metadata": {},
   "outputs": [
    {
     "data": {
      "image/png": "[encoded data removed]",
      "text/plain": [
       "<Figure size 432x288 with 1 Axes>"
      ]
     },
     "metadata": {
      "needs_background": "light"
     },
     "output_type": "display_data"
    }
   ],
   "source": [
    "# Frequncy distribution plotting\n",
    "\n",
    "%matplotlib inline\n",
    "\n",
    "##H Histogram Plot\n",
    "\n",
    "#fig = px.bar(y=d_spacing_detected, labels={'x':'Peak no.', 'y':'d-spacing'})\n",
    "#fig.show()\n",
    "\n",
    "index_file_path_plot = str('NYF_index')\n",
    "index_data = genfromtxt(index_file_path_plot + str('.csv'), delimiter=',')\n",
    "\n",
    "d_spacing_A_plot = np.array(index_data[1:,0])\n",
    "i_h = np.array(index_data[1:,1])\n",
    "i_k = np.array(index_data[1:,2])\n",
    "i_l = np.array(index_data[1:,3])\n",
    "i_label_plot = np.array(index_data[1:,4])\n",
    "\n",
    "d_111 = []\n",
    "l_lim = 3.0\n",
    "h_lim = 3.16\n",
    "d_data = []\n",
    "i_lab = []\n",
    "\n",
    "for i in range(len(d_spacing_detected)):\n",
    "    if d_spacing_detected[i] > l_lim and d_spacing_detected[i] < h_lim:\n",
    "        \n",
    "        d_111 = np.append(d_111, d_spacing_detected[i])\n",
    "        \n",
    "for i in range(len(d_spacing_A_plot)):\n",
    "    if d_spacing_A_plot[i] > l_lim and d_spacing_A_plot[i] < h_lim:\n",
    "        \n",
    "        d_data = np.append(d_data, d_spacing_A_plot[i])\n",
    "        i_lab = np.append(i_lab, i_label_plot[i])\n",
    "        \n",
    "\n",
    "#print(d_111)\n",
    "#print(len(d_111))\n",
    "#print(d_spacing_detected)\n",
    "\n",
    "(unique, counts) = np.unique(d_111, return_counts=True)\n",
    "frequencies = np.asarray((unique, counts)).T\n",
    "#print(frequencies)\n",
    "\n",
    "#print(len(frequencies))\n",
    "\n",
    "fg = plt.figure()\n",
    "ax = fg.gca()\n",
    "\n",
    "\n",
    "for i in range(len(frequencies)):\n",
    "    \n",
    "    c_1 = (frequencies[i,0]-3.0)/(3.16-3.0)\n",
    "    c_gray_1 = c_1\n",
    "    spot_col_1 = (np.round((0+c_gray_1),2),0.0,np.round((1-c_gray_1),2),1)\n",
    "    \n",
    "    ax.bar(frequencies[i,0],frequencies[i,1]/np.max(frequencies[:,1]),width=0.005,color=spot_col_1)\n",
    "    \n",
    "    if i==len(frequencies)-2:\n",
    "        ax.text(frequencies[i,0]-0.0050,(frequencies[i,1]+2)/np.max(frequencies[:,1]),'%.2f'%frequencies[i,0])  \n",
    "    else:\n",
    "        ax.text(frequencies[i,0]-0.0050,(frequencies[i,1]+0.50)/np.max(frequencies[:,1]),'%.2f'%frequencies[i,0])\n",
    "    #ax.axhline(y=frequencies[i,1],xmin=0,xmax=(frequencies[i,0]-l_lim)/(h_lim-l_lim),color='k',linestyle='--')\n",
    "    \n",
    "#for j in range(len(d_data)):\n",
    "    #if i_lab[j] == 0:\n",
    "        #color_lab = 'k'\n",
    "        #leg_lab = '[0,0,2] - Hex. graphite'\n",
    "    #else:\n",
    "        #color_lab = 'b'\n",
    "        #leg_lab = '[1,0,0] - Cubic diamond'\n",
    "    #ax.axvline(x=d_data[j],color=color_lab,linestyle='--',label=leg_lab)\n",
    "ax.set_xlabel(r'd-spacing ($\\AA$)')\n",
    "ax.set_ylabel('Normalized Freqeuncy Distribution')\n",
    "ax.set_title(r'Frequency of d-spacing between %.2f and %.2f $\\AA$'%(l_lim,h_lim))\n",
    "#ax.legend(loc='upper right')\n",
    "#legend.set_draggable(True)\n",
    "ax.set_xlim(l_lim,h_lim+0.01)\n",
    "ax.set_ylim(0,1.2)\n",
    "ax.yaxis.set_major_locator(MaxNLocator(integer=True))\n",
    "plt.show()\n",
    "#fg.show()\n",
    "#fg.savefig('04-22-2021-Alex-Open-Histogram.eps',dpi=600)"
   ]
  }
 ],
 "metadata": {
  "kernelspec": {
   "display_name": "Python 3",
   "language": "python",
   "name": "python3"
  },
  "language_info": {
   "codemirror_mode": {
    "name": "ipython",
    "version": 3
   },
   "file_extension": ".py",
   "mimetype": "text/x-python",
   "name": "python",
   "nbconvert_exporter": "python",
   "pygments_lexer": "ipython3",
   "version": "3.8.5"
  },
  "varInspector": {
   "cols": {
    "lenName": 16,
    "lenType": 16,
    "lenVar": 40
   },
   "kernels_config": {
    "python": {
     "delete_cmd_postfix": "",
     "delete_cmd_prefix": "del ",
     "library": "var_list.py",
     "varRefreshCmd": "print(var_dic_list())"
    },
    "r": {
     "delete_cmd_postfix": ") ",
     "delete_cmd_prefix": "rm(",
     "library": "var_list.r",
     "varRefreshCmd": "cat(var_dic_list()) "
    }
   },
   "types_to_exclude": [
    "module",
    "function",
    "builtin_function_or_method",
    "instance",
    "_Feature"
   ],
   "window_display": false
  }
 },
 "nbformat": 4,
 "nbformat_minor": 4
}
